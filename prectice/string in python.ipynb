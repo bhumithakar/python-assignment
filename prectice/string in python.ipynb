{
 "cells": [
  {
   "cell_type": "code",
   "execution_count": 1,
   "id": "f804ffe9",
   "metadata": {},
   "outputs": [
    {
     "name": "stdout",
     "output_type": "stream",
     "text": [
      "Hello I am LEarning python\n"
     ]
    }
   ],
   "source": [
    "# # string\n",
    "# string is a collection which is defined in\n",
    "# ' '\n",
    "# \" \"\n",
    "# ''' '''\n",
    "# \"\"\" \"\"\"\n",
    "str1=\"Hello I am LEarning python\"\n",
    "print(str1)"
   ]
  },
  {
   "cell_type": "code",
   "execution_count": null,
   "id": "e456b0e7",
   "metadata": {},
   "outputs": [],
   "source": [
    "# string is immutable \n",
    "# immutable means changes not allowed"
   ]
  },
  {
   "cell_type": "code",
   "execution_count": 2,
   "id": "e6e7c737",
   "metadata": {},
   "outputs": [
    {
     "ename": "TypeError",
     "evalue": "'str' object does not support item assignment",
     "output_type": "error",
     "traceback": [
      "\u001b[1;31m---------------------------------------------------------------------------\u001b[0m",
      "\u001b[1;31mTypeError\u001b[0m                                 Traceback (most recent call last)",
      "Cell \u001b[1;32mIn[2], line 2\u001b[0m\n\u001b[0;32m      1\u001b[0m str1\u001b[38;5;241m=\u001b[39m\u001b[38;5;124m\"\u001b[39m\u001b[38;5;124mhello\u001b[39m\u001b[38;5;124m\"\u001b[39m\n\u001b[1;32m----> 2\u001b[0m str1[\u001b[38;5;241m1\u001b[39m]\u001b[38;5;241m=\u001b[39m\u001b[38;5;124m\"\u001b[39m\u001b[38;5;124mk\u001b[39m\u001b[38;5;124m\"\u001b[39m\n\u001b[0;32m      3\u001b[0m \u001b[38;5;28mprint\u001b[39m(str1[\u001b[38;5;241m1\u001b[39m])\n",
      "\u001b[1;31mTypeError\u001b[0m: 'str' object does not support item assignment"
     ]
    }
   ],
   "source": [
    "str1=\"hello\"\n",
    "str1[1]=\"k\"\n",
    "print(str1[1])"
   ]
  },
  {
   "cell_type": "code",
   "execution_count": 1,
   "id": "a51d4bb3",
   "metadata": {},
   "outputs": [
    {
     "name": "stdout",
     "output_type": "stream",
     "text": [
      "hello\n",
      "i am learning python\n",
      "i am learning\n"
     ]
    }
   ],
   "source": [
    "str1=\"hello i am learning python\"\n",
    "print(str1[:5])\n",
    "print(str1[6:])\n",
    "print(str1[6:19])"
   ]
  },
  {
   "cell_type": "code",
   "execution_count": 2,
   "id": "a7053ab0",
   "metadata": {},
   "outputs": [
    {
     "data": {
      "text/plain": [
       "['__add__',\n",
       " '__class__',\n",
       " '__contains__',\n",
       " '__delattr__',\n",
       " '__dir__',\n",
       " '__doc__',\n",
       " '__eq__',\n",
       " '__format__',\n",
       " '__ge__',\n",
       " '__getattribute__',\n",
       " '__getitem__',\n",
       " '__getnewargs__',\n",
       " '__gt__',\n",
       " '__hash__',\n",
       " '__init__',\n",
       " '__init_subclass__',\n",
       " '__iter__',\n",
       " '__le__',\n",
       " '__len__',\n",
       " '__lt__',\n",
       " '__mod__',\n",
       " '__mul__',\n",
       " '__ne__',\n",
       " '__new__',\n",
       " '__reduce__',\n",
       " '__reduce_ex__',\n",
       " '__repr__',\n",
       " '__rmod__',\n",
       " '__rmul__',\n",
       " '__setattr__',\n",
       " '__sizeof__',\n",
       " '__str__',\n",
       " '__subclasshook__',\n",
       " 'capitalize',\n",
       " 'casefold',\n",
       " 'center',\n",
       " 'count',\n",
       " 'encode',\n",
       " 'endswith',\n",
       " 'expandtabs',\n",
       " 'find',\n",
       " 'format',\n",
       " 'format_map',\n",
       " 'index',\n",
       " 'isalnum',\n",
       " 'isalpha',\n",
       " 'isascii',\n",
       " 'isdecimal',\n",
       " 'isdigit',\n",
       " 'isidentifier',\n",
       " 'islower',\n",
       " 'isnumeric',\n",
       " 'isprintable',\n",
       " 'isspace',\n",
       " 'istitle',\n",
       " 'isupper',\n",
       " 'join',\n",
       " 'ljust',\n",
       " 'lower',\n",
       " 'lstrip',\n",
       " 'maketrans',\n",
       " 'partition',\n",
       " 'removeprefix',\n",
       " 'removesuffix',\n",
       " 'replace',\n",
       " 'rfind',\n",
       " 'rindex',\n",
       " 'rjust',\n",
       " 'rpartition',\n",
       " 'rsplit',\n",
       " 'rstrip',\n",
       " 'split',\n",
       " 'splitlines',\n",
       " 'startswith',\n",
       " 'strip',\n",
       " 'swapcase',\n",
       " 'title',\n",
       " 'translate',\n",
       " 'upper',\n",
       " 'zfill']"
      ]
     },
     "execution_count": 2,
     "metadata": {},
     "output_type": "execute_result"
    }
   ],
   "source": [
    "# string methods\n",
    "str1=\"hello\"\n",
    "dir(str1)"
   ]
  },
  {
   "cell_type": "code",
   "execution_count": 3,
   "id": "11166d70",
   "metadata": {},
   "outputs": [
    {
     "name": "stdout",
     "output_type": "stream",
     "text": [
      "Hello i am learning hjkdhjdh python\n"
     ]
    }
   ],
   "source": [
    "# capitalize() ---capital first letter and smalls other letters\n",
    "str1=\"hello i am learning HJKDHJDH python\"\n",
    "str2=str1.capitalize()\n",
    "print(str1.capitalize())"
   ]
  },
  {
   "cell_type": "code",
   "execution_count": 4,
   "id": "2852878e",
   "metadata": {},
   "outputs": [
    {
     "name": "stdout",
     "output_type": "stream",
     "text": [
      "Hello I Am Learning Hjkdhjdh Python\n"
     ]
    }
   ],
   "source": [
    "# title()--first letter of every word in capital and\n",
    "# others letter of word in small\n",
    "str1=\"hello i am learning HJKDHJDH python\"\n",
    "print(str1.title())"
   ]
  },
  {
   "cell_type": "code",
   "execution_count": null,
   "id": "1b46ccdc",
   "metadata": {},
   "outputs": [],
   "source": [
    "str1=input(\"Enter Fullname: \")\n",
    "print(str1.title())"
   ]
  },
  {
   "cell_type": "code",
   "execution_count": null,
   "id": "ab71148a",
   "metadata": {},
   "outputs": [],
   "source": [
    "# lower()---changes whole string into lower case\n",
    "str1=\"erhnguj HBJKFEBDK jbgvjkb NBHJ -Ä -ÄKEDB cjhvrbfjhb ß  ggeFNJSF\"\n",
    "print(str1.lower())"
   ]
  },
  {
   "cell_type": "code",
   "execution_count": null,
   "id": "0e8fa31a",
   "metadata": {},
   "outputs": [],
   "source": [
    "# casefold()--changes whole string into lower case and its is powerful than lower\n",
    "str1=\"erhnguj HBJKFEBDK jbgvjkb NBHJKE -Ä -ÄDB cjhvrbfjhb ß  ggeFNJSF\"\n",
    "print(str1.casefold())"
   ]
  },
  {
   "cell_type": "code",
   "execution_count": null,
   "id": "bdfe3a49",
   "metadata": {},
   "outputs": [],
   "source": [
    "center(lenght,[character])--it will put the string in center of the\n",
    "# length mentioned and fill the balnk space with space and if we want to fill\n",
    "# other characters then we pass second parameter\n",
    "str1=\"dhgfk\"\n",
    "print(str1.center(50))\n",
    "print(str1.center(50,\"*\"))"
   ]
  },
  {
   "cell_type": "code",
   "execution_count": null,
   "id": "b1ca6d18",
   "metadata": {},
   "outputs": [],
   "source": [
    "# ljust(length,[character]) --it will put the string in left of the\n",
    "# length mentioned and fill the balnk space with space and if we want to fill\n",
    "# other characters then we pass second parameter\n",
    "str1=\"WER nerjgehrgj\"\n",
    "print(str1.ljust(50,\"*\"))"
   ]
  },
  {
   "cell_type": "code",
   "execution_count": null,
   "id": "35928f04",
   "metadata": {},
   "outputs": [],
   "source": [
    "# rjust(length,[character]) --it will put the string in right of the\n",
    "# length mentioned and fill the balnk space with space and if we want to fill\n",
    "# other characters then we pass second parameter\n",
    "str1=\"WER nerjgehrgj\"\n",
    "print(str1.rjust(50,\"*\"))"
   ]
  },
  {
   "cell_type": "code",
   "execution_count": null,
   "id": "c3b7048b",
   "metadata": {},
   "outputs": [],
   "source": [
    "# endswith(\"substring\",[start,stop])--it checks whether the string endswith the given substring or not\n",
    "str1=\"hello i am very very stron person what you believe\"\n",
    "print(str1.endswith(\"you believe\"))\n",
    "print(str1.endswith(\"stron\",15,26))"
   ]
  },
  {
   "cell_type": "code",
   "execution_count": null,
   "id": "31fc9aeb",
   "metadata": {},
   "outputs": [],
   "source": [
    "# expandtabs(lenght)--set the space inside the tabs\n",
    "str1=\"er\\tgerl\\tk mnjkg\\tb bkjtbk\".expandtabs(50)\n",
    "print(str1)"
   ]
  },
  {
   "cell_type": "code",
   "execution_count": 13,
   "id": "906473db",
   "metadata": {},
   "outputs": [
    {
     "name": "stdout",
     "output_type": "stream",
     "text": [
      "Enter the String :78y8\n",
      "8y87\n"
     ]
    }
   ],
   "source": [
    "str=input(\"Enter the String :\")\n",
    "if len(str) % 4 == 0:\n",
    "   print(''.join(reversed(str)))\n",
    "else:\n",
    "   print(str)"
   ]
  },
  {
   "cell_type": "code",
   "execution_count": 1,
   "id": "b901414e",
   "metadata": {},
   "outputs": [
    {
     "data": {
      "text/plain": [
       "'hello world'"
      ]
     },
     "execution_count": 1,
     "metadata": {},
     "output_type": "execute_result"
    }
   ],
   "source": [
    "str1=\"hello\"\n",
    "str2=\"world\"\n",
    "str1+\" \"+str2"
   ]
  },
  {
   "cell_type": "code",
   "execution_count": 2,
   "id": "392f8f42",
   "metadata": {},
   "outputs": [
    {
     "data": {
      "text/plain": [
       "0"
      ]
     },
     "execution_count": 2,
     "metadata": {},
     "output_type": "execute_result"
    }
   ],
   "source": [
    "# count(\"substring\",[start,stop])--gives the occurence of the substring inside \n",
    "# string and we can laso mention start and stop\n",
    "str1=\"hello i am very well in very food in learning and learn new language well\"\n",
    "str1.count(\"well\")\n",
    "str1.count(\"well\",25)\n",
    "str1.count(\"well\",25,32)"
   ]
  },
  {
   "cell_type": "code",
   "execution_count": 3,
   "id": "7bf2037d",
   "metadata": {},
   "outputs": [
    {
     "name": "stdout",
     "output_type": "stream",
     "text": [
      "8\n",
      "-1\n"
     ]
    }
   ],
   "source": [
    "# find(suvbstring)--return the index position of substring\n",
    "str1=\"Hello i am good\"\n",
    "print(str1.find(\"am\"))\n",
    "print(str1.find(\"very\")) #when substring not in string then it gives -1"
   ]
  },
  {
   "cell_type": "code",
   "execution_count": 4,
   "id": "ff7affdc",
   "metadata": {},
   "outputs": [
    {
     "name": "stdout",
     "output_type": "stream",
     "text": [
      "                     Python programming                      \n",
      "Python programming                      \n",
      "                     Python programming\n",
      "Python programming\n"
     ]
    }
   ],
   "source": [
    "str1=\"                     Python programming                      \"\n",
    "print(str1)\n",
    "print(str1.lstrip()) #removes left whitespaces\n",
    "print(str1.rstrip()) #removes right whitespaces\n",
    "print(str1.strip()) #removes left and right both whitespaces"
   ]
  },
  {
   "cell_type": "code",
   "execution_count": 1,
   "id": "25f7780e",
   "metadata": {},
   "outputs": [
    {
     "data": {
      "text/plain": [
       "('hello i am learning ', 'python', '')"
      ]
     },
     "execution_count": 1,
     "metadata": {},
     "output_type": "execute_result"
    }
   ],
   "source": [
    "# partition(substring)\n",
    "# string 3 parts 1st left of the substring\n",
    "# 2nd part substring itself\n",
    "# 3rd part right of the sub string\n",
    "str1=\"hello i am learning python\"\n",
    "str1.partition(\"python\")"
   ]
  },
  {
   "cell_type": "code",
   "execution_count": 1,
   "id": "37488c5d",
   "metadata": {},
   "outputs": [
    {
     "name": "stdout",
     "output_type": "stream",
     "text": [
      "hello world ok done wow\n"
     ]
    }
   ],
   "source": [
    "str1=\"hello this is good\"\n",
    "list1=[\"hello\",\"world\",\"ok\",\"done\",\"wow\"]\n",
    "print(\" \".join(list1))"
   ]
  },
  {
   "cell_type": "code",
   "execution_count": 2,
   "id": "612bb000",
   "metadata": {},
   "outputs": [
    {
     "name": "stdout",
     "output_type": "stream",
     "text": [
      "hello this is bad\n"
     ]
    }
   ],
   "source": [
    "str1=\"hello this is good\"\n",
    "print(str1.replace(\"good\",\"bad\"))"
   ]
  },
  {
   "cell_type": "code",
   "execution_count": 3,
   "id": "2db11f97",
   "metadata": {},
   "outputs": [
    {
     "name": "stdout",
     "output_type": "stream",
     "text": [
      "True\n"
     ]
    }
   ],
   "source": [
    "str1=\"hellothisisgoJKHGBKJF985769485od\"\n",
    "print(str1.isalnum())"
   ]
  },
  {
   "cell_type": "code",
   "execution_count": 4,
   "id": "62cbe99f",
   "metadata": {},
   "outputs": [
    {
     "name": "stdout",
     "output_type": "stream",
     "text": [
      "False\n"
     ]
    }
   ],
   "source": [
    "str1=\"rklg\\nhbgek £ rb76259873\"\n",
    "print(str1.isascii())"
   ]
  },
  {
   "cell_type": "code",
   "execution_count": 5,
   "id": "da7a5a71",
   "metadata": {},
   "outputs": [
    {
     "data": {
      "text/plain": [
       "True"
      ]
     },
     "execution_count": 5,
     "metadata": {},
     "output_type": "execute_result"
    }
   ],
   "source": [
    "str1=\"f569fbfbv\"\n",
    "str1.isidentifier()"
   ]
  },
  {
   "cell_type": "code",
   "execution_count": 6,
   "id": "43873bcb",
   "metadata": {},
   "outputs": [
    {
     "data": {
      "text/plain": [
       "True"
      ]
     },
     "execution_count": 6,
     "metadata": {},
     "output_type": "execute_result"
    }
   ],
   "source": [
    "str1=\"rgerg rev\"\n",
    "str1.islower()"
   ]
  },
  {
   "cell_type": "code",
   "execution_count": 7,
   "id": "72b4d7c8",
   "metadata": {},
   "outputs": [
    {
     "name": "stdout",
     "output_type": "stream",
     "text": [
      "erger\tevr\n",
      "False\n"
     ]
    }
   ],
   "source": [
    "str1=\"erger\\tevr\"\n",
    "print(str1)\n",
    "print(str1.isprintable())"
   ]
  },
  {
   "cell_type": "code",
   "execution_count": 8,
   "id": "943469c0",
   "metadata": {},
   "outputs": [
    {
     "name": "stdout",
     "output_type": "stream",
     "text": [
      "False\n"
     ]
    },
    {
     "data": {
      "text/plain": [
       "'True Is TruFe'"
      ]
     },
     "execution_count": 8,
     "metadata": {},
     "output_type": "execute_result"
    }
   ],
   "source": [
    "str1=\"True Is TruFe\"\n",
    "# print(str1.isspace())str1=\"\")\n",
    "print(str1.istitle())\n",
    "str1"
   ]
  },
  {
   "cell_type": "code",
   "execution_count": 9,
   "id": "9aa1437a",
   "metadata": {},
   "outputs": [
    {
     "name": "stdout",
     "output_type": "stream",
     "text": [
      "Enter String: rgrt\n",
      "trgr\n"
     ]
    }
   ],
   "source": [
    "str1=input(\"Enter String: \")\n",
    "if len(str1)%4==0:\n",
    "    print(str1[-1::-1])"
   ]
  },
  {
   "cell_type": "code",
   "execution_count": 1,
   "id": "e5efafac",
   "metadata": {},
   "outputs": [
    {
     "name": "stdout",
     "output_type": "stream",
     "text": [
      "['this is ', ' string']\n"
     ]
    }
   ],
   "source": [
    "# split()\n",
    "str1=\"this is my string\"\n",
    "list1=str1.split(\"my\")\n",
    "print(list1)"
   ]
  },
  {
   "cell_type": "code",
   "execution_count": 2,
   "id": "4ba2e0aa",
   "metadata": {},
   "outputs": [
    {
     "name": "stdout",
     "output_type": "stream",
     "text": [
      "['thiS', 'iS', 'mY', 'strinG']\n",
      "thiS iS mY strinG\n"
     ]
    }
   ],
   "source": [
    "str1=\"this is my string\"\n",
    "list2=[]\n",
    "list1=str1.split(\" \")\n",
    "for i in list1:\n",
    "    l2=list(i)\n",
    "    l2[-1]=l2[-1].upper()\n",
    "    str1=\"\".join(l2)\n",
    "    list2.append(str1)\n",
    "print(list2)\n",
    "str1=\" \".join(list2)\n",
    "print(str1)"
   ]
  },
  {
   "cell_type": "code",
   "execution_count": 3,
   "id": "f4c5194e",
   "metadata": {},
   "outputs": [
    {
     "name": "stdout",
     "output_type": "stream",
     "text": [
      "Enter Character: d\n",
      "consonant\n"
     ]
    }
   ],
   "source": [
    "a=input(\"Enter Character: \")\n",
    "if a in \"aeiouAEIOU\":\n",
    "    print(\"vowel\")\n",
    "else:\n",
    "    print(\"consonant\")"
   ]
  },
  {
   "cell_type": "code",
   "execution_count": 4,
   "id": "ec7c32e4",
   "metadata": {},
   "outputs": [
    {
     "data": {
      "text/plain": [
       "'hello world'"
      ]
     },
     "execution_count": 4,
     "metadata": {},
     "output_type": "execute_result"
    }
   ],
   "source": [
    "str1=\"hello\"\n",
    "str2=\"world\"\n",
    "str1+\" \"+str2"
   ]
  },
  {
   "cell_type": "code",
   "execution_count": 5,
   "id": "4925aa3e",
   "metadata": {},
   "outputs": [
    {
     "name": "stdout",
     "output_type": "stream",
     "text": [
      "helloefdmgketr\n",
      "ehlloefdmgkert\n"
     ]
    }
   ],
   "source": [
    "str1=\"helloefdmgkert\"\n",
    "str2=str1[:-2]+str1[-1]+str1[-2]\n",
    "str3=str1[1]+str2[0]+str1[2:]\n",
    "print(str2)\n",
    "print(str3)"
   ]
  },
  {
   "cell_type": "code",
   "execution_count": 6,
   "id": "7b54afee",
   "metadata": {},
   "outputs": [
    {
     "name": "stdout",
     "output_type": "stream",
     "text": [
      "ehllo owrld\n"
     ]
    }
   ],
   "source": [
    "str1=\"hello\"\n",
    "str2=\"world\"\n",
    "str1=str1[1]+str1[0]+str1[2:]\n",
    "str2=str2[1]+str2[0]+str2[2:]\n",
    "print(str1+\" \"+str2)"
   ]
  },
  {
   "cell_type": "code",
   "execution_count": 7,
   "id": "5ad1e90b",
   "metadata": {},
   "outputs": [
    {
     "name": "stdout",
     "output_type": "stream",
     "text": [
      "enter number: 4\n",
      "  -|-   \n",
      "-|- -|- \n",
      "-|- -|- -|- \n",
      "-|- -|- -|- -|- \n"
     ]
    }
   ],
   "source": [
    "n=input()\n",
    "nums=n.split(\" \")\n",
    "for i in range(1,int(nums[0])+1):\n",
    "    if i ==(i//2):\n",
    "    print(\"welcome\".center(nums[1],\"-\"))\n",
    "    elif \n",
    "    str1=\".|.\"*(i)\n",
    "    print(str1.center(int(nums[i]),\"-\"))"
   ]
  }
 ],
 "metadata": {
  "kernelspec": {
   "display_name": "Python 3 (ipykernel)",
   "language": "python",
   "name": "python3"
  },
  "language_info": {
   "codemirror_mode": {
    "name": "ipython",
    "version": 3
   },
   "file_extension": ".py",
   "mimetype": "text/x-python",
   "name": "python",
   "nbconvert_exporter": "python",
   "pygments_lexer": "ipython3",
   "version": "3.10.9"
  }
 },
 "nbformat": 4,
 "nbformat_minor": 5
}
