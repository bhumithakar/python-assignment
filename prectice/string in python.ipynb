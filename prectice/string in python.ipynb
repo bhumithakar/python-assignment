{
 "cells": [
  {
   "cell_type": "code",
   "execution_count": 1,
   "id": "f804ffe9",
   "metadata": {},
   "outputs": [
    {
     "name": "stdout",
     "output_type": "stream",
     "text": [
      "Hello I am LEarning python\n"
     ]
    }
   ],
   "source": [
    "# # string\n",
    "# string is a collection which is defined in\n",
    "# ' '\n",
    "# \" \"\n",
    "# ''' '''\n",
    "# \"\"\" \"\"\"\n",
    "str1=\"Hello I am LEarning python\"\n",
    "print(str1)"
   ]
  },
  {
   "cell_type": "code",
   "execution_count": null,
   "id": "e456b0e7",
   "metadata": {},
   "outputs": [],
   "source": [
    "# string is immutable \n",
    "# immutable means changes not allowed"
   ]
  },
  {
   "cell_type": "code",
   "execution_count": 2,
   "id": "e6e7c737",
   "metadata": {},
   "outputs": [
    {
     "ename": "TypeError",
     "evalue": "'str' object does not support item assignment",
     "output_type": "error",
     "traceback": [
      "\u001b[1;31m---------------------------------------------------------------------------\u001b[0m",
      "\u001b[1;31mTypeError\u001b[0m                                 Traceback (most recent call last)",
      "Cell \u001b[1;32mIn[2], line 2\u001b[0m\n\u001b[0;32m      1\u001b[0m str1\u001b[38;5;241m=\u001b[39m\u001b[38;5;124m\"\u001b[39m\u001b[38;5;124mhello\u001b[39m\u001b[38;5;124m\"\u001b[39m\n\u001b[1;32m----> 2\u001b[0m str1[\u001b[38;5;241m1\u001b[39m]\u001b[38;5;241m=\u001b[39m\u001b[38;5;124m\"\u001b[39m\u001b[38;5;124mk\u001b[39m\u001b[38;5;124m\"\u001b[39m\n\u001b[0;32m      3\u001b[0m \u001b[38;5;28mprint\u001b[39m(str1[\u001b[38;5;241m1\u001b[39m])\n",
      "\u001b[1;31mTypeError\u001b[0m: 'str' object does not support item assignment"
     ]
    }
   ],
   "source": [
    "str1=\"hello\"\n",
    "str1[1]=\"k\"\n",
    "print(str1[1])"
   ]
  },
  {
   "cell_type": "code",
   "execution_count": null,
   "id": "c3b7048b",
   "metadata": {},
   "outputs": [],
   "source": [
    "# endswith(\"substring\",[start,stop])--it checks whether the string endswith the given substring or not\n",
    "str1=\"hello i am very very stron person what you believe\"\n",
    "print(str1.endswith(\"you believe\"))\n",
    "print(str1.endswith(\"stron\",15,26))"
   ]
  },
  {
   "cell_type": "code",
   "execution_count": null,
   "id": "31fc9aeb",
   "metadata": {},
   "outputs": [],
   "source": [
    "# expandtabs(lenght)--set the space inside the tabs\n",
    "str1=\"er\\tgerl\\tk mnjkg\\tb bkjtbk\".expandtabs(50)\n",
    "print(str1)"
   ]
  },
  {
   "cell_type": "code",
   "execution_count": 13,
   "id": "906473db",
   "metadata": {},
   "outputs": [
    {
     "name": "stdout",
     "output_type": "stream",
     "text": [
      "Enter the String :78y8\n",
      "8y87\n"
     ]
    }
   ],
   "source": [
    "str=input(\"Enter the String :\")\n",
    "if len(str) % 4 == 0:\n",
    "   print(''.join(reversed(str)))\n",
    "else:\n",
    "   print(str)"
   ]
  }
 ],
 "metadata": {
  "kernelspec": {
   "display_name": "Python 3 (ipykernel)",
   "language": "python",
   "name": "python3"
  },
  "language_info": {
   "codemirror_mode": {
    "name": "ipython",
    "version": 3
   },
   "file_extension": ".py",
   "mimetype": "text/x-python",
   "name": "python",
   "nbconvert_exporter": "python",
   "pygments_lexer": "ipython3",
   "version": "3.10.9"
  }
 },
 "nbformat": 4,
 "nbformat_minor": 5
}
