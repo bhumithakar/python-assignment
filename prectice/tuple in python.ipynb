{
 "cells": [
  {
   "cell_type": "code",
   "execution_count": null,
   "id": "6a171605",
   "metadata": {},
   "outputs": [],
   "source": [
    "# tuple is a collection of element of similar or different datatype\n",
    "# tuple is also a ordered collection\n",
    "# tuple is immutable changes not allowed\n",
    "# tuple is defined in round braces\n",
    "# tuple is not changeable in both format means not asingle element or neither a collection"
   ]
  },
  {
   "cell_type": "code",
   "execution_count": null,
   "id": "ed1143f8",
   "metadata": {},
   "outputs": [],
   "source": [
    "# list=[]\n",
    "tup1=(45,58,23,True,\"String\",[45,36],(45,89),{41,20},{1:89})"
   ]
  },
  {
   "cell_type": "code",
   "execution_count": null,
   "id": "3b2c3d34",
   "metadata": {},
   "outputs": [],
   "source": [
    "print(tup1)\n",
    "print(tup1[3])\n",
    "print(tup1[4][0])\n",
    "tup1[4][0]=\"Great\"\n",
    "print(tup1)"
   ]
  },
  {
   "cell_type": "code",
   "execution_count": 6,
   "id": "3cb7a09d",
   "metadata": {},
   "outputs": [
    {
     "data": {
      "text/plain": [
       "5"
      ]
     },
     "execution_count": 6,
     "metadata": {},
     "output_type": "execute_result"
    }
   ],
   "source": [
    "tup1=(45,58,23,True,\"String\",[45,36],(45,89),{41,20},{1:89})\n",
    "tup1=(45,98,56,56,32,14,78.25,5,96.32)\n",
    "# tup1=(\"Wow\",\"great\",\"time\",\"python\")\n",
    "# tup1=(45,98,65,\"Wow\",\"hello\")\n",
    "# tup1=([45,36],(78,96),25)\n",
    "len(tup1)\n",
    "max(tup1)\n",
    "min(tup1)"
   ]
  },
  {
   "cell_type": "code",
   "execution_count": 7,
   "id": "d3c3fadc",
   "metadata": {},
   "outputs": [
    {
     "data": {
      "text/plain": [
       "(45, 89, 'hello')"
      ]
     },
     "execution_count": 7,
     "metadata": {},
     "output_type": "execute_result"
    }
   ],
   "source": [
    "tuple(range(45,98,6))\n",
    "tuple(\"Hello All\")\n",
    "tuple([45,89,\"hello\"])"
   ]
  },
  {
   "cell_type": "code",
   "execution_count": 8,
   "id": "68832d20",
   "metadata": {},
   "outputs": [
    {
     "name": "stdout",
     "output_type": "stream",
     "text": [
      "4\n"
     ]
    },
    {
     "ename": "IndexError",
     "evalue": "tuple index out of range",
     "output_type": "error",
     "traceback": [
      "\u001b[1;31m---------------------------------------------------------------------------\u001b[0m",
      "\u001b[1;31mIndexError\u001b[0m                                Traceback (most recent call last)",
      "Cell \u001b[1;32mIn[8], line 4\u001b[0m\n\u001b[0;32m      2\u001b[0m \u001b[38;5;28mprint\u001b[39m(tup1\u001b[38;5;241m.\u001b[39mindex(\u001b[38;5;241m54\u001b[39m))\n\u001b[0;32m      3\u001b[0m \u001b[38;5;66;03m# print(tup1.index(589))\u001b[39;00m\n\u001b[1;32m----> 4\u001b[0m \u001b[38;5;28mprint\u001b[39m(\u001b[43mtup1\u001b[49m\u001b[43m[\u001b[49m\u001b[38;5;241;43m589\u001b[39;49m\u001b[43m]\u001b[49m)\n",
      "\u001b[1;31mIndexError\u001b[0m: tuple index out of range"
     ]
    }
   ],
   "source": [
    "tup1=(45,89,65,32,54,78,\"HELLO\",54,\"great\")\n",
    "print(tup1.index(54))\n",
    "# print(tup1.index(589))\n",
    "print(tup1[589])"
   ]
  },
  {
   "cell_type": "code",
   "execution_count": 9,
   "id": "360a4dbc",
   "metadata": {},
   "outputs": [
    {
     "name": "stdout",
     "output_type": "stream",
     "text": [
      "2\n",
      "0\n"
     ]
    }
   ],
   "source": [
    "tup1=(45,89,65,32,54,78,\"HELLO\",54,\"great\")\n",
    "print(tup1.count(54))\n",
    "print(tup1.count(8965))"
   ]
  }
 ],
 "metadata": {
  "kernelspec": {
   "display_name": "Python 3 (ipykernel)",
   "language": "python",
   "name": "python3"
  },
  "language_info": {
   "codemirror_mode": {
    "name": "ipython",
    "version": 3
   },
   "file_extension": ".py",
   "mimetype": "text/x-python",
   "name": "python",
   "nbconvert_exporter": "python",
   "pygments_lexer": "ipython3",
   "version": "3.10.9"
  }
 },
 "nbformat": 4,
 "nbformat_minor": 5
}
