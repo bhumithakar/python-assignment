{
 "cells": [
  {
   "cell_type": "code",
   "execution_count": null,
   "id": "df02cc99",
   "metadata": {},
   "outputs": [],
   "source": [
    "# dictionary is acollection of elements having key and value pair\n",
    "# dictionary is unordered datatype\n",
    "# dictionary is defined in curly braces {}"
   ]
  },
  {
   "cell_type": "code",
   "execution_count": null,
   "id": "abd35318",
   "metadata": {},
   "outputs": [],
   "source": [
    "# dict1={key :value,key :value,key :value.........}"
   ]
  },
  {
   "cell_type": "code",
   "execution_count": null,
   "id": "3edac155",
   "metadata": {},
   "outputs": [],
   "source": [
    "# in value all datatypes is allowed\n",
    "# in key only immutable datatypes are allowed"
   ]
  },
  {
   "cell_type": "code",
   "execution_count": 1,
   "id": "2a226fd0",
   "metadata": {},
   "outputs": [
    {
     "name": "stdout",
     "output_type": "stream",
     "text": [
      "635250\n"
     ]
    }
   ],
   "source": [
    "user={\"name\":\" bhumi\",\"age\":21,\"email\":\"bthakar150002@gmail.com\",\"mobile\":635250}\n",
    "print(user[\"mobile\"])"
   ]
  },
  {
   "cell_type": "code",
   "execution_count": 2,
   "id": "35eb3e17",
   "metadata": {},
   "outputs": [
    {
     "name": "stdout",
     "output_type": "stream",
     "text": [
      "{1: 'wow', 2: 'hii', 3: 'hyy'}\n"
     ]
    }
   ],
   "source": [
    "dict1={1:\"hello\",2:\"hii\",3:\"hyy\",1:\"wow\"}\n",
    "print(dict1)"
   ]
  },
  {
   "cell_type": "code",
   "execution_count": 1,
   "id": "e773ed98",
   "metadata": {},
   "outputs": [
    {
     "name": "stdout",
     "output_type": "stream",
     "text": [
      "{1: 'great', 2: 'wow', 0: 'Change'}\n"
     ]
    }
   ],
   "source": [
    "dict1={1:\"HEYy\",2:\"wow\",True:\"great\",0:\"some\",False:\"Change\"}\n",
    "print(dict1)"
   ]
  },
  {
   "cell_type": "code",
   "execution_count": null,
   "id": "b17241b3",
   "metadata": {},
   "outputs": [],
   "source": [
    "['clear',\n",
    " 'copy',\n",
    " 'fromkeys',\n",
    " 'get',\n",
    " 'items',\n",
    " 'keys',\n",
    " 'pop',\n",
    " 'popitem',\n",
    " 'setdefault',\n",
    " 'update',\n",
    " 'values']\n",
    "\n",
    "# dictionary methods"
   ]
  },
  {
   "cell_type": "code",
   "execution_count": 3,
   "id": "9fff0787",
   "metadata": {},
   "outputs": [
    {
     "data": {
      "text/plain": [
       "dict_keys([1, 29, 43, 58])"
      ]
     },
     "execution_count": 3,
     "metadata": {},
     "output_type": "execute_result"
    }
   ],
   "source": [
    "# keys()---gives all key in a list\n",
    "dict1={1:45,29:89,43:48,58:963}\n",
    "dict1.keys()"
   ]
  },
  {
   "cell_type": "code",
   "execution_count": 4,
   "id": "939b7579",
   "metadata": {},
   "outputs": [
    {
     "data": {
      "text/plain": [
       "dict_values([45, 89, 48, 963])"
      ]
     },
     "execution_count": 4,
     "metadata": {},
     "output_type": "execute_result"
    }
   ],
   "source": [
    "# values()---gives list of all values\n",
    "dict1={1:45,29:89,43:48,58:963}\n",
    "dict1.values()"
   ]
  },
  {
   "cell_type": "code",
   "execution_count": 5,
   "id": "84e6c6bd",
   "metadata": {},
   "outputs": [
    {
     "data": {
      "text/plain": [
       "dict_items([(1, 45), (29, 89), (43, 48), (58, 963)])"
      ]
     },
     "execution_count": 5,
     "metadata": {},
     "output_type": "execute_result"
    }
   ],
   "source": [
    "# items()--gives list of tuples and one tuple have 2 elements one is key and other is value\n",
    "dict1={1:45,29:89,43:48,58:963}\n",
    "dict1.items()"
   ]
  },
  {
   "cell_type": "code",
   "execution_count": 6,
   "id": "a8e02438",
   "metadata": {},
   "outputs": [
    {
     "name": "stdout",
     "output_type": "stream",
     "text": [
      "{1: 45, 43: 48, 58: 963}\n"
     ]
    }
   ],
   "source": [
    "# pop()--removes element from given key\n",
    "dict1={1:45,29:89,43:48,58:963}\n",
    "dict1.pop(29)\n",
    "# dict1.pop(458) --gives key error\n",
    "print(dict1)"
   ]
  },
  {
   "cell_type": "code",
   "execution_count": 7,
   "id": "9112f5f1",
   "metadata": {},
   "outputs": [
    {
     "name": "stdout",
     "output_type": "stream",
     "text": [
      "{1: 45, 29: 89, 43: 48}\n"
     ]
    }
   ],
   "source": [
    "# popitem()--removes element of last inserted\n",
    "dict1={1:45,29:89,43:48,58:963}\n",
    "dict1.popitem()\n",
    "print(dict1)"
   ]
  },
  {
   "cell_type": "code",
   "execution_count": 8,
   "id": "7dc14d0d",
   "metadata": {},
   "outputs": [
    {
     "name": "stdout",
     "output_type": "stream",
     "text": [
      "ELEMENT NOT NAHI MILA\n",
      "{1: 45, 29: 89, 43: 48, 58: 963}\n"
     ]
    }
   ],
   "source": [
    "dict1={1:45,29:89,43:48,58:963}\n",
    "# print(dict1[458])\n",
    "print(dict1.get(458,\"ELEMENT NOT NAHI MILA\"))\n",
    "print(dict1)"
   ]
  },
  {
   "cell_type": "code",
   "execution_count": 9,
   "id": "97b23402",
   "metadata": {},
   "outputs": [
    {
     "name": "stdout",
     "output_type": "stream",
     "text": [
      "58\n",
      "{1: 45, 29: 89, 43: 48, 58: 963, 458: 58}\n"
     ]
    }
   ],
   "source": [
    "dict1={1:45,29:89,43:48,58:963}\n",
    "# print(dict1[458])\n",
    "print(dict1.setdefault(458,58))\n",
    "print(dict1)"
   ]
  },
  {
   "cell_type": "code",
   "execution_count": 10,
   "id": "0eeb02a6",
   "metadata": {},
   "outputs": [
    {
     "name": "stdout",
     "output_type": "stream",
     "text": [
      "{'w': 'hello', 'e': 'hello', 'q': 'hello', 'f': 'hello', 'r': 'hello', 'b': 'hello', ' ': 'hello', 'k': 'hello', 'j': 'hello', 'h': 'hello'}\n"
     ]
    }
   ],
   "source": [
    "list1=\"weqferb kjhbfker\"\n",
    "value=\"hello\"\n",
    "dict1=dict.fromkeys(list1,value) #converts iterable and values into dictionary\n",
    "print(dict1)"
   ]
  },
  {
   "cell_type": "code",
   "execution_count": 11,
   "id": "52730f87",
   "metadata": {},
   "outputs": [
    {
     "name": "stdout",
     "output_type": "stream",
     "text": [
      "{45: 56, 25: 89, 145: 'Hello', 254: 'Wolrd'}\n"
     ]
    }
   ],
   "source": [
    "dict1={45:56,25:89}\n",
    "dict1.update({145:\"Hello\",254:\"Wolrd\"})\n",
    "print(dict1)"
   ]
  }
 ],
 "metadata": {
  "kernelspec": {
   "display_name": "Python 3 (ipykernel)",
   "language": "python",
   "name": "python3"
  },
  "language_info": {
   "codemirror_mode": {
    "name": "ipython",
    "version": 3
   },
   "file_extension": ".py",
   "mimetype": "text/x-python",
   "name": "python",
   "nbconvert_exporter": "python",
   "pygments_lexer": "ipython3",
   "version": "3.10.9"
  }
 },
 "nbformat": 4,
 "nbformat_minor": 5
}
