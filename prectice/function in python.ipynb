{
 "cells": [
  {
   "cell_type": "code",
   "execution_count": 8,
   "id": "60ecf17f",
   "metadata": {},
   "outputs": [
    {
     "name": "stdout",
     "output_type": "stream",
     "text": [
      "enter value8\n",
      "1\n",
      "2\n",
      "4\n"
     ]
    }
   ],
   "source": [
    "a=int(input(\"enter value\"))\n",
    "for i in range(1, a):\n",
    "    if a % i == 0:\n",
    "        print(i)"
   ]
  },
  {
   "cell_type": "code",
   "execution_count": null,
   "id": "e80e4ef8",
   "metadata": {},
   "outputs": [],
   "source": [
    "# types of argument\n",
    "# 1.positional argument\n",
    "# 2.keyword argument\n",
    "# 3.degault argument\n",
    "# 4.arbitrary argument\n",
    "# 5.arbitrary positional argument"
   ]
  },
  {
   "cell_type": "code",
   "execution_count": 1,
   "id": "97252e30",
   "metadata": {},
   "outputs": [],
   "source": [
    "#positional argument\n",
    "def demo(m,p):\n",
    "    print(f\"value of m is{m} and value of p is{p}\")"
   ]
  },
  {
   "cell_type": "code",
   "execution_count": 2,
   "id": "97b6f639",
   "metadata": {},
   "outputs": [
    {
     "name": "stdout",
     "output_type": "stream",
     "text": [
      "value of m ishello and value of p is89.36\n"
     ]
    }
   ],
   "source": [
    "demo(\"hello\",89.36)"
   ]
  },
  {
   "cell_type": "code",
   "execution_count": 3,
   "id": "f62faf17",
   "metadata": {},
   "outputs": [],
   "source": [
    "#keyword argument\n",
    "def demo(m,p,x,z):\n",
    "    print(f\"value of m is{m} and value of p is{p} {x} {z}\")"
   ]
  },
  {
   "cell_type": "code",
   "execution_count": 4,
   "id": "23606572",
   "metadata": {},
   "outputs": [
    {
     "name": "stdout",
     "output_type": "stream",
     "text": [
      "value of m is89 and value of p is36 wow 58.36\n"
     ]
    }
   ],
   "source": [
    "demo(89,36,z=58.36,x=\"wow\")"
   ]
  },
  {
   "cell_type": "code",
   "execution_count": 5,
   "id": "ea9aed2f",
   "metadata": {},
   "outputs": [],
   "source": [
    "#default argument\n",
    "def greeting(name=\"wjdk\"):\n",
    "    print(f\"good morning mr. {name}\")"
   ]
  },
  {
   "cell_type": "code",
   "execution_count": 6,
   "id": "11bec5bb",
   "metadata": {},
   "outputs": [
    {
     "name": "stdout",
     "output_type": "stream",
     "text": [
      "good morning mr. wjdk\n"
     ]
    }
   ],
   "source": [
    "greeting()"
   ]
  },
  {
   "cell_type": "code",
   "execution_count": 7,
   "id": "c7a52432",
   "metadata": {},
   "outputs": [],
   "source": [
    "#arbitrary positional argument --- * values tuple format\n",
    "def depth(w,k,*d):\n",
    "    print(w,k,d[2])"
   ]
  },
  {
   "cell_type": "code",
   "execution_count": 8,
   "id": "f342b455",
   "metadata": {},
   "outputs": [
    {
     "name": "stdout",
     "output_type": "stream",
     "text": [
      "45 46 55\n"
     ]
    }
   ],
   "source": [
    "depth(45,46,66,77,55,47,97)"
   ]
  },
  {
   "cell_type": "code",
   "execution_count": 9,
   "id": "e9aa013f",
   "metadata": {},
   "outputs": [],
   "source": [
    "#arbitrary keyword argument ** dictionary\n",
    "def volley(m, **t):\n",
    "    print(m,t)"
   ]
  },
  {
   "cell_type": "code",
   "execution_count": 10,
   "id": "ef82f299",
   "metadata": {},
   "outputs": [
    {
     "name": "stdout",
     "output_type": "stream",
     "text": [
      "87.24 {'t': 'hello', 'z': 'happy', 'i': 'python'}\n"
     ]
    }
   ],
   "source": [
    "volley(t=\"hello\",m=87.24,z=\"happy\",i=\"python\")"
   ]
  },
  {
   "cell_type": "code",
   "execution_count": null,
   "id": "12568168",
   "metadata": {},
   "outputs": [],
   "source": [
    "modules ---collection of function or variable in a file\n",
    "package ---collection of modules _int_.py ---library\n",
    "library --- collection of package"
   ]
  }
 ],
 "metadata": {
  "kernelspec": {
   "display_name": "Python 3 (ipykernel)",
   "language": "python",
   "name": "python3"
  },
  "language_info": {
   "codemirror_mode": {
    "name": "ipython",
    "version": 3
   },
   "file_extension": ".py",
   "mimetype": "text/x-python",
   "name": "python",
   "nbconvert_exporter": "python",
   "pygments_lexer": "ipython3",
   "version": "3.10.9"
  }
 },
 "nbformat": 4,
 "nbformat_minor": 5
}
