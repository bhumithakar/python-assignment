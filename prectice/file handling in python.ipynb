{
 "cells": [
  {
   "cell_type": "code",
   "execution_count": 1,
   "id": "b37abc0a",
   "metadata": {},
   "outputs": [
    {
     "name": "stdout",
     "output_type": "stream",
     "text": [
      "1 4\n",
      "2 8\n",
      "3 9\n"
     ]
    }
   ],
   "source": [
    "list1=[1,2,3]\n",
    "list2=[4,8,9]\n",
    "for i,j in zip(list1,list2):\n",
    "    print(i,j)"
   ]
  },
  {
   "cell_type": "code",
   "execution_count": null,
   "id": "a15fc92a",
   "metadata": {},
   "outputs": [],
   "source": [
    "file handling\n",
    "file open\n",
    "file task or work\n",
    "file close"
   ]
  },
  {
   "cell_type": "code",
   "execution_count": null,
   "id": "71d01c8b",
   "metadata": {},
   "outputs": [],
   "source": [
    "# file=open(\"Filename\",\"mode\")\n",
    "# modes in files in python\n",
    "\n",
    "# read---r---if file you want to open for reading purpose exists then it open for reading purpose \n",
    "# otherwise if not exist then it gives error\n",
    "\n",
    "# write---w---if file exist then it open for writing purpose and all old content will be deleted\n",
    "# and if file not present then it creates a new file for writing purpose\n",
    "\n",
    "# append---a---if file exist then it open for writing purpose and all old content will not be deleted\n",
    "# and if file not present then it creates a new file for writing purpose"
   ]
  },
  {
   "cell_type": "code",
   "execution_count": null,
   "id": "62f88843",
   "metadata": {},
   "outputs": [],
   "source": [
    "# file close\n",
    "\n",
    "# file.close(`)"
   ]
  },
  {
   "cell_type": "code",
   "execution_count": null,
   "id": "d4e6c6d7",
   "metadata": {},
   "outputs": [],
   "source": [
    "file=open(\"demo.txt\",\"w\")\n",
    "file.write(\"Hello this will be entered in file\")\n",
    "file.close()"
   ]
  },
  {
   "cell_type": "code",
   "execution_count": null,
   "id": "2ec20571",
   "metadata": {},
   "outputs": [],
   "source": [
    "file=open(\"demo.txt\",\"w\")\n",
    "file.write(\"weghrv jehgverjhgv\")\n",
    "file.close()"
   ]
  },
  {
   "cell_type": "code",
   "execution_count": null,
   "id": "3b0f5a8d",
   "metadata": {},
   "outputs": [],
   "source": [
    "file=open(\"demo.txt\",\"a\")\n",
    "file.write(\"new content\")\n",
    "file.close()"
   ]
  },
  {
   "cell_type": "code",
   "execution_count": null,
   "id": "8988b119",
   "metadata": {},
   "outputs": [],
   "source": [
    "file=open(\"demo.txt\",\"r\")\n",
    "# print(file.read())\n",
    "# print(file.read(10))\n",
    "print(file.read(450))\n",
    "file.close()"
   ]
  },
  {
   "cell_type": "code",
   "execution_count": null,
   "id": "3f309abb",
   "metadata": {},
   "outputs": [],
   "source": [
    "file=open(\"demo.txt\",\"r\")\n",
    "print(file.readline())\n",
    "print(file.readline())\n",
    "file.close()"
   ]
  },
  {
   "cell_type": "code",
   "execution_count": null,
   "id": "cae5b7d2",
   "metadata": {},
   "outputs": [],
   "source": [
    "r+\n",
    "w+\n",
    "a+\n",
    "x"
   ]
  },
  {
   "cell_type": "code",
   "execution_count": null,
   "id": "a49198e2",
   "metadata": {},
   "outputs": [],
   "source": [
    "this is my file\\nthis will be great language"
   ]
  },
  {
   "cell_type": "code",
   "execution_count": null,
   "id": "a21f0142",
   "metadata": {},
   "outputs": [],
   "source": [
    "file=open(\"demo2.txt\",\"a+\")\n",
    "file.write(\"this is my file\\nthis will be great language\")\n",
    "print(file.readline())\n",
    "file.close()"
   ]
  },
  {
   "cell_type": "code",
   "execution_count": 5,
   "id": "de9408b8",
   "metadata": {},
   "outputs": [
    {
     "name": "stdout",
     "output_type": "stream",
     "text": [
      "this is my file\n",
      "\n"
     ]
    }
   ],
   "source": [
    "file=open(\"demo3.txt\",\"w\")\n",
    "file.write(\"this is my file\\nthis will be great language\")\n",
    "file=open(\"demo3.txt\",\"r\")\n",
    "print(file.readline())"
   ]
  },
  {
   "cell_type": "code",
   "execution_count": 6,
   "id": "adb90229",
   "metadata": {},
   "outputs": [
    {
     "name": "stdout",
     "output_type": "stream",
     "text": [
      "hello\n",
      "wolrd\n"
     ]
    }
   ],
   "source": [
    "print(\"hello\\nwolrd\")"
   ]
  },
  {
   "cell_type": "code",
   "execution_count": null,
   "id": "d7972178",
   "metadata": {},
   "outputs": [],
   "source": [
    "print(\"1.pizza    price = 150rs/pcs\\n\")\n",
    "print(\"2.burger   price = 70rs/pcs\\n\")\n",
    "print(\"3.dosa     price = 100rs/pcs\\n\")\n",
    "print(\"4.idli     price = 50rs/pcs\\n\")\n",
    "print(\"4.cake     price = 150rs/pcs\\n\")\n",
    "    \n",
    "\n",
    "print=int(input(\"enter your choice  :\"))\n",
    "choise = 0\n",
    "quantity = 0\n",
    "\n",
    "if (choise == 1):\n",
    "    print(\"you have selected pizza \\n\")\n",
    "    \n",
    "\n",
    "elif (choise == 2):\n",
    "    print(\"you have selected burger \\n\")\n",
    "elif (choise == 3):\n",
    "    print(\"you have selected dosa \\n\")\n",
    "elif (choise == 4):\n",
    "    print(\"you have selected burger \\n\")\n",
    "elif (choise == 5):\n",
    "    print(\"you have selected idli \\n\")\n",
    "\n",
    "print=int(input(\"enter Quantity: \\n\"))    \n",
    "\n",
    "if (choise == 1):\n",
    "    amount = quantity * 150\n",
    "    \n",
    "elif (choise == 2):\n",
    "    amount = quantity * 70\n",
    "\n",
    "elif (choise == 3):\n",
    "    amount = quantity * 100\n",
    "\n",
    "elif (choise == 4):\n",
    "    amount = quantity * 50\n",
    "\n",
    "elif (choise == 5):\n",
    "    amount = quantity * 150\n",
    "\n",
    "\n",
    "print(total_amount += amount )\n",
    "print(f\"amount =  {amount}\")\n",
    "print(f\"total_amount =  {total_amount}\")\n",
    "print=input(\" do you want to plce more oders? y or n :\")\n",
    "    \n",
    "\n",
    "    \n",
    "if (option == 'y'):\n",
    "    print(\"start\")\n",
    "else:\n",
    "    print(f\"total bill is {total_amount}\")\n",
    "    print(\"visit again \")"
   ]
  }
 ],
 "metadata": {
  "kernelspec": {
   "display_name": "Python 3 (ipykernel)",
   "language": "python",
   "name": "python3"
  },
  "language_info": {
   "codemirror_mode": {
    "name": "ipython",
    "version": 3
   },
   "file_extension": ".py",
   "mimetype": "text/x-python",
   "name": "python",
   "nbconvert_exporter": "python",
   "pygments_lexer": "ipython3",
   "version": "3.10.9"
  }
 },
 "nbformat": 4,
 "nbformat_minor": 5
}
