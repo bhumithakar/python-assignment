{
 "cells": [
  {
   "cell_type": "code",
   "execution_count": null,
   "id": "6145887b",
   "metadata": {},
   "outputs": [],
   "source": [
    "# DRY--don't repeat yourself\n",
    "\n",
    "def functionname([parameters]):\n",
    "    gferg\n",
    "    ergerg\n",
    "    ergerg\n",
    "    body of the function\n",
    "    [return value]\n",
    "    \n",
    "    \n",
    "# identifier rule"
   ]
  },
  {
   "cell_type": "code",
   "execution_count": 1,
   "id": "4009bf35",
   "metadata": {},
   "outputs": [],
   "source": [
    "def demo():\n",
    "    print(\"Hello This is abasic function\")"
   ]
  },
  {
   "cell_type": "code",
   "execution_count": 2,
   "id": "72cfec19",
   "metadata": {},
   "outputs": [
    {
     "name": "stdout",
     "output_type": "stream",
     "text": [
      "Hello This is abasic function\n",
      "Hello This is abasic function\n"
     ]
    }
   ],
   "source": [
    "demo()\n",
    "demo()"
   ]
  },
  {
   "cell_type": "code",
   "execution_count": 4,
   "id": "c0e5b013",
   "metadata": {},
   "outputs": [],
   "source": [
    "def demo2(a,b,c):\n",
    "    print(a,b,c)"
   ]
  },
  {
   "cell_type": "code",
   "execution_count": null,
   "id": "7654768a",
   "metadata": {},
   "outputs": [],
   "source": [
    "demo2(89)\n",
    "# demo2(\"jferijgrthbn\")"
   ]
  },
  {
   "cell_type": "code",
   "execution_count": 6,
   "id": "c6afa5e2",
   "metadata": {},
   "outputs": [
    {
     "name": "stdout",
     "output_type": "stream",
     "text": [
      "hello [45, 89] {89, 25}\n"
     ]
    }
   ],
   "source": [
    "demo2(\"hello\",[45,89],{89,25})"
   ]
  },
  {
   "cell_type": "code",
   "execution_count": 8,
   "id": "56fcca97",
   "metadata": {},
   "outputs": [],
   "source": [
    "def great(a):\n",
    "    return a**3"
   ]
  },
  {
   "cell_type": "code",
   "execution_count": 9,
   "id": "49841f5e",
   "metadata": {},
   "outputs": [
    {
     "name": "stdout",
     "output_type": "stream",
     "text": [
      "8\n"
     ]
    }
   ],
   "source": [
    "z=great(2)\n",
    "print(z)"
   ]
  },
  {
   "cell_type": "code",
   "execution_count": 10,
   "id": "f8e8610b",
   "metadata": {},
   "outputs": [],
   "source": [
    "def check():\n",
    "    print(\"1\")\n",
    "    print(\"2\")    \n",
    "    print(\"3\") \n",
    "    \n",
    "    print(\"4\")    \n",
    "    print(\"5\")  \n",
    "    return \"hello\""
   ]
  },
  {
   "cell_type": "code",
   "execution_count": 11,
   "id": "131b34a5",
   "metadata": {},
   "outputs": [
    {
     "name": "stdout",
     "output_type": "stream",
     "text": [
      "1\n",
      "2\n",
      "3\n",
      "4\n",
      "5\n"
     ]
    },
    {
     "data": {
      "text/plain": [
       "'hello'"
      ]
     },
     "execution_count": 11,
     "metadata": {},
     "output_type": "execute_result"
    }
   ],
   "source": [
    "check()"
   ]
  },
  {
   "cell_type": "code",
   "execution_count": null,
   "id": "f5cd59a9",
   "metadata": {},
   "outputs": [],
   "source": [
    "# types of parameters\n",
    "check(\"hwgfh\")"
   ]
  },
  {
   "cell_type": "code",
   "execution_count": null,
   "id": "1c6e10a6",
   "metadata": {},
   "outputs": [],
   "source": [
    "def fun1(a):\n",
    "    if a==a[::-1]:\n",
    "        return \"aplindrome\"\n",
    "    else:\n",
    "        return \"Not palindrome\""
   ]
  },
  {
   "cell_type": "code",
   "execution_count": null,
   "id": "c6068753",
   "metadata": {},
   "outputs": [],
   "source": [
    "var=input(\"Enter A string\")\n",
    "ans=fun1(var)\n",
    "print(ans)"
   ]
  },
  {
   "cell_type": "code",
   "execution_count": null,
   "id": "1384576c",
   "metadata": {},
   "outputs": [],
   "source": [
    "print(fun1(\"regerg\"))"
   ]
  },
  {
   "cell_type": "code",
   "execution_count": null,
   "id": "a87d0413",
   "metadata": {},
   "outputs": [],
   "source": [
    "fun1(\"mam\")"
   ]
  },
  {
   "cell_type": "code",
   "execution_count": 8,
   "id": "60ecf17f",
   "metadata": {},
   "outputs": [
    {
     "name": "stdout",
     "output_type": "stream",
     "text": [
      "enter value8\n",
      "1\n",
      "2\n",
      "4\n"
     ]
    }
   ],
   "source": [
    "a=int(input(\"enter value\"))\n",
    "for i in range(1, a):\n",
    "    if a % i == 0:\n",
    "        print(i)"
   ]
  },
  {
   "cell_type": "code",
   "execution_count": null,
   "id": "e80e4ef8",
   "metadata": {},
   "outputs": [],
   "source": [
    "# types of argument\n",
    "# 1.positional argument\n",
    "# 2.keyword argument\n",
    "# 3.degault argument\n",
    "# 4.arbitrary argument\n",
    "# 5.arbitrary positional argument"
   ]
  },
  {
   "cell_type": "code",
   "execution_count": 1,
   "id": "97252e30",
   "metadata": {},
   "outputs": [],
   "source": [
    "#positional argument\n",
    "def demo(m,p):\n",
    "    print(f\"value of m is{m} and value of p is{p}\")"
   ]
  },
  {
   "cell_type": "code",
   "execution_count": 2,
   "id": "97b6f639",
   "metadata": {},
   "outputs": [
    {
     "name": "stdout",
     "output_type": "stream",
     "text": [
      "value of m ishello and value of p is89.36\n"
     ]
    }
   ],
   "source": [
    "demo(\"hello\",89.36)"
   ]
  },
  {
   "cell_type": "code",
   "execution_count": 3,
   "id": "f62faf17",
   "metadata": {},
   "outputs": [],
   "source": [
    "#keyword argument\n",
    "def demo(m,p,x,z):\n",
    "    print(f\"value of m is{m} and value of p is{p} {x} {z}\")"
   ]
  },
  {
   "cell_type": "code",
   "execution_count": 4,
   "id": "23606572",
   "metadata": {},
   "outputs": [
    {
     "name": "stdout",
     "output_type": "stream",
     "text": [
      "value of m is89 and value of p is36 wow 58.36\n"
     ]
    }
   ],
   "source": [
    "demo(89,36,z=58.36,x=\"wow\")"
   ]
  },
  {
   "cell_type": "code",
   "execution_count": 5,
   "id": "ea9aed2f",
   "metadata": {},
   "outputs": [],
   "source": [
    "#default argument\n",
    "def greeting(name=\"wjdk\"):\n",
    "    print(f\"good morning mr. {name}\")"
   ]
  },
  {
   "cell_type": "code",
   "execution_count": 6,
   "id": "11bec5bb",
   "metadata": {},
   "outputs": [
    {
     "name": "stdout",
     "output_type": "stream",
     "text": [
      "good morning mr. wjdk\n"
     ]
    }
   ],
   "source": [
    "greeting()"
   ]
  },
  {
   "cell_type": "code",
   "execution_count": 7,
   "id": "c7a52432",
   "metadata": {},
   "outputs": [],
   "source": [
    "#arbitrary positional argument --- * values tuple format\n",
    "def depth(w,k,*d):\n",
    "    print(w,k,d[2])"
   ]
  },
  {
   "cell_type": "code",
   "execution_count": 8,
   "id": "f342b455",
   "metadata": {},
   "outputs": [
    {
     "name": "stdout",
     "output_type": "stream",
     "text": [
      "45 46 55\n"
     ]
    }
   ],
   "source": [
    "depth(45,46,66,77,55,47,97)"
   ]
  },
  {
   "cell_type": "code",
   "execution_count": 9,
   "id": "e9aa013f",
   "metadata": {},
   "outputs": [],
   "source": [
    "#arbitrary keyword argument ** dictionary\n",
    "def volley(m, **t):\n",
    "    print(m,t)"
   ]
  },
  {
   "cell_type": "code",
   "execution_count": 10,
   "id": "ef82f299",
   "metadata": {},
   "outputs": [
    {
     "name": "stdout",
     "output_type": "stream",
     "text": [
      "87.24 {'t': 'hello', 'z': 'happy', 'i': 'python'}\n"
     ]
    }
   ],
   "source": [
    "volley(t=\"hello\",m=87.24,z=\"happy\",i=\"python\")"
   ]
  },
  {
   "cell_type": "code",
   "execution_count": null,
   "id": "12568168",
   "metadata": {},
   "outputs": [],
   "source": [
    "modules ---collection of function or variable in a file\n",
    "package ---collection of modules _int_.py ---library\n",
    "library --- collection of package"
   ]
  }
 ],
 "metadata": {
  "kernelspec": {
   "display_name": "Python 3 (ipykernel)",
   "language": "python",
   "name": "python3"
  },
  "language_info": {
   "codemirror_mode": {
    "name": "ipython",
    "version": 3
   },
   "file_extension": ".py",
   "mimetype": "text/x-python",
   "name": "python",
   "nbconvert_exporter": "python",
   "pygments_lexer": "ipython3",
   "version": "3.10.9"
  }
 },
 "nbformat": 4,
 "nbformat_minor": 5
}
