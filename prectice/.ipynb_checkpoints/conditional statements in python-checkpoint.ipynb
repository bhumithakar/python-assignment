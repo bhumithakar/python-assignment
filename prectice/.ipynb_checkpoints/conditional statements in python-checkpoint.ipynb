{
 "cells": [
  {
   "cell_type": "code",
   "execution_count": null,
   "id": "b4ab29fb",
   "metadata": {},
   "outputs": [],
   "source": [
    "# conditional statments\n",
    "simple if\n",
    "if else\n",
    "if elif elif elif.......else ladder if else\n",
    "nested if else"
   ]
  },
  {
   "cell_type": "code",
   "execution_count": null,
   "id": "9c65cb57",
   "metadata": {},
   "outputs": [],
   "source": [
    "# simple if\n",
    "if condition:\n",
    "    thrthrththrthrth\n",
    "    rthhrthrthrthrth\n",
    "    rthrthrthrthrthrt\n",
    "    rthrthrthrthrt\n",
    "    rhhrthrthrthrt\n",
    "    hrthrthrhhrth"
   ]
  },
  {
   "cell_type": "code",
   "execution_count": 9,
   "id": "ef1b263d",
   "metadata": {},
   "outputs": [
    {
     "name": "stdout",
     "output_type": "stream",
     "text": [
      "Enter Age: 12\n"
     ]
    }
   ],
   "source": [
    "age=int(input(\"Enter Age: \"))\n",
    "if age>18:\n",
    "    print(\"Adult\")"
   ]
  },
  {
   "cell_type": "code",
   "execution_count": null,
   "id": "88189fd8",
   "metadata": {},
   "outputs": [],
   "source": [
    "# if else:\n",
    "if condition:\n",
    "    body\n",
    "else:\n",
    "    body"
   ]
  },
  {
   "cell_type": "code",
   "execution_count": 10,
   "id": "3e7f9277",
   "metadata": {},
   "outputs": [
    {
     "name": "stdout",
     "output_type": "stream",
     "text": [
      "Enter Age: 12\n",
      "Young\n"
     ]
    }
   ],
   "source": [
    "age=int(input(\"Enter Age: \"))\n",
    "if age>18:\n",
    "    print(\"Adult\")\n",
    "else:\n",
    "    print(\"Young\")"
   ]
  },
  {
   "cell_type": "code",
   "execution_count": 10,
   "id": "ac5931f1",
   "metadata": {
    "scrolled": true
   },
   "outputs": [
    {
     "name": "stdout",
     "output_type": "stream",
     "text": [
      "enter number44\n",
      "{num} are even\n"
     ]
    }
   ],
   "source": [
    "num=int(input(\"enter number\"))\n",
    "if (num%2==0):\n",
    "    print(\"{num} are even\")\n",
    "else:\n",
    "    print(\"{num} are odd\")"
   ]
  },
  {
   "cell_type": "code",
   "execution_count": null,
   "id": "7dab4fec",
   "metadata": {},
   "outputs": [],
   "source": [
    "# ladder if else\n",
    "if condition1:\n",
    "    body\n",
    "elif condition2:\n",
    "    body\n",
    "elif condition3:\n",
    "    body"
   ]
  },
  {
   "cell_type": "code",
   "execution_count": 11,
   "id": "eb747f0c",
   "metadata": {},
   "outputs": [
    {
     "name": "stdout",
     "output_type": "stream",
     "text": [
      "Enter A Number: 34\n",
      "Positive\n"
     ]
    }
   ],
   "source": [
    "num=int(input(\"Enter A Number: \"))\n",
    "if num>0:\n",
    "    print(\"Positive\")\n",
    "elif num<0:\n",
    "    print(\"negative\")\n",
    "else:\n",
    "    print(\"Zero\")"
   ]
  },
  {
   "cell_type": "code",
   "execution_count": 13,
   "id": "a49fba70",
   "metadata": {},
   "outputs": [
    {
     "name": "stdout",
     "output_type": "stream",
     "text": [
      "enter number: 3\n",
      "enter number: 4\n",
      "enter number: 5\n",
      "5 is greater\n"
     ]
    }
   ],
   "source": [
    "a=int(input(\"enter number: \"))\n",
    "b=int(input(\"enter number: \"))\n",
    "c=int(input(\"enter number: \"))\n",
    "\n",
    "if a>b:\n",
    "    if a>c:\n",
    "        print(f\"{a} is greater\")\n",
    "    else:\n",
    "        print(f\"{c} is greater\")\n",
    "else:\n",
    "    if b>c:\n",
    "        print(f\"{b} is greater\")\n",
    "    else:\n",
    "        print(f\"{c} is greater\")"
   ]
  },
  {
   "cell_type": "code",
   "execution_count": 1,
   "id": "908a65f9",
   "metadata": {},
   "outputs": [
    {
     "name": "stdout",
     "output_type": "stream",
     "text": [
      "enter the number of electeic unit 200\n",
      "You Charge 500\n"
     ]
    }
   ],
   "source": [
    "# wap to calculate the electricity bill(accept number of unit from user)\n",
    "# # according to the following criteria\n",
    "\n",
    "#      unit                      price\n",
    "# first 100 units            no charge\n",
    "# next 100 units             rs 5 per unit\n",
    "# after 200 units            rs 10 per units\n",
    "# (for example if inpi=ut unit is 350 than total bill amount is rs.2000)\n",
    "\n",
    "amt=0\n",
    "num=int(input(\"enter the number of electeic unit \"))\n",
    "\n",
    "if num<=100:\n",
    "    amt=0\n",
    "if num>100 and num<=200:\n",
    "    amt=(num-100)*5\n",
    "if num>200:  \n",
    "    amt=500+(num-200)*10\n",
    "    \n",
    "print(f\"You Charge {amt}\")"
   ]
  },
  {
   "cell_type": "code",
   "execution_count": 2,
   "id": "d8ffb934",
   "metadata": {},
   "outputs": [
    {
     "name": "stdout",
     "output_type": "stream",
     "text": [
      "enter cost price of a bike and display : 150000\n",
      "tax to be paid 22500.0\n"
     ]
    }
   ],
   "source": [
    "# write a program to accept the cost price of a bike and display the road\n",
    "# tax to be paid according to the following criteria:\n",
    "\n",
    "#      Cost price (in rs)                   tax\n",
    "#           >100000                         15%\n",
    "#      >540000 and <=100000                 10%\n",
    "#           <=50000                         5%\n",
    "\n",
    "cost=0\n",
    "rs=int(input(\"enter cost price of a bike and display : \"))\n",
    "\n",
    "if rs>100000:\n",
    "    cost = 15/100*rs\n",
    "elif rs>50000 and rs<=100000:\n",
    "    cost = 10/100*rs\n",
    "else:\n",
    "    cost = 5/100*rs\n",
    "    \n",
    "print(f\"tax to be paid {cost}\")"
   ]
  },
  {
   "cell_type": "code",
   "execution_count": 3,
   "id": "d1847974",
   "metadata": {},
   "outputs": [
    {
     "name": "stdout",
     "output_type": "stream",
     "text": [
      "enter your age :15\n",
      "n\n"
     ]
    }
   ],
   "source": [
    "age=int(input(\"enter your age :\"))\n",
    "if age>18:\n",
    "    print(\"y\")\n",
    "else:\n",
    "    print(\"n\")"
   ]
  },
  {
   "cell_type": "code",
   "execution_count": 4,
   "id": "74646573",
   "metadata": {},
   "outputs": [
    {
     "name": "stdout",
     "output_type": "stream",
     "text": [
      "enter your age:1\n",
      "you cannot work with us\n"
     ]
    }
   ],
   "source": [
    "# logical and relational\n",
    "\n",
    "age = int(input(\"enter your age:\"))\n",
    "if(age>34 and age<56):\n",
    "    print(\"you can work with us\")\n",
    "else:\n",
    "    print(\"you cannot work with us\")"
   ]
  },
  {
   "cell_type": "code",
   "execution_count": 5,
   "id": "3b363600",
   "metadata": {},
   "outputs": [
    {
     "name": "stdout",
     "output_type": "stream",
     "text": [
      "y\n",
      "True\n",
      "False\n",
      "True\n"
     ]
    }
   ],
   "source": [
    "# is or in\n",
    "\n",
    "#is\n",
    "a= None\n",
    "if (a is None):\n",
    "    print(\"y\")\n",
    "else:\n",
    "    print(\"n \")\n",
    "    \n",
    "#in\n",
    "a=[45,56,6]\n",
    "print(45 in a)\n",
    "print(453 in a)\n",
    "print(56 in a)"
   ]
  },
  {
   "cell_type": "code",
   "execution_count": 6,
   "id": "066989cc",
   "metadata": {},
   "outputs": [
    {
     "name": "stdout",
     "output_type": "stream",
     "text": [
      "enter a number 1:4\n",
      "enter a number 2:4\n",
      "enter a number 3:3\n",
      "enter a number 4:6\n",
      "6 is greatest\n"
     ]
    }
   ],
   "source": [
    "# big number\n",
    "n1=int(input(\"enter a number 1:\"))\n",
    "n2=int(input(\"enter a number 2:\"))\n",
    "n3=int(input(\"enter a number 3:\"))\n",
    "n4=int(input(\"enter a number 4:\"))\n",
    "\n",
    "if(n1>n4):\n",
    "    f1=n1\n",
    "else:\n",
    "    f1=n4\n",
    "    \n",
    "if(n2>n3):\n",
    "    f2=n2\n",
    "else:\n",
    "    f2=n3\n",
    "\n",
    "if(f2>f2):\n",
    "    print(f2,\"is greatest\")\n",
    "else:\n",
    "    print(f1,\"is greatest\")"
   ]
  },
  {
   "cell_type": "code",
   "execution_count": 7,
   "id": "82eb82fb",
   "metadata": {},
   "outputs": [
    {
     "name": "stdout",
     "output_type": "stream",
     "text": [
      "enter first subject marks\n",
      "45\n",
      "enter second subject marks\n",
      "34\n",
      "enter third subject marks\n",
      "23\n",
      "you are fail because you have less than 33 in one of the subject%\n",
      "you are fail due to total percentage less than 40%\n"
     ]
    }
   ],
   "source": [
    "# pass or fail in exam \n",
    "s1=int(input(\"enter first subject marks\\n\"))\n",
    "s2=int(input(\"enter second subject marks\\n\"))\n",
    "s3=int(input(\"enter third subject marks\\n\"))\n",
    "\n",
    "if(s1<33 or s2<33 or s3<33):\n",
    "    print(\"you are fail because you have less than 33 in one of the subject%\")\n",
    "    \n",
    "if(s1+s2+s3)/3 <40:\n",
    "    print(\"you are fail due to total percentage less than 40%\")\n",
    "    \n",
    "else:\n",
    "    print(\"congatulations! you pass the exam\")"
   ]
  },
  {
   "cell_type": "code",
   "execution_count": null,
   "id": "71da173e",
   "metadata": {},
   "outputs": [],
   "source": [
    "# spam or not spam\n",
    "\n",
    "text=input(\"enter the taxt \\n\")\n",
    "\n",
    "if(\"make a lot of money\" in text):\n",
    "    spam = True\n",
    "if(\"buy now\" in text):\n",
    "    spam = True\n",
    "if(\"clice this\" in text):\n",
    "    spam = True\n",
    "if(\"subscribe this\" in text):\n",
    "    spam = True\n",
    "else:\n",
    "    spam = False\n",
    "    \n",
    "if(spam):\n",
    "    print(\"this taxt is spam\")\n",
    "else:\n",
    "    print(\"this taxt is not spam\")"
   ]
  }
 ],
 "metadata": {
  "kernelspec": {
   "display_name": "Python 3 (ipykernel)",
   "language": "python",
   "name": "python3"
  },
  "language_info": {
   "codemirror_mode": {
    "name": "ipython",
    "version": 3
   },
   "file_extension": ".py",
   "mimetype": "text/x-python",
   "name": "python",
   "nbconvert_exporter": "python",
   "pygments_lexer": "ipython3",
   "version": "3.10.9"
  }
 },
 "nbformat": 4,
 "nbformat_minor": 5
}
