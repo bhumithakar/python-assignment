{
 "cells": [
  {
   "cell_type": "code",
   "execution_count": null,
   "id": "700cb913",
   "metadata": {},
   "outputs": [],
   "source": [
    "# Loops in python\n",
    "# for loop collections\n",
    "    range()\n",
    "    string\n",
    "    list\n",
    "    tuple \n",
    "    set\n",
    "    dictionary\n",
    "# while loop\n",
    "    condition"
   ]
  },
  {
   "cell_type": "code",
   "execution_count": null,
   "id": "c6fd6dc3",
   "metadata": {},
   "outputs": [],
   "source": [
    "# for loop\n",
    "for variable in collection:\n",
    "    body"
   ]
  },
  {
   "cell_type": "code",
   "execution_count": null,
   "id": "fc38e5a8",
   "metadata": {},
   "outputs": [],
   "source": [
    "str1=\"hello World\"\n",
    "for i in str1:\n",
    "    print(i)"
   ]
  },
  {
   "cell_type": "code",
   "execution_count": 1,
   "id": "0c0aa877",
   "metadata": {},
   "outputs": [
    {
     "name": "stdout",
     "output_type": "stream",
     "text": [
      "yes0\n",
      "yes1\n",
      "yes2\n",
      "yes3\n",
      "yes4\n",
      "yes5\n",
      "yes6\n",
      "yes7\n",
      "yes8\n",
      "yes9\n"
     ]
    }
   ],
   "source": [
    "# while loop\n",
    "i=0\n",
    "while i<10:\n",
    "    print(\"yes\" + str(i))\n",
    "    i=i+1"
   ]
  },
  {
   "cell_type": "code",
   "execution_count": 2,
   "id": "5b73e4b7",
   "metadata": {},
   "outputs": [
    {
     "name": "stdout",
     "output_type": "stream",
     "text": [
      "1\n",
      "2\n",
      "3\n",
      "4\n",
      "5\n",
      "6\n",
      "7\n",
      "8\n",
      "9\n",
      "10\n",
      "11\n",
      "12\n",
      "13\n",
      "14\n",
      "15\n",
      "16\n",
      "17\n",
      "18\n",
      "19\n",
      "20\n",
      "21\n",
      "22\n",
      "23\n",
      "24\n",
      "25\n",
      "26\n",
      "27\n",
      "28\n",
      "29\n",
      "30\n",
      "31\n",
      "32\n",
      "33\n",
      "34\n",
      "35\n",
      "36\n",
      "37\n",
      "38\n",
      "39\n",
      "40\n",
      "41\n",
      "42\n",
      "43\n",
      "44\n",
      "45\n",
      "46\n",
      "47\n",
      "48\n",
      "49\n",
      "50\n"
     ]
    }
   ],
   "source": [
    "i=1\n",
    "while i<=50:\n",
    "    print (i)\n",
    "    i=i+1"
   ]
  },
  {
   "cell_type": "code",
   "execution_count": 4,
   "id": "f705ec68",
   "metadata": {},
   "outputs": [
    {
     "name": "stdout",
     "output_type": "stream",
     "text": [
      "hello\n",
      "hello\n",
      "hello\n",
      "hello\n",
      "hello\n"
     ]
    }
   ],
   "source": [
    "i=0\n",
    "while i<5:\n",
    "    print(\"hello\")\n",
    "    i=i+1"
   ]
  },
  {
   "cell_type": "code",
   "execution_count": 5,
   "id": "1f170f22",
   "metadata": {},
   "outputs": [
    {
     "name": "stdout",
     "output_type": "stream",
     "text": [
      "Grapes\n",
      "Watermelon\n",
      "Apple\n",
      "Mangoes\n",
      "Orenge\n"
     ]
    }
   ],
   "source": [
    "fruits=['Grapes','Watermelon','Apple','Mangoes','Orenge']\n",
    "i=0\n",
    "while i<len(fruits):\n",
    "    print(fruits[i])\n",
    "    i=i+1"
   ]
  },
  {
   "cell_type": "code",
   "execution_count": 6,
   "id": "b7316cb3",
   "metadata": {},
   "outputs": [
    {
     "name": "stdout",
     "output_type": "stream",
     "text": [
      "Grapes\n",
      "Watermelon\n",
      "Apple\n",
      "Mangoes\n",
      "Orenge\n"
     ]
    }
   ],
   "source": [
    "fruits=['Grapes','Watermelon','Apple','Mangoes','Orenge']\n",
    "for item in fruits:\n",
    "    print(item)"
   ]
  },
  {
   "cell_type": "code",
   "execution_count": 7,
   "id": "a5494744",
   "metadata": {},
   "outputs": [
    {
     "name": "stdout",
     "output_type": "stream",
     "text": [
      "2\n",
      "3\n",
      "4\n",
      "5\n",
      "6\n",
      "7\n"
     ]
    }
   ],
   "source": [
    "for i in range(2,8):\n",
    "    print(i)\n",
    "\n",
    "# for i in range(1,8,2):\n",
    "#     print(i)"
   ]
  },
  {
   "cell_type": "code",
   "execution_count": 8,
   "id": "ab1c6b3b",
   "metadata": {},
   "outputs": [
    {
     "name": "stdout",
     "output_type": "stream",
     "text": [
      "0\n",
      "1\n",
      "2\n",
      "3\n",
      "4\n",
      "5\n",
      "6\n",
      "7\n",
      "8\n",
      "9\n",
      "this is insid else of for\n"
     ]
    }
   ],
   "source": [
    "for i in range(10):\n",
    "    print(i)\n",
    "else:\n",
    "    print(\"this is insid else of for\")"
   ]
  },
  {
   "cell_type": "code",
   "execution_count": 9,
   "id": "b9296ec8",
   "metadata": {},
   "outputs": [
    {
     "name": "stdout",
     "output_type": "stream",
     "text": [
      "0\n",
      "1\n",
      "2\n",
      "3\n",
      "4\n",
      "5\n"
     ]
    }
   ],
   "source": [
    "for i in range(10):\n",
    "    print(i)\n",
    "    if i == 5:\n",
    "        break"
   ]
  },
  {
   "cell_type": "code",
   "execution_count": 10,
   "id": "1ab5a927",
   "metadata": {},
   "outputs": [
    {
     "name": "stdout",
     "output_type": "stream",
     "text": [
      "0\n",
      "1\n",
      "2\n",
      "3\n",
      "4\n",
      "6\n",
      "7\n",
      "8\n",
      "9\n"
     ]
    }
   ],
   "source": [
    "for i in range(10):\n",
    "    if i == 5:\n",
    "        continue\n",
    "    print(i)"
   ]
  },
  {
   "cell_type": "code",
   "execution_count": 11,
   "id": "798c74ee",
   "metadata": {},
   "outputs": [
    {
     "name": "stdout",
     "output_type": "stream",
     "text": [
      "good morning\n"
     ]
    }
   ],
   "source": [
    "i=4\n",
    "def run (player):\n",
    "    pass\n",
    "def ouch (player):\n",
    "    pass\n",
    "\n",
    "if i>0:\n",
    "    pass\n",
    "    \n",
    "while i>6:\n",
    "    pass\n",
    "\n",
    "print(\"good morning\")"
   ]
  },
  {
   "cell_type": "code",
   "execution_count": 12,
   "id": "93b920ee",
   "metadata": {},
   "outputs": [
    {
     "name": "stdout",
     "output_type": "stream",
     "text": [
      "hello six\n",
      "hello seven\n"
     ]
    }
   ],
   "source": [
    "l1=[\"one\",\"two\",\"thre\",\"four\",\"five\",\"six\",\"seven\"]\n",
    "\n",
    "for day in l1:\n",
    "    \n",
    "    if day.startswith(\"s\"):\n",
    "        print(\"hello \"+day)"
   ]
  },
  {
   "cell_type": "code",
   "execution_count": 13,
   "id": "b23496b0",
   "metadata": {},
   "outputs": [
    {
     "name": "stdout",
     "output_type": "stream",
     "text": [
      "enter the number:4\n",
      "This number is not Prime\n"
     ]
    }
   ],
   "source": [
    "num = int(input(\"enter the number:\"))\n",
    "prime = True\n",
    "for i in range(2,num):\n",
    "    if(num%i == 0):\n",
    "        prime = False\n",
    "        break\n",
    "        \n",
    "if prime:\n",
    "    print(\"This number is Prime\")  \n",
    "else:\n",
    "    print(\"This number is not Prime\")"
   ]
  },
  {
   "cell_type": "code",
   "execution_count": 14,
   "id": "72573532",
   "metadata": {},
   "outputs": [
    {
     "name": "stdout",
     "output_type": "stream",
     "text": [
      "Enter The Number:10\n",
      "The Factorial Of 10 Number Is 1\n",
      "The Factorial Of 10 Number Is 2\n",
      "The Factorial Of 10 Number Is 6\n",
      "The Factorial Of 10 Number Is 24\n",
      "The Factorial Of 10 Number Is 120\n",
      "The Factorial Of 10 Number Is 720\n",
      "The Factorial Of 10 Number Is 5040\n",
      "The Factorial Of 10 Number Is 40320\n",
      "The Factorial Of 10 Number Is 362880\n",
      "The Factorial Of 10 Number Is 3628800\n"
     ]
    }
   ],
   "source": [
    "#factorial assingment qution\n",
    "#n! = 1*2*3*.....*n\n",
    "#5! = 1+2+3+4+5\n",
    "\n",
    "num = int (input(\"Enter The Number:\"))\n",
    "factorial=1\n",
    "for i in range(1,num+1):\n",
    "    factorial = factorial * i\n",
    "    print (f\"The Factorial Of {num} Number Is {factorial}\")"
   ]
  },
  {
   "cell_type": "code",
   "execution_count": 15,
   "id": "806d1132",
   "metadata": {},
   "outputs": [
    {
     "name": "stdout",
     "output_type": "stream",
     "text": [
      "* \n",
      "* * \n",
      "* * * \n",
      "* * * * \n"
     ]
    }
   ],
   "source": [
    "n = 4\n",
    "for i in range(4):\n",
    "    print(\"* \" *(i+1))"
   ]
  },
  {
   "cell_type": "code",
   "execution_count": 16,
   "id": "dd558321",
   "metadata": {},
   "outputs": [
    {
     "name": "stdout",
     "output_type": "stream",
     "text": [
      "   *   \n",
      "  ***  \n",
      " ***** \n"
     ]
    }
   ],
   "source": [
    "n = 4\n",
    "for i in range(3):\n",
    "    #for j in range(n-i-1)\n",
    "        print(\" \" * (n-i-1),end=\"\")\n",
    "        print(\"*\" * (2*i+1),end=\"\")\n",
    "        print(\" \" * (n-i-1))"
   ]
  },
  {
   "cell_type": "code",
   "execution_count": null,
   "id": "0a92ce41",
   "metadata": {},
   "outputs": [],
   "source": [
    "#loop\n",
    "#range ([start],stop,[step])\n",
    "#by defalut start from 0"
   ]
  },
  {
   "cell_type": "code",
   "execution_count": 3,
   "id": "9f7f855a",
   "metadata": {},
   "outputs": [
    {
     "name": "stdout",
     "output_type": "stream",
     "text": [
      "Enter num: 5\n",
      "5*1=5\n",
      "5*2=10\n",
      "5*3=15\n",
      "5*4=20\n",
      "5*5=25\n",
      "5*6=30\n",
      "5*7=35\n",
      "5*8=40\n",
      "5*9=45\n",
      "5*10=50\n"
     ]
    }
   ],
   "source": [
    "# range([start,]stop[,step])\n",
    "# by default starts from 0\n",
    "# by deafult step is 1\n",
    "num=int(input(\"Enter num: \"))\n",
    "for i in range(1,11):\n",
    "    print(f\"{num}*{i}={num*i}\")"
   ]
  },
  {
   "cell_type": "code",
   "execution_count": 17,
   "id": "27367215",
   "metadata": {},
   "outputs": [
    {
     "name": "stdout",
     "output_type": "stream",
     "text": [
      "range(1, 20, 2)\n",
      "1\n",
      "6\n",
      "11\n",
      "16\n"
     ]
    }
   ],
   "source": [
    "print(range(1,20,2))\n",
    "for i in range(1,20,5):\n",
    "    print(i)"
   ]
  },
  {
   "cell_type": "code",
   "execution_count": null,
   "id": "5b4c42e6",
   "metadata": {},
   "outputs": [],
   "source": [
    "# -8 -7 -6 -5 -4 -3 -2 -1 0 1 2 3 4 5 6 7 8 9\n",
    "for i in range(5,-4,-1):\n",
    "    print(i)"
   ]
  },
  {
   "cell_type": "code",
   "execution_count": null,
   "id": "1c64a8df",
   "metadata": {},
   "outputs": [],
   "source": [
    "i=1\n",
    "while i<10:\n",
    "    print(\"hello\")\n",
    "    i=i+1"
   ]
  },
  {
   "cell_type": "code",
   "execution_count": 7,
   "id": "d4e03fa7",
   "metadata": {},
   "outputs": [
    {
     "name": "stdout",
     "output_type": "stream",
     "text": [
      "2\n",
      "4\n",
      "6\n",
      "8\n",
      "10\n",
      "12\n",
      "14\n",
      "16\n",
      "18\n",
      "20\n",
      "22\n",
      "24\n"
     ]
    }
   ],
   "source": [
    "for i in range(2,26,2):\n",
    "    print(i)"
   ]
  },
  {
   "cell_type": "code",
   "execution_count": 17,
   "id": "e37212f7",
   "metadata": {},
   "outputs": [
    {
     "name": "stdout",
     "output_type": "stream",
     "text": [
      "Enter num: 5\n",
      "120\n"
     ]
    }
   ],
   "source": [
    "num=int(input(\"Enter num: \"))\n",
    "fact=1\n",
    "for i in range(1,num+1):\n",
    "    fact=fact*i\n",
    "print(fact)"
   ]
  },
  {
   "cell_type": "code",
   "execution_count": 18,
   "id": "df2eea1b",
   "metadata": {},
   "outputs": [
    {
     "name": "stdout",
     "output_type": "stream",
     "text": [
      "Enter num: 5\n",
      "2\n",
      "4\n",
      "7\n",
      "11\n",
      "16\n"
     ]
    }
   ],
   "source": [
    "num=int(input(\"Enter num: \"))\n",
    "sum=1\n",
    "for i in range(1,num+1):\n",
    "    sum=sum+i\n",
    "    print(sum)"
   ]
  },
  {
   "cell_type": "code",
   "execution_count": null,
   "id": "21e14c6d",
   "metadata": {},
   "outputs": [],
   "source": [
    "# control statements\n",
    "# break  --it terminates the loop permanently\n",
    "# continue\n",
    "# pass"
   ]
  },
  {
   "cell_type": "code",
   "execution_count": 19,
   "id": "245ed164",
   "metadata": {},
   "outputs": [
    {
     "name": "stdout",
     "output_type": "stream",
     "text": [
      "hello\n"
     ]
    }
   ],
   "source": [
    "i=10\n",
    "if i<5:\n",
    "    pass\n",
    "else:\n",
    "    print(\"hello\")"
   ]
  },
  {
   "cell_type": "code",
   "execution_count": 18,
   "id": "989660a1",
   "metadata": {},
   "outputs": [
    {
     "name": "stdout",
     "output_type": "stream",
     "text": [
      "1\n",
      "2\n",
      "3\n",
      "4\n",
      "5\n",
      "6\n",
      "8\n",
      "9\n",
      "10\n",
      "11\n",
      "12\n",
      "13\n",
      "14\n",
      "15\n",
      "16\n",
      "17\n",
      "18\n",
      "19\n"
     ]
    }
   ],
   "source": [
    "for i in range(1,20):\n",
    "    if i==7:\n",
    "        continue \n",
    "    print(i)"
   ]
  },
  {
   "cell_type": "code",
   "execution_count": null,
   "id": "85a09238",
   "metadata": {},
   "outputs": [],
   "source": []
  }
 ],
 "metadata": {
  "kernelspec": {
   "display_name": "Python 3 (ipykernel)",
   "language": "python",
   "name": "python3"
  },
  "language_info": {
   "codemirror_mode": {
    "name": "ipython",
    "version": 3
   },
   "file_extension": ".py",
   "mimetype": "text/x-python",
   "name": "python",
   "nbconvert_exporter": "python",
   "pygments_lexer": "ipython3",
   "version": "3.10.9"
  }
 },
 "nbformat": 4,
 "nbformat_minor": 5
}
