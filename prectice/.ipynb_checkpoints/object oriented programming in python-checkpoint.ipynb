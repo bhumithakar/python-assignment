{
 "cells": [
  {
   "cell_type": "code",
   "execution_count": null,
   "id": "35d0884c",
   "metadata": {},
   "outputs": [],
   "source": [
    "# class\n",
    "# object\n",
    "\n",
    "class is a blueprint\n",
    "\n",
    "variable---attributes---data members\n",
    "functions---"
   ]
  },
  {
   "cell_type": "code",
   "execution_count": null,
   "id": "733c933f",
   "metadata": {},
   "outputs": [],
   "source": [
    "class student\n",
    "    def __init__(self):\n",
    "        self.name=\"\"\n",
    "        self.age=0\n",
    "        self.mobile=\"\"\n",
    "    \n",
    "    def getvalue(self):\n",
    "        self.name=input(\"enter name: \")\n",
    "        self.age=int(input(\"enter age: \"))\n",
    "        self.mobile=input(\"enter mobile: \")\n",
    "        \n",
    "    def showdata(self):\n",
    "        print(f\"name is {self.name} age is {self.age} and mobile is {self.mobile})"
   ]
  },
  {
   "cell_type": "code",
   "execution_count": null,
   "id": "a7c17b59",
   "metadata": {},
   "outputs": [],
   "source": [
    "# \\objectname=classname()\n",
    "# attributes---name,age,mobile\n",
    "#  methods---getvalue(),showvalue()\n",
    "s1=student()\n",
    "s1.getvalue()\n",
    "s1.showdata()\n",
    "s2=tudent()"
   ]
  },
  {
   "cell_type": "code",
   "execution_count": 8,
   "id": "5acceee6",
   "metadata": {},
   "outputs": [],
   "source": [
    "class rectangle:\n",
    "    def __init__(self):\n",
    "        self.length=0\n",
    "        self.width=0\n",
    "    \n",
    "    def getvalue(self):\n",
    "        self.length=int(input(\"enter length: \"))\n",
    "        self.width=int(input(\"enter width: \"))\n",
    "        self.area=self.length*self.width\n",
    "        \n",
    "    def showdata(self):\n",
    "        print(f\"area is {self.area} length is {self.length} width is {self.width}\")"
   ]
  },
  {
   "cell_type": "code",
   "execution_count": 10,
   "id": "762be233",
   "metadata": {},
   "outputs": [
    {
     "name": "stdout",
     "output_type": "stream",
     "text": [
      "enter length: 67867\n",
      "enter width: 4545\n",
      "area is 308455515 length is 67867 width is 4545\n"
     ]
    }
   ],
   "source": [
    "r1=rectangle()\n",
    "r1.getvalue()\n",
    "r1.showdata()"
   ]
  },
  {
   "cell_type": "code",
   "execution_count": 1,
   "id": "58041ba9",
   "metadata": {},
   "outputs": [
    {
     "name": "stdout",
     "output_type": "stream",
     "text": [
      "I am A Normal Function\n",
      "59\n",
      "I am A Normal Function\n",
      "I am A Normal Function\n"
     ]
    }
   ],
   "source": [
    "class demo:\n",
    "    def fun1(self):\n",
    "        print(\"I am A Normal Function\")\n",
    "        return 59\n",
    "        \n",
    "    def _init_(self):\n",
    "        print(\"I am A Constructor\")\n",
    "        \n",
    "    def _del_(self):\n",
    "        print(\"I am Desturtcor\")\n",
    "        \n",
    "d1=demo()\n",
    "print(d1.fun1())\n",
    "d1.fun1()\n",
    "d1.fun1()\n",
    "d2=demo()"
   ]
  },
  {
   "cell_type": "code",
   "execution_count": 2,
   "id": "2985272f",
   "metadata": {},
   "outputs": [
    {
     "name": "stdout",
     "output_type": "stream",
     "text": [
      "<class 'int'>\n"
     ]
    }
   ],
   "source": [
    "# a=print(\"wow\")\n",
    "# print(a)\n",
    "a=type(125)\n",
    "print(a)"
   ]
  },
  {
   "cell_type": "code",
   "execution_count": 3,
   "id": "e8e58107",
   "metadata": {},
   "outputs": [
    {
     "name": "stdout",
     "output_type": "stream",
     "text": [
      "wow\n"
     ]
    },
    {
     "ename": "NameError",
     "evalue": "name 'a' is not defined",
     "output_type": "error",
     "traceback": [
      "\u001b[1;31m---------------------------------------------------------------------------\u001b[0m",
      "\u001b[1;31mNameError\u001b[0m                                 Traceback (most recent call last)",
      "Cell \u001b[1;32mIn[3], line 4\u001b[0m\n\u001b[0;32m      2\u001b[0m \u001b[38;5;28mprint\u001b[39m(a)\n\u001b[0;32m      3\u001b[0m \u001b[38;5;28;01mdel\u001b[39;00m a\n\u001b[1;32m----> 4\u001b[0m \u001b[38;5;28mprint\u001b[39m(\u001b[43ma\u001b[49m)\n",
      "\u001b[1;31mNameError\u001b[0m: name 'a' is not defined"
     ]
    }
   ],
   "source": [
    "a=\"wow\"\n",
    "print(a)\n",
    "del a\n",
    "print(a)"
   ]
  },
  {
   "cell_type": "code",
   "execution_count": 4,
   "id": "7e68aea2",
   "metadata": {},
   "outputs": [
    {
     "ename": "TypeError",
     "evalue": "can only concatenate str (not \"int\") to str",
     "output_type": "error",
     "traceback": [
      "\u001b[1;31m---------------------------------------------------------------------------\u001b[0m",
      "\u001b[1;31mTypeError\u001b[0m                                 Traceback (most recent call last)",
      "Cell \u001b[1;32mIn[4], line 2\u001b[0m\n\u001b[0;32m      1\u001b[0m a\u001b[38;5;241m=\u001b[39m\u001b[38;5;124m\"\u001b[39m\u001b[38;5;124mhello\u001b[39m\u001b[38;5;124m\"\u001b[39m\n\u001b[1;32m----> 2\u001b[0m \u001b[38;5;28mprint\u001b[39m(\u001b[43ma\u001b[49m\u001b[38;5;241;43m+\u001b[39;49m\u001b[38;5;241;43m10\u001b[39;49m)\n",
      "\u001b[1;31mTypeError\u001b[0m: can only concatenate str (not \"int\") to str"
     ]
    }
   ],
   "source": [
    "a=\"hello\"\n",
    "print(a+10)"
   ]
  },
  {
   "cell_type": "code",
   "execution_count": 5,
   "id": "1cd6076b",
   "metadata": {},
   "outputs": [
    {
     "name": "stdout",
     "output_type": "stream",
     "text": [
      "Enter number: \n",
      "False\n"
     ]
    }
   ],
   "source": [
    "a=bool(input(\"Enter number: \"))\n",
    "print(a)"
   ]
  },
  {
   "cell_type": "code",
   "execution_count": 6,
   "id": "e3111d6b",
   "metadata": {},
   "outputs": [
    {
     "name": "stdout",
     "output_type": "stream",
     "text": [
      "False\n"
     ]
    }
   ],
   "source": [
    "a=\"\"\n",
    "b=bool(a)\n",
    "print(b)"
   ]
  },
  {
   "cell_type": "code",
   "execution_count": 7,
   "id": "2db60a45",
   "metadata": {},
   "outputs": [
    {
     "name": "stdout",
     "output_type": "stream",
     "text": [
      "Enter Number: \n",
      "\n"
     ]
    }
   ],
   "source": [
    "a=input(\"Enter Number: \")\n",
    "print(a)"
   ]
  },
  {
   "cell_type": "code",
   "execution_count": null,
   "id": "5b09b6aa",
   "metadata": {},
   "outputs": [],
   "source": [
    "# inheritance\n",
    "1)Single Inheritance--\n",
    "2)Multilevel Inheritance\n",
    "3)Multiple Inheritance\n",
    "4)heirarchical Inheritance\n",
    "5)Hybrid Inhertiance"
   ]
  },
  {
   "cell_type": "code",
   "execution_count": 5,
   "id": "5db0b394",
   "metadata": {},
   "outputs": [],
   "source": [
    "class first:\n",
    "    def __init__(self):\n",
    "        self.a=\"hello\"\n",
    "        \n",
    "    def demo(self):\n",
    "        print(f\"value of a is {self.a}\")"
   ]
  },
  {
   "cell_type": "code",
   "execution_count": 6,
   "id": "e743458f",
   "metadata": {},
   "outputs": [],
   "source": [
    "class second(first):\n",
    "    def __init__(self):\n",
    "        super().__init__()\n",
    "        self.b=\"great\"\n",
    "        \n",
    "    def data(self):\n",
    "        print(f\"value of a is {self.b}\")"
   ]
  },
  {
   "cell_type": "code",
   "execution_count": 7,
   "id": "7c3d91fc",
   "metadata": {},
   "outputs": [],
   "source": [
    "class third(second):\n",
    "    def __init__(self):\n",
    "        super().__init__()\n",
    "        self.c=678\n",
    "        \n",
    "    def val(self):\n",
    "        print(f\"value of a is {self.c}\")"
   ]
  },
  {
   "cell_type": "code",
   "execution_count": 8,
   "id": "c001c5e5",
   "metadata": {},
   "outputs": [
    {
     "name": "stdout",
     "output_type": "stream",
     "text": [
      "value of a is hello\n",
      "value of a is great\n",
      "value of a is 678\n"
     ]
    }
   ],
   "source": [
    "t1=third()\n",
    "t1.demo()\n",
    "t1.data()\n",
    "t1.val()"
   ]
  },
  {
   "cell_type": "code",
   "execution_count": 20,
   "id": "1f80c5af",
   "metadata": {},
   "outputs": [],
   "source": [
    "class person:\n",
    "    def __init__(self):\n",
    "        self.name=\" \"\n",
    "        self.age=0\n",
    "        self.email=\" \"\n",
    "        self.mobile=0\n",
    "    \n",
    "    def getperson(self):\n",
    "        self.name=input(\"enter name: \")\n",
    "        self.age=int(input(\"enter age: \"))\n",
    "        self.email=input(\"enter email: \")\n",
    "        self.mobile=int(input(\"enter mobile: \"))\n",
    "        \n",
    "    def showperson(self):\n",
    "        print(f\"name is {self.name} age is {self.age} email is {self.email} mobile is {self.mobile}\")"
   ]
  },
  {
   "cell_type": "code",
   "execution_count": 24,
   "id": "ac8ec751",
   "metadata": {},
   "outputs": [],
   "source": [
    "class student(person):\n",
    "    def __init__(self):\n",
    "        super().__init__()\n",
    "        self.rollno=0\n",
    "        self.subject=\" \"\n",
    "        self.percentage=0\n",
    "        self.course=\" \"\n",
    "    \n",
    "    def getstudent(self):\n",
    "        self.getperson()\n",
    "        self.rollno=int(input(\"enter rollno: \"))\n",
    "        self.subject=input(\"enter subject: \")\n",
    "        self.percentage=int(input(\"enter percentage: \"))\n",
    "        self.course=input(\"enter student: \")\n",
    "        \n",
    "    def showstudent(self):\n",
    "        self.showperson()\n",
    "        print(f\"rollno is {self.rollno} subject is {self.subject} percentage is {self.percentage} course is {self.course}\")"
   ]
  },
  {
   "cell_type": "code",
   "execution_count": 25,
   "id": "f8cb98d1",
   "metadata": {},
   "outputs": [],
   "source": [
    "class faculty(person):\n",
    "    def __init__(self):\n",
    "        super().__init__()\n",
    "        self.fid=0\n",
    "        self.salary=0\n",
    "        self.subject=\" \"\n",
    "        self.course=\" \"\n",
    "    \n",
    "    def getfaculty(self):\n",
    "        self.getperson()\n",
    "        self.fid=int(input(\"enter fid: \"))\n",
    "        self.salary=int(input(\"enter salary: \"))\n",
    "        self.subject=input(\"enter subject: \")\n",
    "        self.course=input(\"enter student: \")\n",
    "        \n",
    "    def showfaculty(self):\n",
    "        self.showperson()\n",
    "        print(f\"fid is {self.fid} salary is {self.salary} subject is {self.subject} course is {self.course}\")"
   ]
  },
  {
   "cell_type": "code",
   "execution_count": 27,
   "id": "7d1657f6",
   "metadata": {},
   "outputs": [
    {
     "name": "stdout",
     "output_type": "stream",
     "text": [
      "enter name: jgggdg\n",
      "enter age: 2\n",
      "enter email: grgrtgrty\n",
      "enter mobile: 45345\n",
      "enter rollno: 45\n",
      "enter subject: gdrgeger\n",
      "enter percentage: 455\n",
      "enter student: ffghrty\n",
      "name is jgggdg age is 2 email is grgrtgrty mobile is 45345\n",
      "rollno is 45 subject is gdrgeger percentage is 455 course is ffghrty\n",
      "enter name: rgtrhty\n",
      "enter age: 56\n",
      "enter email: gtrtrytry\n",
      "enter mobile: 34534\n",
      "enter fid: 6574645\n",
      "enter salary: 65675756\n",
      "enter subject: hgrhtur\n",
      "enter student: hguerhuieht\n",
      "name is rgtrhty age is 56 email is gtrtrytry mobile is 34534\n",
      "fid is 6574645 salary is 65675756 subject is hgrhtur course is hguerhuieht\n"
     ]
    }
   ],
   "source": [
    "s1=student()\n",
    "s1.getstudent()\n",
    "s1.showstudent()\n",
    "f1=faculty()\n",
    "f1.getfaculty()\n",
    "f1.showfaculty()"
   ]
  },
  {
   "cell_type": "code",
   "execution_count": null,
   "id": "a19739e6",
   "metadata": {},
   "outputs": [],
   "source": [
    "# polymorphism\n",
    "# function overriding"
   ]
  },
  {
   "cell_type": "code",
   "execution_count": 3,
   "id": "f0bed58f",
   "metadata": {},
   "outputs": [
    {
     "name": "stdout",
     "output_type": "stream",
     "text": [
      "i am function of class c1\n",
      "this is function of class c2\n"
     ]
    }
   ],
   "source": [
    "class c1:\n",
    "    def myfun(self):\n",
    "        print(\"i am function of class c1\")\n",
    "        \n",
    "class c2:\n",
    "    def myfun(self):\n",
    "        print(\"this is function of class c2\")\n",
    "\n",
    "obj1=c1()\n",
    "obj1.myfun()\n",
    "obj2=c2()\n",
    "obj2.myfun()"
   ]
  },
  {
   "cell_type": "code",
   "execution_count": 4,
   "id": "18d5a846",
   "metadata": {},
   "outputs": [
    {
     "ename": "TypeError",
     "evalue": "demo.fun1() missing 1 required positional argument: 'b'",
     "output_type": "error",
     "traceback": [
      "\u001b[1;31m---------------------------------------------------------------------------\u001b[0m",
      "\u001b[1;31mTypeError\u001b[0m                                 Traceback (most recent call last)",
      "Cell \u001b[1;32mIn[4], line 12\u001b[0m\n\u001b[0;32m      9\u001b[0m         \u001b[38;5;28mprint\u001b[39m(\u001b[38;5;124m\"\u001b[39m\u001b[38;5;124mtwo parameters\u001b[39m\u001b[38;5;124m\"\u001b[39m)\n\u001b[0;32m     11\u001b[0m d1\u001b[38;5;241m=\u001b[39mdemo()\n\u001b[1;32m---> 12\u001b[0m \u001b[43md1\u001b[49m\u001b[38;5;241;43m.\u001b[39;49m\u001b[43mfun1\u001b[49m\u001b[43m(\u001b[49m\u001b[38;5;241;43m45\u001b[39;49m\u001b[43m)\u001b[49m\n",
      "\u001b[1;31mTypeError\u001b[0m: demo.fun1() missing 1 required positional argument: 'b'"
     ]
    }
   ],
   "source": [
    "class demo:\n",
    "    def fun1(self):\n",
    "        print(\":no parameters\")\n",
    "        \n",
    "    def fun1(self,a):\n",
    "        print(\"one parameters\")\n",
    "        \n",
    "    def fun1(self,a,b):\n",
    "        print(\"two parameters\")\n",
    "        \n",
    "d1=demo()\n",
    "d1.fun1(45)"
   ]
  },
  {
   "cell_type": "code",
   "execution_count": 6,
   "id": "64a9415e",
   "metadata": {},
   "outputs": [
    {
     "name": "stdout",
     "output_type": "stream",
     "text": [
      "150\n"
     ]
    },
    {
     "ename": "TypeError",
     "evalue": "unsupported operand type(s) for +: 'demo' and 'demo2'",
     "output_type": "error",
     "traceback": [
      "\u001b[1;31m---------------------------------------------------------------------------\u001b[0m",
      "\u001b[1;31mTypeError\u001b[0m                                 Traceback (most recent call last)",
      "Cell \u001b[1;32mIn[6], line 18\u001b[0m\n\u001b[0;32m     16\u001b[0m d2\u001b[38;5;241m=\u001b[39mdemo2()\n\u001b[0;32m     17\u001b[0m \u001b[38;5;28mprint\u001b[39m(d1\u001b[38;5;241m.\u001b[39ma\u001b[38;5;241m+\u001b[39md2\u001b[38;5;241m.\u001b[39mx)\n\u001b[1;32m---> 18\u001b[0m \u001b[38;5;28mprint\u001b[39m(\u001b[43md1\u001b[49m\u001b[38;5;241;43m+\u001b[39;49m\u001b[43md2\u001b[49m)\n",
      "\u001b[1;31mTypeError\u001b[0m: unsupported operand type(s) for +: 'demo' and 'demo2'"
     ]
    }
   ],
   "source": [
    "class demo:\n",
    "    def __init__(self):\n",
    "        self.a=48\n",
    "        \n",
    "    def fun1(self):\n",
    "        print(\":no parameters\")\n",
    "        \n",
    "class demo2:\n",
    "    def __init__(self):\n",
    "        self.x=102\n",
    "        \n",
    "    def dep1(self):\n",
    "        print(\"dep function\")\n",
    "        \n",
    "d1=demo()\n",
    "d2=demo2()\n",
    "print(d1.a+d2.x)\n",
    "print(d1+d2)"
   ]
  },
  {
   "cell_type": "code",
   "execution_count": null,
   "id": "4f06d685",
   "metadata": {},
   "outputs": [],
   "source": [
    "# operator overloading\n",
    "\n",
    "class demo:\n",
    "    def __init__(self):\n",
    "        self.a=48\n",
    "        \n",
    "    def fun1(self):\n",
    "        print(\":no parameters\")\n",
    "        \n",
    "    def __add__(self,other):\n",
    "        self.a=self.a+other.x\n",
    "        print(Self.a)\n",
    "        \n",
    "class demo2:\n",
    "    def __init__(self):\n",
    "        self.x=102\n",
    "        \n",
    "    def dep1(self):\n",
    "        print(\"dep function\")\n",
    "        \n",
    "d1=demo()\n",
    "d2=demo2()\n",
    "print(d1.a+d2.x)\n",
    "print(d1+d2)"
   ]
  }
 ],
 "metadata": {
  "kernelspec": {
   "display_name": "Python 3 (ipykernel)",
   "language": "python",
   "name": "python3"
  },
  "language_info": {
   "codemirror_mode": {
    "name": "ipython",
    "version": 3
   },
   "file_extension": ".py",
   "mimetype": "text/x-python",
   "name": "python",
   "nbconvert_exporter": "python",
   "pygments_lexer": "ipython3",
   "version": "3.10.9"
  }
 },
 "nbformat": 4,
 "nbformat_minor": 5
}
