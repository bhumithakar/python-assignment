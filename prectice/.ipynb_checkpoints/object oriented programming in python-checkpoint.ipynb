{
 "cells": [
  {
   "cell_type": "code",
   "execution_count": null,
   "id": "35d0884c",
   "metadata": {},
   "outputs": [],
   "source": [
    "# class\n",
    "# object\n",
    "\n",
    "class is a blueprint\n",
    "\n",
    "variable---attributes---data members\n",
    "functions---"
   ]
  },
  {
   "cell_type": "code",
   "execution_count": null,
   "id": "733c933f",
   "metadata": {},
   "outputs": [],
   "source": [
    "class student\n",
    "    def __init__(self):\n",
    "        self.name=\"\"\n",
    "        self.age=0\n",
    "        self.mobile=\"\"\n",
    "    \n",
    "    def getvalue(self):\n",
    "        self.name=input(\"enter name: \")\n",
    "        self.age=int(input(\"enter age: \"))\n",
    "        self.mobile=input(\"enter mobile: \")\n",
    "        \n",
    "    def showdata(self):\n",
    "        print(f\"name is {self.name} age is {self.age} and mobile is {self.mobile})"
   ]
  },
  {
   "cell_type": "code",
   "execution_count": null,
   "id": "a7c17b59",
   "metadata": {},
   "outputs": [],
   "source": [
    "# \\objectname=classname()\n",
    "# attributes---name,age,mobile\n",
    "#  methods---getvalue(),showvalue()\n",
    "s1=student()\n",
    "s1.getvalue()\n",
    "s1.showdata()\n",
    "s2=tudent()"
   ]
  },
  {
   "cell_type": "code",
   "execution_count": 8,
   "id": "5acceee6",
   "metadata": {},
   "outputs": [],
   "source": [
    "class rectangle:\n",
    "    def __init__(self):\n",
    "        self.length=0\n",
    "        self.width=0\n",
    "    \n",
    "    def getvalue(self):\n",
    "        self.length=int(input(\"enter length: \"))\n",
    "        self.width=int(input(\"enter width: \"))\n",
    "        self.area=self.length*self.width\n",
    "        \n",
    "    def showdata(self):\n",
    "        print(f\"area is {self.area} length is {self.length} width is {self.width}\")"
   ]
  },
  {
   "cell_type": "code",
   "execution_count": 10,
   "id": "762be233",
   "metadata": {},
   "outputs": [
    {
     "name": "stdout",
     "output_type": "stream",
     "text": [
      "enter length: 67867\n",
      "enter width: 4545\n",
      "area is 308455515 length is 67867 width is 4545\n"
     ]
    }
   ],
   "source": [
    "r1=rectangle()\n",
    "r1.getvalue()\n",
    "r1.showdata()"
   ]
  }
 ],
 "metadata": {
  "kernelspec": {
   "display_name": "Python 3 (ipykernel)",
   "language": "python",
   "name": "python3"
  },
  "language_info": {
   "codemirror_mode": {
    "name": "ipython",
    "version": 3
   },
   "file_extension": ".py",
   "mimetype": "text/x-python",
   "name": "python",
   "nbconvert_exporter": "python",
   "pygments_lexer": "ipython3",
   "version": "3.10.9"
  }
 },
 "nbformat": 4,
 "nbformat_minor": 5
}
