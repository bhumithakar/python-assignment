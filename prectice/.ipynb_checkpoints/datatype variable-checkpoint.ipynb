{
 "cells": [
  {
   "cell_type": "code",
   "execution_count": 1,
   "id": "1e26f43a",
   "metadata": {},
   "outputs": [
    {
     "name": "stdout",
     "output_type": "stream",
     "text": [
      "User screen\n"
     ]
    }
   ],
   "source": [
    "# developer screen\n",
    "print(\"User screen\")"
   ]
  },
  {
   "cell_type": "code",
   "execution_count": null,
   "id": "1fa329ca",
   "metadata": {},
   "outputs": [],
   "source": [
    "# Escape Sequence\n",
    "# \\n ----newline\n",
    "# \\t ----tab space\n",
    "# \\b ----backspace\n",
    "# \\' --single quote\n",
    "# \\\" ---double quote"
   ]
  },
  {
   "cell_type": "code",
   "execution_count": 2,
   "id": "f7669a20",
   "metadata": {},
   "outputs": [
    {
     "name": "stdout",
     "output_type": "stream",
     "text": [
      "jshfe wehr\thfwerbf \n",
      " w\brhfbwerfbwer\b\b rw\n"
     ]
    }
   ],
   "source": [
    "# Escape Sequence\n",
    "# string ''    \" \"    '''  '''     \"\"\"   \"\"\"\n",
    "print(\"jshfe wehr\\thfwerbf \\n w\\brhfbwerfbwer\\b\\b rw\")  #string"
   ]
  },
  {
   "cell_type": "code",
   "execution_count": 3,
   "id": "38fffef7",
   "metadata": {
    "scrolled": true
   },
   "outputs": [
    {
     "name": "stdout",
     "output_type": "stream",
     "text": [
      "Hello 'Wolrd\n",
      "HEllo \" Workld\n",
      "Hello ' \" Wolrd\n",
      "Hello wolrd\n"
     ]
    }
   ],
   "source": [
    "print('Hello \\'Wolrd')\n",
    "print(\"HEllo \\\" Workld\")\n",
    "print(\"\"\"Hello ' \" Wolrd\"\"\")\n",
    "print('''Hello wolrd''')"
   ]
  },
  {
   "cell_type": "code",
   "execution_count": 6,
   "id": "87c83095",
   "metadata": {},
   "outputs": [
    {
     "name": "stdout",
     "output_type": "stream",
     "text": [
      "value of a is 45\n"
     ]
    }
   ],
   "source": [
    "a=45\n",
    "# value of a is 45\n",
    "print(f\"value of a is {a}\") #formatted string"
   ]
  },
  {
   "cell_type": "code",
   "execution_count": 7,
   "id": "2301c314",
   "metadata": {},
   "outputs": [
    {
     "name": "stdout",
     "output_type": "stream",
     "text": [
      "Enter Number 48\n",
      "48\n"
     ]
    }
   ],
   "source": [
    "a=input(\"Enter Number \")\n",
    "print(a)"
   ]
  },
  {
   "cell_type": "code",
   "execution_count": null,
   "id": "3662a36e",
   "metadata": {},
   "outputs": [],
   "source": [
    "# how to create variables in python\n",
    "# variablename=value \n",
    "# datatype variablename=value   C \n",
    "\n",
    "datatypes are there in python\n",
    "loosely type language\n",
    "variable not need datatypes at the time of declaration\n",
    "\n",
    "variablename our choice but we have to follow some rules\n",
    "\n",
    "age=18"
   ]
  },
  {
   "cell_type": "code",
   "execution_count": null,
   "id": "17c5808e",
   "metadata": {},
   "outputs": [],
   "source": [
    "# Variablenaming rules--identifier rule\n",
    "# 1---first character a-z A-Z _\n",
    "# 2---other characters a-z A-Z _ 0-9\n",
    "\n",
    "# suggestions\n",
    "# 1---use a logical name\n",
    "# 2---don't use space between variablename use _"
   ]
  },
  {
   "cell_type": "code",
   "execution_count": null,
   "id": "280c945c",
   "metadata": {},
   "outputs": [],
   "source": [
    "age=80\n",
    "datatypes in python\n",
    "\n",
    "int ---- 8 9 54 587 545- 89 -859 -565\n",
    "float--- 878 -989 45.32 -98.32 0.231\n",
    "String -'' \" \" ''' ''' \"\"\" \"\"\"\n",
    "boolean ---True Or False first letter should be capital"
   ]
  }
 ],
 "metadata": {
  "kernelspec": {
   "display_name": "Python 3 (ipykernel)",
   "language": "python",
   "name": "python3"
  },
  "language_info": {
   "codemirror_mode": {
    "name": "ipython",
    "version": 3
   },
   "file_extension": ".py",
   "mimetype": "text/x-python",
   "name": "python",
   "nbconvert_exporter": "python",
   "pygments_lexer": "ipython3",
   "version": "3.10.9"
  }
 },
 "nbformat": 4,
 "nbformat_minor": 5
}
