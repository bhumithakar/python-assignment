{
 "cells": [
  {
   "cell_type": "code",
   "execution_count": 1,
   "id": "1e26f43a",
   "metadata": {},
   "outputs": [
    {
     "name": "stdout",
     "output_type": "stream",
     "text": [
      "User screen\n"
     ]
    }
   ],
   "source": [
    "# developer screen\n",
    "print(\"User screen\")"
   ]
  },
  {
   "cell_type": "code",
   "execution_count": null,
   "id": "1fa329ca",
   "metadata": {},
   "outputs": [],
   "source": [
    "# Escape Sequence\n",
    "# \\n ----newline\n",
    "# \\t ----tab space\n",
    "# \\b ----backspace\n",
    "# \\' --single quote\n",
    "# \\\" ---double quote"
   ]
  },
  {
   "cell_type": "code",
   "execution_count": 2,
   "id": "f7669a20",
   "metadata": {},
   "outputs": [
    {
     "name": "stdout",
     "output_type": "stream",
     "text": [
      "jshfe wehr\thfwerbf \n",
      " w\brhfbwerfbwer\b\b rw\n"
     ]
    }
   ],
   "source": [
    "# Escape Sequence\n",
    "# string ''    \" \"    '''  '''     \"\"\"   \"\"\"\n",
    "print(\"jshfe wehr\\thfwerbf \\n w\\brhfbwerfbwer\\b\\b rw\")  #string"
   ]
  },
  {
   "cell_type": "code",
   "execution_count": 3,
   "id": "38fffef7",
   "metadata": {
    "scrolled": true
   },
   "outputs": [
    {
     "name": "stdout",
     "output_type": "stream",
     "text": [
      "Hello 'Wolrd\n",
      "HEllo \" Workld\n",
      "Hello ' \" Wolrd\n",
      "Hello wolrd\n"
     ]
    }
   ],
   "source": [
    "print('Hello \\'Wolrd')\n",
    "print(\"HEllo \\\" Workld\")\n",
    "print(\"\"\"Hello ' \" Wolrd\"\"\")\n",
    "print('''Hello wolrd''')"
   ]
  },
  {
   "cell_type": "code",
   "execution_count": 6,
   "id": "87c83095",
   "metadata": {},
   "outputs": [
    {
     "name": "stdout",
     "output_type": "stream",
     "text": [
      "value of a is 45\n"
     ]
    }
   ],
   "source": [
    "a=45\n",
    "# value of a is 45\n",
    "print(f\"value of a is {a}\") #formatted string"
   ]
  },
  {
   "cell_type": "code",
   "execution_count": 7,
   "id": "2301c314",
   "metadata": {},
   "outputs": [
    {
     "name": "stdout",
     "output_type": "stream",
     "text": [
      "Enter Number 48\n",
      "48\n"
     ]
    }
   ],
   "source": [
    "a=input(\"Enter Number \")\n",
    "print(a)"
   ]
  },
  {
   "cell_type": "code",
   "execution_count": null,
   "id": "6449b6ac",
   "metadata": {},
   "outputs": [],
   "source": [
    "# how to create variables in python\n",
    "# variablename=value \n",
    "# datatype variablename=value   C \n",
    "\n",
    "datatypes are there in python\n",
    "loosely type language\n",
    "variable not need datatypes at the time of declaration\n",
    "\n",
    "variablename our choice but we have to follow some rules\n",
    "\n",
    "age=18"
   ]
  },
  {
   "cell_type": "code",
   "execution_count": null,
   "id": "73eda4ee",
   "metadata": {},
   "outputs": [],
   "source": [
    "# Variablenaming rules--identifier rule\n",
    "# 1---first character a-z A-Z _\n",
    "# 2---other characters a-z A-Z _ 0-9\n",
    "\n",
    "# suggestions\n",
    "# 1---use a logical name\n",
    "# 2---don't use space between variablename use _"
   ]
  },
  {
   "cell_type": "code",
   "execution_count": null,
   "id": "b2153fcb",
   "metadata": {},
   "outputs": [],
   "source": [
    "age=80\n",
    "datatypes in python\n",
    "\n",
    "int ---- 8 9 54 587 545- 89 -859 -565\n",
    "float--- 878 -989 45.32 -98.32 0.231\n",
    "String -'' \" \" ''' ''' \"\"\" \"\"\"\n",
    "boolean ---True Or False first letter should be capital"
   ]
  },
  {
   "cell_type": "code",
   "execution_count": 1,
   "id": "fd118cb7",
   "metadata": {},
   "outputs": [
    {
     "name": "stdout",
     "output_type": "stream",
     "text": [
      "<class 'bool'>\n"
     ]
    }
   ],
   "source": [
    "age=True\n",
    "# type(variablename)--gives datatype of variables\n",
    "print(type(age))"
   ]
  },
  {
   "cell_type": "code",
   "execution_count": 2,
   "id": "7384d712",
   "metadata": {},
   "outputs": [
    {
     "name": "stdout",
     "output_type": "stream",
     "text": [
      "hello 81\n",
      "hello i am 81 rgerg hello wfgwergf81\n"
     ]
    }
   ],
   "source": [
    "# how to use variables inside print()\n",
    "d1=\"hello\"\n",
    "d2=81\n",
    "print(d1,d2)\n",
    "# d1 i am d2\n",
    "# hello i am 81\n",
    "# formatted string\n",
    "print(f\"{d1} i am {d2} rgerg {d1} wfgwergf{d2}\")"
   ]
  },
  {
   "cell_type": "code",
   "execution_count": 3,
   "id": "5bcd1c70",
   "metadata": {},
   "outputs": [
    {
     "name": "stdout",
     "output_type": "stream",
     "text": [
      "Enter Your Name: bhumi thakar\n",
      "Your name is bhumi thakar\n"
     ]
    }
   ],
   "source": [
    "# how to take user input in python\n",
    "# input([\"Message\"])\n",
    "name=input(\"Enter Your Name: \")\n",
    "print(f\"Your name is {name}\")"
   ]
  },
  {
   "cell_type": "code",
   "execution_count": 4,
   "id": "6d7f2cb1",
   "metadata": {},
   "outputs": [
    {
     "name": "stdout",
     "output_type": "stream",
     "text": [
      "Enter Something: uygygy\n"
     ]
    },
    {
     "ename": "ValueError",
     "evalue": "invalid literal for int() with base 10: 'uygygy'",
     "output_type": "error",
     "traceback": [
      "\u001b[1;31m---------------------------------------------------------------------------\u001b[0m",
      "\u001b[1;31mValueError\u001b[0m                                Traceback (most recent call last)",
      "Cell \u001b[1;32mIn[4], line 1\u001b[0m\n\u001b[1;32m----> 1\u001b[0m var1\u001b[38;5;241m=\u001b[39m\u001b[38;5;28;43mint\u001b[39;49m\u001b[43m(\u001b[49m\u001b[38;5;28;43minput\u001b[39;49m\u001b[43m(\u001b[49m\u001b[38;5;124;43m\"\u001b[39;49m\u001b[38;5;124;43mEnter Something: \u001b[39;49m\u001b[38;5;124;43m\"\u001b[39;49m\u001b[43m)\u001b[49m\u001b[43m)\u001b[49m\n\u001b[0;32m      2\u001b[0m \u001b[38;5;28mprint\u001b[39m(\u001b[38;5;28mtype\u001b[39m(var1))\n",
      "\u001b[1;31mValueError\u001b[0m: invalid literal for int() with base 10: 'uygygy'"
     ]
    }
   ],
   "source": [
    "var1=int(input(\"Enter Something: \"))\n",
    "print(type(var1))"
   ]
  },
  {
   "cell_type": "code",
   "execution_count": 5,
   "id": "323c508f",
   "metadata": {},
   "outputs": [
    {
     "ename": "SyntaxError",
     "evalue": "invalid syntax (2183453564.py, line 3)",
     "output_type": "error",
     "traceback": [
      "\u001b[1;36m  Cell \u001b[1;32mIn[5], line 3\u001b[1;36m\u001b[0m\n\u001b[1;33m    str(a) int\u001b[0m\n\u001b[1;37m           ^\u001b[0m\n\u001b[1;31mSyntaxError\u001b[0m\u001b[1;31m:\u001b[0m invalid syntax\n"
     ]
    }
   ],
   "source": [
    "# Type Conversion\n",
    "a=18\n",
    "str(a) int\n",
    "float bool"
   ]
  },
  {
   "cell_type": "code",
   "execution_count": 6,
   "id": "ce820063",
   "metadata": {},
   "outputs": [
    {
     "name": "stdout",
     "output_type": "stream",
     "text": [
      "2466686501616\n",
      "2466686502512\n"
     ]
    }
   ],
   "source": [
    "# id() --gives variable location or id\n",
    "a=17\n",
    "b=45\n",
    "print(id(a))\n",
    "print(id(b))"
   ]
  },
  {
   "cell_type": "code",
   "execution_count": null,
   "id": "7d2fe586",
   "metadata": {},
   "outputs": [],
   "source": [
    "# operators\n",
    "# arithmetic operator + - * / //(floor division) %(modulus) **(power)\n",
    "# relational operator > < >= < = == !=\n",
    "# logical operator and or not\n",
    "# assignement operator = += -= /= *= **= //=\n",
    "# bitwise operator & | >> <<\n",
    "# identity operator    is ....is not\n",
    "# membership operator    in....... not in"
   ]
  },
  {
   "cell_type": "code",
   "execution_count": 7,
   "id": "9b9420d5",
   "metadata": {},
   "outputs": [
    {
     "name": "stdout",
     "output_type": "stream",
     "text": [
      "5\n"
     ]
    }
   ],
   "source": [
    "print(48//9)"
   ]
  },
  {
   "cell_type": "code",
   "execution_count": 8,
   "id": "116b7908",
   "metadata": {},
   "outputs": [
    {
     "name": "stdout",
     "output_type": "stream",
     "text": [
      "30\n",
      "-19\n",
      "580\n",
      "3.869565217391304\n",
      "3\n"
     ]
    }
   ],
   "source": [
    "# arithmetic Operators\n",
    "print(10+20)\n",
    "print(50-69)\n",
    "print(10*58)\n",
    "print(89/23)\n",
    "print(48%5)"
   ]
  }
 ],
 "metadata": {
  "kernelspec": {
   "display_name": "Python 3 (ipykernel)",
   "language": "python",
   "name": "python3"
  },
  "language_info": {
   "codemirror_mode": {
    "name": "ipython",
    "version": 3
   },
   "file_extension": ".py",
   "mimetype": "text/x-python",
   "name": "python",
   "nbconvert_exporter": "python",
   "pygments_lexer": "ipython3",
   "version": "3.10.9"
  }
 },
 "nbformat": 4,
 "nbformat_minor": 5
}
