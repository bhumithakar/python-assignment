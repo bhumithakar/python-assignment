{
 "cells": [
  {
   "cell_type": "code",
   "execution_count": null,
   "id": "579879d0",
   "metadata": {},
   "outputs": [],
   "source": [
    "# 1. What is software?\n",
    "#     -> software is a set of instructions, data or programs used to operate computers and execute specific tasks."
   ]
  },
  {
   "cell_type": "code",
   "execution_count": null,
   "id": "8b79f16e",
   "metadata": {},
   "outputs": [],
   "source": [
    "# 2. What are the types of Applications?\n",
    "#     -> Word processors.\n",
    "#     -> Database programs.\n",
    "#     -> Web browsers.\n",
    "#     -> Deployment tools.\n",
    "#     -> Image editors.\n",
    "#     -> Communication platforms."
   ]
  },
  {
   "cell_type": "code",
   "execution_count": null,
   "id": "868841e1",
   "metadata": {},
   "outputs": [],
   "source": [
    "# 3. What is programing?\n",
    "#     -> Programming is defined as the act of writing computer code, to the act of scheduling television or radio programs, \n",
    "#     or behavior that has been instilled. An example of programming is the act a person is doing when he is writing computer \n",
    "#     source code."
   ]
  },
  {
   "cell_type": "code",
   "execution_count": null,
   "id": "681345a1",
   "metadata": {},
   "outputs": [],
   "source": [
    "# 4. What is Python?\n",
    "#     -> Python is a high-level, general-purpose programming language. Its design philosophy emphasizes code readability with \n",
    "#     the use of significant indentation via the off-side rule. Python is dynamically typed and garbage-collected."
   ]
  }
 ],
 "metadata": {
  "kernelspec": {
   "display_name": "Python 3 (ipykernel)",
   "language": "python",
   "name": "python3"
  },
  "language_info": {
   "codemirror_mode": {
    "name": "ipython",
    "version": 3
   },
   "file_extension": ".py",
   "mimetype": "text/x-python",
   "name": "python",
   "nbconvert_exporter": "python",
   "pygments_lexer": "ipython3",
   "version": "3.10.9"
  }
 },
 "nbformat": 4,
 "nbformat_minor": 5
}
