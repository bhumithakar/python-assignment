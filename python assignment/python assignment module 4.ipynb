{
 "cells": [
  {
   "cell_type": "code",
   "execution_count": null,
   "id": "ce9cbaf7",
   "metadata": {},
   "outputs": [],
   "source": [
    "# 1.  What is File function in python? What is keywords to create and write file. \n",
    "\n",
    "# Python file object provides methods and attributes to access and manipulate files.\n",
    "# Using file objects, we can read or write any files. Whenever we open a file to perform any operations on it,\n",
    "# Python returns a file object. To create a file object in Python use the built-in functions, such as open() and os. popen() .\n",
    "\n",
    "# readlines() : This function returns a list where each element is single line of that file.\n",
    "# write() : This function writes a fixed sequence of characters to a file.\n",
    "# writelines() : This function writes a list of string.\n",
    "# append() : This function append string to the file instead of overwriting the file"
   ]
  },
  {
   "cell_type": "code",
   "execution_count": 1,
   "id": "0c1a5d98",
   "metadata": {},
   "outputs": [
    {
     "name": "stdout",
     "output_type": "stream",
     "text": [
      "hello i am learning python\n"
     ]
    }
   ],
   "source": [
    "# 2.  Write a Python program to read an entire text file.\n",
    "\n",
    "file=open(\"2.txt\",\"r\") # use open function to read the the content of a file!\n",
    "print(file.read())\n",
    "file.close()"
   ]
  },
  {
   "cell_type": "code",
   "execution_count": 1,
   "id": "539d8e5d",
   "metadata": {},
   "outputs": [
    {
     "name": "stdout",
     "output_type": "stream",
     "text": [
      "Enter Name : hi\n",
      "2\n",
      "heyy!hellohihihi\n"
     ]
    }
   ],
   "source": [
    "# 3.  Write a Python program to append text to a file and display the text. \n",
    "\n",
    "name=input(\"Enter Name : \")\n",
    "file=open(\"3.txt\", \"a\")  #file open with append mood\n",
    "print(file.write(name))   \n",
    "file.close()\n",
    "\n",
    "file=open(\"3.txt\",\"r\")  #file open with read mood\n",
    "print(file.read())"
   ]
  },
  {
   "cell_type": "code",
   "execution_count": 3,
   "id": "202c1197",
   "metadata": {},
   "outputs": [
    {
     "name": "stdout",
     "output_type": "stream",
     "text": [
      "hy!\n"
     ]
    }
   ],
   "source": [
    "# 4.  Write a Python program to read first n lines of a file. \n",
    "\n",
    "file=open(\"4.txt\",\"r\") #file open with read mood\n",
    "\n",
    "print(file.readline())  #file is readline"
   ]
  },
  {
   "cell_type": "code",
   "execution_count": 4,
   "id": "513b67a5",
   "metadata": {},
   "outputs": [
    {
     "name": "stdout",
     "output_type": "stream",
     "text": [
      "Enter A Number : 2\n",
      "['hy!']\n"
     ]
    }
   ],
   "source": [
    "# 5.  Write a Python program to read last n lines of a file.\n",
    "\n",
    "n=int(input(\"Enter A Number : \"))\n",
    "fp=open(\"4.txt\",\"r\")  #file open with read mood\n",
    "lines=fp.readlines()     # open txt file read mode\n",
    "print(lines[-n:])    # last line read\n",
    "fp.close()"
   ]
  },
  {
   "cell_type": "code",
   "execution_count": 6,
   "id": "ac13f017",
   "metadata": {},
   "outputs": [
    {
     "name": "stdout",
     "output_type": "stream",
     "text": [
      "['python']\n"
     ]
    }
   ],
   "source": [
    "# 6.  Write a Python program to read a file line by line and store it into a list\n",
    "\n",
    "fp=open(\"6.txt\",\"r\") #file open with read mood\n",
    "\n",
    "lines=fp.readlines()\n",
    "\n",
    "print(lines)"
   ]
  },
  {
   "cell_type": "code",
   "execution_count": 7,
   "id": "9c772796",
   "metadata": {},
   "outputs": [
    {
     "name": "stdout",
     "output_type": "stream",
     "text": [
      "variable l1= ['python']\n"
     ]
    }
   ],
   "source": [
    "# 7.  Write a Python program to read a file line by line store it into a variable.\n",
    "\n",
    "file=open(\"6.txt\",\"r\")   # open file read mode\n",
    "l1=file.readlines()   # file reding\n",
    "print(\"variable l1=\",l1)"
   ]
  },
  {
   "cell_type": "code",
   "execution_count": 8,
   "id": "6724373e",
   "metadata": {},
   "outputs": [
    {
     "name": "stdout",
     "output_type": "stream",
     "text": [
      "Enter A number : 3\n",
      "Enter A string: hy\n",
      "Enter A string: thakar\n",
      "Enter A string: bhumi\n",
      "bhumi\n"
     ]
    }
   ],
   "source": [
    "# 8.  Write a python program to find the longest words.\n",
    "\n",
    "n=int(input(\"Enter A number : \"))\n",
    "list1=[]  # creat empty list\n",
    "for i in range(n):  \n",
    "    str1=input(\"Enter A string: \")\n",
    "    list1.append(str1)  #use  append to creat list\n",
    "    s=sorted(list1,key=len)  # Sort the words in increasing , order of their lengths\n",
    "print(list1[-1])  # s varible , # Print last word"
   ]
  },
  {
   "cell_type": "code",
   "execution_count": 9,
   "id": "036495da",
   "metadata": {},
   "outputs": [
    {
     "name": "stdout",
     "output_type": "stream",
     "text": [
      "6\n"
     ]
    }
   ],
   "source": [
    "# 9.  Write a Python program to count the number of lines in a text file. \n",
    "\n",
    "file=open(\"9.txt\",\"r\")  #open file with read mood\n",
    "count=0  #impty int\n",
    "for i in file:  #for loop in file\n",
    "    if i[0] not in \"\":  #if i of 0 not in \"\"\n",
    "        count+=1 #count in += of 1\n",
    "print(count) #print of count\n",
    "        \n",
    "file.close()"
   ]
  },
  {
   "cell_type": "code",
   "execution_count": 10,
   "id": "e7b078d6",
   "metadata": {},
   "outputs": [
    {
     "name": "stdout",
     "output_type": "stream",
     "text": [
      "{'india': 1, 'turkey': 1, 'italy': 1, 'usa': 1, 'newyork': 1, 'london': 1}\n"
     ]
    }
   ],
   "source": [
    "# 10. Write a Python program to count the frequency of words in a file.\n",
    "\n",
    "file = open(\"9.txt\",\"r\")\n",
    "n = ' '.join(line for line in file.read().splitlines())\n",
    "n = n.split(' ')\n",
    "dict= {}\n",
    "for word in n:\n",
    "    if word not in dict:\n",
    "        dict[word] = 1\n",
    "    else:\n",
    "        dict[word] += 1\n",
    "print(dict)        \n",
    "file.close()"
   ]
  },
  {
   "cell_type": "code",
   "execution_count": 11,
   "id": "443a1736",
   "metadata": {},
   "outputs": [
    {
     "name": "stdout",
     "output_type": "stream",
     "text": [
      "india\n",
      "turkey\n",
      "italy\n",
      "usa\n",
      "newyork\n",
      "london\n"
     ]
    }
   ],
   "source": [
    "# 11. Write a Python program to write a list to a file.\n",
    "\n",
    "file=open(\"9.txt\",\"r\")   # open file read mode\n",
    "file.close()  #ch file is close\n",
    "fp=open(\"9.txt\",\"r\") #file open with read mood\n",
    "print(fp.read()) #file is read and print"
   ]
  },
  {
   "cell_type": "code",
   "execution_count": 12,
   "id": "6b6d4c04",
   "metadata": {},
   "outputs": [
    {
     "name": "stdout",
     "output_type": "stream",
     "text": [
      "india\n",
      "turkey\n",
      "italy\n",
      "usa\n",
      "newyork\n",
      "london\n"
     ]
    }
   ],
   "source": [
    "# 12. Write a Python program to copy the contents of a file to another file.\n",
    "\n",
    "file=open(\"9.txt\",\"r\") #file open with read mood\n",
    "fp=open(\"12.txt\",\"w\")  #file open wioth write mood\n",
    "for line in file: #for loop in fp file\n",
    "    fp.write(line) #fp1 file write of line\n",
    "fp.close() #file is close\n",
    "fp=open(\"12.txt\",\"r\") #repet file open \n",
    "print(fp.read()) #file read and print"
   ]
  },
  {
   "cell_type": "code",
   "execution_count": null,
   "id": "d331aa02",
   "metadata": {},
   "outputs": [],
   "source": [
    "# 13. Explain Exception handling? What is an Error in Python? \n",
    "\n",
    "What is an exception handling in Python?\n",
    "\n",
    "An exception in Python is an incident that happens while executing a program that causes the regular course of the \n",
    "program's commands to be disrupted. When a Python code comes across a condition it can't handle, it raises an exception. \n",
    "An object in Python that describes an error is called an exception.\n",
    "\n",
    "# What is an Error in Python?\n",
    "\n",
    "# A syntax error occurs in Python when the interpreter is unable to parse the code due to the code violating \n",
    "# Python language rules, such as inappropriate indentation, erroneous keyword usage, or incorrect operator use"
   ]
  },
  {
   "cell_type": "code",
   "execution_count": null,
   "id": "acd61c2f",
   "metadata": {},
   "outputs": [],
   "source": [
    "# 14. How many except statements can a try-except block have? Name Some built-in exception classes:\n",
    "one except statement\n",
    "1. How many except statements can a try-except block have? \n",
    "    Explanation: There has to be at least one except statement.\n",
    "        \n",
    "Built-in Exceptions in Python "
   ]
  },
  {
   "cell_type": "code",
   "execution_count": null,
   "id": "8b831520",
   "metadata": {},
   "outputs": [],
   "source": [
    "# 15. When will the else part of try-except-else be executed? \n",
    "\n",
    "When will the else part of try-except-else be executed? Explanation: \n",
    "    The else part is executed when no exception occurs."
   ]
  },
  {
   "cell_type": "code",
   "execution_count": null,
   "id": "ef50c9b3",
   "metadata": {},
   "outputs": [],
   "source": [
    "# 16. can one block of except statements handle multiple exception? \n",
    "\n",
    "In Python, try-except blocks can be used to catch and respond to one or multiple exceptions\n",
    "In cases where a process raises more than one possible exception, they can all be handled using a single except clause.\n",
    "\n",
    "There are several approaches for handling multiple exceptions in Python, the most common of which are discussed below.\n",
    "1.Using Same Code Block for Multiple Exceptions\n",
    "2.Using Different Code Blocks for Multiple Exceptions\n",
    "3.Investigating Exceptions using If, Elif, Else Statements\n",
    "4.Multiple Except Clauses Matching\n",
    "5.Track, Analyze and Manage Errors With Rollbar"
   ]
  },
  {
   "cell_type": "code",
   "execution_count": null,
   "id": "ca76cb0f",
   "metadata": {},
   "outputs": [],
   "source": [
    "# 17. When is the finally block executed?\n",
    "\n",
    "The finally block always executes when the try block exits. \n",
    "This ensures that the finally block is executed even if an unexpected exception occurs."
   ]
  },
  {
   "cell_type": "code",
   "execution_count": null,
   "id": "1273c0b0",
   "metadata": {},
   "outputs": [],
   "source": [
    "# 18. What happens when „1‟== 1 is executed?\n",
    "\n",
    "# evaluates to False and does not raise any exception."
   ]
  },
  {
   "cell_type": "code",
   "execution_count": 1,
   "id": "9731aadb",
   "metadata": {},
   "outputs": [
    {
     "name": "stdout",
     "output_type": "stream",
     "text": [
      "Enter A Number : 5\n",
      "5\n",
      "finally.....\n"
     ]
    }
   ],
   "source": [
    "# 19. How Do You Handle Exceptions With Try/Except/Finally In Python? Explain with coding snippets.\n",
    "\n",
    "try: #try exception handling\n",
    "    num=int(input(\"Enter A Number : \"))\n",
    "    print(num)\n",
    "except ValueError:  #excepting valueerror\n",
    "    print(\"not a valid string.\")\n",
    "finally: #print  finally\n",
    "    print(\"finally.....\")"
   ]
  },
  {
   "cell_type": "code",
   "execution_count": 5,
   "id": "13adaa0e",
   "metadata": {},
   "outputs": [
    {
     "name": "stdout",
     "output_type": "stream",
     "text": [
      "Enter A  Even Number : 4\n",
      "Even Number Is 4\n"
     ]
    }
   ],
   "source": [
    "# 20. Write python program that user to enter only odd numbers, else will raise an exception.\n",
    "\n",
    "try: #try to exception handling\n",
    "    num=int(input(\"Enter A  Even Number : \"))\n",
    "    if num % 2 == 0:  #num divid to 2 and equl equl outof 0 value is even number\n",
    "        print(f\"Even Number Is {num}\") #print to even number\n",
    "except ValueError: #exceptin valueerror\n",
    "    print(\"Not A String Input Plese Intiger Number in except.\")"
   ]
  },
  {
   "cell_type": "code",
   "execution_count": null,
   "id": "eacc6515",
   "metadata": {},
   "outputs": [],
   "source": [
    "# 21. What are oops concepts? Is multiple inheritance supported in java\n",
    "\n",
    "# The main ideas behind Java's Object-Oriented Programming, OOP concepts include abstraction, encapsulation, \n",
    "# inheritance and polymorphism. Basically, Java OOP concepts let us create working methods and variables, \n",
    "# then re-use all or part of them without compromising security.\n",
    "\n",
    "# One reason why the Java programming language does not permit you to extend more than one class is to avoid the \n",
    "# issues of multiple inheritance of state, which is the ability to inherit fields from multiple classes."
   ]
  },
  {
   "cell_type": "code",
   "execution_count": 5,
   "id": "eec2bdc3",
   "metadata": {},
   "outputs": [
    {
     "name": "stdout",
     "output_type": "stream",
     "text": [
      "Enter Your Name : bhumi\n",
      "Enter Your Age : 21\n",
      "Enter Your E-Mail : gdfgdrgdtr\n",
      "Enter Your Mobile number : 43434353453\n",
      "Name Is bhumi\n",
      "Age Is 21\n",
      "E-Mail Is gdfgdrgdtr\n",
      "Mobile Number Is 43434353453\n"
     ]
    }
   ],
   "source": [
    "# 22. How to Define a Class in Python? What Is Self? Give An Example Of A Python Class\n",
    "\n",
    "# A class in Python can be defined using the class keyword. As per the syntax above, a class is defined using the \n",
    "# class keyword followed by the class name and : operator after the class name, which allows you to continue in the \n",
    "# next indented line to define class members.\n",
    "\n",
    "# The self parameter is a reference to the current instance of the class, and is used to access variables that \n",
    "# belongs to the class.\n",
    "\n",
    "\n",
    "class student:  #class of student\n",
    "    def _init_(self): #constructor\n",
    "        self.name=\"\"   #variable\n",
    "        self.age=0\n",
    "        self.email=\"\"\n",
    "        self.mobile=0\n",
    "        \n",
    "    def getdata(self): #function\n",
    "        self.name=input(\"Enter Your Name : \")\n",
    "        self.age=int(input(\"Enter Your Age : \"))\n",
    "        self.email=input(\"Enter Your E-Mail : \")\n",
    "        self.mobile=int(input(\"Enter Your Mobile number : \"))\n",
    "        \n",
    "    def showdata(self): #function\n",
    "        print(f\"Name Is {self.name}\")\n",
    "        print(f\"Age Is {self.age}\")\n",
    "        print(f\"E-Mail Is {self.email}\")\n",
    "        print(f\"Mobile Number Is {self.mobile}\")\n",
    "        \n",
    "s1=student() #creat object \n",
    "s1.getdata() #function call\n",
    "s1.showdata()#function call"
   ]
  },
  {
   "cell_type": "code",
   "execution_count": 6,
   "id": "bd4a25b1",
   "metadata": {},
   "outputs": [
    {
     "name": "stdout",
     "output_type": "stream",
     "text": [
      "enter length: 56\n",
      "enter width: 78\n",
      "area is 4368.0 length is 56.0 width is 78.0\n"
     ]
    }
   ],
   "source": [
    "# 23. Write a Python class named Rectangle constructed by a length and width and a method which will compute the area of a \n",
    "# rectangle\n",
    "\n",
    "class rectangle:\n",
    "    def _init_(self):    \n",
    "        self.length=\"\"\n",
    "        self.width=\"\"\n",
    "    \n",
    "    def getvalue(self):\n",
    "        self.length=float(input(\"enter length: \"))\n",
    "        self.width=float(input(\"enter width: \"))\n",
    "        self.area=self.length*self.width\n",
    "        \n",
    "    def showdata(self):\n",
    "        print(f\"area is {self.area} length is {self.length} width is {self.width}\")\n",
    "\n",
    "r1=rectangle()\n",
    "r1.getvalue()\n",
    "r1.showdata()"
   ]
  },
  {
   "cell_type": "code",
   "execution_count": 7,
   "id": "d2642d4b",
   "metadata": {},
   "outputs": [
    {
     "name": "stdout",
     "output_type": "stream",
     "text": [
      "Enter A Radius of Circle : 45\n",
      "Area of Cricle :6358.50\n",
      "Perimeter of Circle :282.60\n"
     ]
    }
   ],
   "source": [
    "# 24. Write a Python class named Circle constructed by a radius and two methods which will compute the area and the \n",
    "# perimeter of a circle\n",
    "\n",
    "class circle: #class of circle\n",
    "    def _init_(self): #cunstrocter\n",
    "        r=radius\n",
    "        \n",
    "    def area(self,r):#function pass to self and r\n",
    "        area=3.14*r*r #area of pii multiplication of 2r\n",
    "        print(f\"Area of Cricle :{area:.2f}\")\n",
    "    \n",
    "    def perimeter(self,r):#function pass to self and r\n",
    "        perimete=2*(3.14*r) #perimarte of 2 multiplication of pii in multiplication r\n",
    "        print(f\"Perimeter of Circle :{perimete:.2f}\")\n",
    "\n",
    "radius=float(input(\"Enter A Radius of Circle : \"))        \n",
    "c1=circle() #object call\n",
    "c1.area(radius) #function call and pass to radius\n",
    "c1.perimeter(radius) #function call and pass to radius"
   ]
  },
  {
   "cell_type": "code",
   "execution_count": null,
   "id": "bbf18443",
   "metadata": {},
   "outputs": [],
   "source": [
    "# 25. Explain Inheritance in Python with an example? What is init? Or What Is A Constructor In Python?\n",
    "\n",
    "# Inheritance relationship defines the classes that inherit from other classes as derived, subclass, or sub-type \n",
    "# classes. Base class remains to be the source from which a subclass inherits. For example, you have a Base class \n",
    "# of “Animal,” and a “Lion” is a Derived class. The inheritance will be Lion is an Animal\n",
    "\n",
    "# The _init_ method is the Python equivalent of the C++ constructor in an object-oriented approach. The _init_ function is \n",
    "# called every time an object is created from a class. The _init_ method lets the class initialize the object's attributes and \n",
    "# serves no other purpose. It is only used within classes.\n",
    "\n",
    "# What is a Constructor? A constructor is a unique function that gets called automatically when an object is created of a \n",
    "# class. The main purpose of a constructor is to initialize or assign values to the data members of that class. It cannot \n",
    "# return any value other than none."
   ]
  },
  {
   "cell_type": "code",
   "execution_count": null,
   "id": "6c95fb23",
   "metadata": {},
   "outputs": [],
   "source": [
    "# 26. What is Instantiation in terms of OOP terminology?\n",
    "\n",
    "# In the OOP language C#, instantiation describes the processes of creating a new object for a class using a new keyword."
   ]
  },
  {
   "cell_type": "code",
   "execution_count": null,
   "id": "17be66a2",
   "metadata": {},
   "outputs": [],
   "source": [
    "# 27. What is used to check whether an object o is an instance of class A?\n",
    "\n",
    "# The isinstance() function returns True if the specified object is of the specified type, otherwise False . If the \n",
    "# type parameter is a tuple, this function will return True if the object is one of the types in the tuple."
   ]
  },
  {
   "cell_type": "code",
   "execution_count": null,
   "id": "474079ea",
   "metadata": {},
   "outputs": [],
   "source": [
    "# 28. What relationship is appropriate for Course and Faculty?\n",
    "\n",
    "# many to many"
   ]
  },
  {
   "cell_type": "code",
   "execution_count": null,
   "id": "9f9ae5c6",
   "metadata": {},
   "outputs": [],
   "source": [
    "# 29. What relationship is appropriate for Student and Person?\n",
    "\n",
    "# one to many"
   ]
  }
 ],
 "metadata": {
  "kernelspec": {
   "display_name": "Python 3 (ipykernel)",
   "language": "python",
   "name": "python3"
  },
  "language_info": {
   "codemirror_mode": {
    "name": "ipython",
    "version": 3
   },
   "file_extension": ".py",
   "mimetype": "text/x-python",
   "name": "python",
   "nbconvert_exporter": "python",
   "pygments_lexer": "ipython3",
   "version": "3.10.9"
  }
 },
 "nbformat": 4,
 "nbformat_minor": 5
}
