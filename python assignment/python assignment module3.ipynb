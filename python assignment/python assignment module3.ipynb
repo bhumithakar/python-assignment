{
 "cells": [
  {
   "cell_type": "code",
   "execution_count": null,
   "id": "7fcb289b",
   "metadata": {},
   "outputs": [],
   "source": [
    "# 1.  What is List? How will you reverse a list?\n",
    "\n",
    "# What is List?\n",
    "# Lists are used to store multiple items in a single variable. Lists are one of 4 built-in data types in Python used to \n",
    "# store collections of data, the other 3 are Tuple, Set, and Dictionary, all with different qualities and usage.\n",
    "\n",
    "# How will you reverse a list? \n",
    "# In Python, a built-in function called reverse() is used to reverse the list. \n",
    "# This simple and quick way to reverse a list in Python requires little memory. \n",
    "# Syntax: list_name. reverse() Here, list_name means you have to write the list's name, which has to be reversed."
   ]
  },
  {
   "cell_type": "code",
   "execution_count": 1,
   "id": "8eeb9572",
   "metadata": {},
   "outputs": [
    {
     "name": "stdout",
     "output_type": "stream",
     "text": [
      "[2, 33, 222, 14]\n"
     ]
    }
   ],
   "source": [
    "# 2.  How will you remove last object from a list? Suppose list1 is [2, 33, 222, 14, and 25], what is list1 [-1]? \n",
    "\n",
    "#pop ([index]) \n",
    "\n",
    "list1=[2, 33, 222, 14, 25]   \n",
    "list1.pop()    # pop method         \n",
    "print(list1)   # removes last element"
   ]
  },
  {
   "cell_type": "code",
   "execution_count": null,
   "id": "e1380c6a",
   "metadata": {},
   "outputs": [],
   "source": [
    "#  3.  Differentiate between append () and extend () methods?\n",
    "\n",
    "#   The append() method in the Python programming language adds an item to a list that already exists whereas\n",
    "#   The extend() method adds each of the iterable elements which is supplied as a parameter to the end of the original list."
   ]
  },
  {
   "cell_type": "code",
   "execution_count": 1,
   "id": "45322cc3",
   "metadata": {},
   "outputs": [
    {
     "name": "stdout",
     "output_type": "stream",
     "text": [
      "how many element enterd in list :4\n",
      "Enter Value: 67\n",
      "Enter Value: 89\n",
      "Enter Value: 76\n",
      "Enter Value: 34\n",
      "[67, 89, 76, 34]\n",
      "largest number in list is :89 \n",
      "smallest number in list is :34\n",
      "sum of all number in list is :266\n"
     ]
    }
   ],
   "source": [
    "# 4. Write a Python function to get the largest number, smallest num and sum \n",
    "# of all from a list.\n",
    "\n",
    "n=int(input(\"element enterd in list:\"))\n",
    "list1=[]     # -----create empty list\n",
    "for i in range(n):\n",
    "    value=int(input(\"Enter Value: \"))\n",
    "    list1.append(value)  #-------------------append method (element)  \n",
    "    \n",
    "print(list1)\n",
    "\n",
    "print(f\"largest number in list is :{max(list1)} \")   # maths rule\n",
    "print(f\"smallest number in list is :{min(list1)}\")   # maths rule\n",
    "print(f\"sum of all number in list is :{sum(list1)}\") # maths rule"
   ]
  },
  {
   "cell_type": "code",
   "execution_count": null,
   "id": "e28c71b2",
   "metadata": {},
   "outputs": [],
   "source": [
    "# 5.  How will you compare two lists?\n",
    "\n",
    "# Python provides multiple ways to compare the two lists. Comparison is the process when the data items of are \n",
    "# checked against another data item of list, whether they are the same or not.\n",
    "\n",
    "# The methods of comparing two lists are given below.\n",
    "\n",
    "# The cmp() function\n",
    "# The set() function and == operator\n",
    "# The sort() function and == operator\n",
    "# The collection.counter() function\n",
    "# The reduce() and map() function"
   ]
  },
  {
   "cell_type": "code",
   "execution_count": null,
   "id": "74860787",
   "metadata": {},
   "outputs": [],
   "source": [
    "# 6.  Write a Python program to count the number of strings where the string length is 2 or more and the \n",
    "# first and last character are same from a given list of  strings.\n",
    "\n"
   ]
  },
  {
   "cell_type": "code",
   "execution_count": 2,
   "id": "bcab0708",
   "metadata": {},
   "outputs": [
    {
     "name": "stdout",
     "output_type": "stream",
     "text": [
      "how many element enterd in list :3\n",
      "Enter Value: 65\n",
      "Enter Value: 89\n",
      "Enter Value: 65\n",
      "The list after removing duplicates : ['65', '89']  \n"
     ]
    }
   ],
   "source": [
    "# 7.  Write a Python program to remove duplicates from a list. \n",
    "\n",
    "# initializing list \n",
    "n=int(input(\"element enterd in list:\"))\n",
    "\n",
    "list1=[]    #  create empty list1\n",
    "for i in range(n):\n",
    "    value=input(\"Enter Value: \")\n",
    "    list1.append(value)   # use append method to creat list for user\n",
    "\n",
    "\n",
    "# remove duplicated from list \n",
    "list2 = []  #  create empty list2\n",
    "for i in list1: \n",
    "    if i not in list2: \n",
    "        list2.append(i)   # use append method to remove duplicated from list\n",
    "\n",
    "# printing list after removal \n",
    "print (f\"The list after removing duplicates : {list2}  \") "
   ]
  },
  {
   "cell_type": "code",
   "execution_count": 3,
   "id": "38f11d17",
   "metadata": {},
   "outputs": [
    {
     "name": "stdout",
     "output_type": "stream",
     "text": [
      "how many element enterd in list :3\n",
      "Enter Value: 67\n",
      "Enter Value: 54\n",
      "Enter Value: 78\n",
      "['67', '54', '78'] : \t this list is not empty\n"
     ]
    }
   ],
   "source": [
    "# 8.  Write a Python program to check a list is empty or not. \n",
    "\n",
    "num=int(input(\"element enterd in list:\"))\n",
    "\n",
    "list1=[]\n",
    "for i in range(num):\n",
    "    value=input(\"Enter Value: \")\n",
    "    list1.append(value)                            #  use append method to creat list for user\n",
    "\n",
    "if list1 == []:                                    # ----use conditional statements\n",
    "    print(f\"{list1} : \\t list is empty\")\n",
    "else:\n",
    "    print(f\"{list1} : \\t list is not empty\")"
   ]
  },
  {
   "cell_type": "code",
   "execution_count": null,
   "id": "050d626a",
   "metadata": {},
   "outputs": [],
   "source": [
    "# 9.  Write a Python function that takes two lists and returns true if they have at least one common member."
   ]
  },
  {
   "cell_type": "code",
   "execution_count": null,
   "id": "f29cdc2d",
   "metadata": {},
   "outputs": [],
   "source": [
    "# 10.  Write a Python program to generate and print a list of first and last 5 elements where the values are \n",
    "# square of numbers between 1 and 30."
   ]
  },
  {
   "cell_type": "code",
   "execution_count": null,
   "id": "4988c394",
   "metadata": {},
   "outputs": [],
   "source": [
    "# 11. Write a Python function that takes a list and returns a new list with unique elements of the first list."
   ]
  },
  {
   "cell_type": "code",
   "execution_count": 7,
   "id": "1322fbf3",
   "metadata": {},
   "outputs": [
    {
     "name": "stdout",
     "output_type": "stream",
     "text": [
      "abcd\n"
     ]
    }
   ],
   "source": [
    "# 12. Write a Python program to convert a list of characters into a string. \n",
    "\n",
    "d = ['a', 'b', 'c', 'd']\n",
    "str1 = ''.join(d)\n",
    "print(str1)"
   ]
  },
  {
   "cell_type": "code",
   "execution_count": null,
   "id": "4277e42f",
   "metadata": {},
   "outputs": [],
   "source": [
    "# 13. Write a Python program to select an item randomly from a list. "
   ]
  },
  {
   "cell_type": "code",
   "execution_count": 5,
   "id": "1eed48a6",
   "metadata": {},
   "outputs": [
    {
     "name": "stdout",
     "output_type": "stream",
     "text": [
      "how many element enterd in list :3\n",
      "Enter Value: 2\n",
      "Enter Value: 45\n",
      "Enter Value: 34\n",
      "The sorted list: ['2', '34', '45'] \n",
      "The second smallest value of this list: 34 \n"
     ]
    }
   ],
   "source": [
    "# 14. Write a Python program to find the second smallest number in a list.\n",
    "\n",
    "n=int(input(\"element enterd in list:\"))\n",
    "\n",
    "list1=[]\n",
    "for i in range(n):\n",
    "    value=input(\"Enter Value: \")\n",
    "    list1.append(value)    #---------use append method to creat list for user\n",
    "list1.sort()               #---------converts list in ascending order\n",
    "\n",
    "print(f\"The sorted list: {list1} \") \n",
    "print(f\"The second smallest value of this list: {list1[1]} \")"
   ]
  },
  {
   "cell_type": "code",
   "execution_count": 6,
   "id": "3b7ae405",
   "metadata": {},
   "outputs": [
    {
     "name": "stdout",
     "output_type": "stream",
     "text": [
      "how many element enterd in list :4\n",
      "Enter Value: 334\n",
      "Enter Value: 55\n",
      "Enter Value: 32\n",
      "Enter Value: 54\n",
      "Unique elements of the list : ['334', '55', '32', '54']  \n"
     ]
    }
   ],
   "source": [
    "# 15. Write a Python program to get unique values from a list\n",
    "\n",
    "# initializing list \n",
    "n=int(input(\"element enterd in list:\"))\n",
    "\n",
    "list1=[]    #  create empty list1\n",
    "for i in range(n):\n",
    "    value=input(\"Enter Value: \")\n",
    "    list1.append(value)   #------ use append method to creat list for user\n",
    "\n",
    "# remove duplicated from list \n",
    "list2 = []  #  create empty list2\n",
    "for i in list1: \n",
    "    if i not in list2: \n",
    "        list2.append(i)   #--- use append method to get unique values from a list\n",
    "\n",
    "# printing list after removal \n",
    "print (f\"Unique elements of the list: {list2}  \") "
   ]
  },
  {
   "cell_type": "code",
   "execution_count": null,
   "id": "a3e70841",
   "metadata": {},
   "outputs": [],
   "source": [
    "# 16. Write a Python program to check whether a list contains a sub list "
   ]
  },
  {
   "cell_type": "code",
   "execution_count": 7,
   "id": "a6973d80",
   "metadata": {},
   "outputs": [
    {
     "name": "stdout",
     "output_type": "stream",
     "text": [
      " Hello World\n",
      " Good Morning \n",
      " I am Doc \n"
     ]
    }
   ],
   "source": [
    "# 17. Write a Python program to split a list into different variables. \n",
    "\n",
    "list1=[\" Hello World\" ,\" Good Morning \",\" I am Doc \" ]\n",
    "#a, b, c = profession.split()\n",
    "var1, var2, var3 = list1  \n",
    "print(var1)\n",
    "print(var2)\n",
    "print(var3)"
   ]
  },
  {
   "cell_type": "code",
   "execution_count": null,
   "id": "3efd75dc",
   "metadata": {},
   "outputs": [],
   "source": [
    "# 18. What is tuple? Difference between list and tuple.\n",
    "\n",
    "# Tuples are used to store multiple items in a single variable. Tuple is one of 4 built-in data types in Python used to \n",
    "# store collections of data, the other 3 are List, Set, and Dictionary, all with different qualities and usage.\n",
    "# A tuple is a collection which is ordered and unchangeable.\n",
    "\n",
    "# Difference between list and tuple. \n",
    "\n",
    "# tuple:\n",
    "# 1. tuple is also a collection of element of similar or ifferent datatyp\n",
    "# 2. tuple is also a ordrere collection\n",
    "# 3. tuple immutable changes not allowed\n",
    "# 4. tuple data are defined in round braces ex:()\n",
    "# 5. tuple is not changeable in both format means not asingle element or neither a collection\n",
    "\n",
    "# list:\n",
    "# 1. list is a collection of elements of different as well as same datatype\n",
    "# 2. list is ordered collection\n",
    "# 3. list is mutable ----changes allowed\n",
    "# 4. list data are defined in array ex: []\n",
    "# 5. Therefore, it is possible to change a list"
   ]
  },
  {
   "cell_type": "code",
   "execution_count": 8,
   "id": "7fcb40fc",
   "metadata": {},
   "outputs": [
    {
     "name": "stdout",
     "output_type": "stream",
     "text": [
      "(45, 67.78, 'string', [45, 67], (90, 56), 'Hello', {34, 67}, {6: 45}, True)\n"
     ]
    }
   ],
   "source": [
    "# 19. Write a Python program to create a tuple with different data types. \n",
    "\n",
    "tupl=(45,67.78,\"string\",[45,67],(90,56),\"Hello\",{34,67},{6:45},True) \n",
    "print(tupl)"
   ]
  },
  {
   "cell_type": "code",
   "execution_count": 9,
   "id": "12a3f2f2",
   "metadata": {},
   "outputs": [
    {
     "name": "stdout",
     "output_type": "stream",
     "text": [
      "Tuple numbers = (10, 20, 40, 60, 80, 100)\n"
     ]
    }
   ],
   "source": [
    "# 20. Write a Python program to create a tuple with numbers.\n",
    "\n",
    "# Create a tuple with numbers\n",
    "Tuple = 10, 20, 40, 60, 80, 100\n",
    "# tuple=int(input(\"enter numbers :\"))\n",
    "print(f\"Tuple numbers = {Tuple}\" )"
   ]
  },
  {
   "cell_type": "code",
   "execution_count": 10,
   "id": "16c5556c",
   "metadata": {},
   "outputs": [
    {
     "name": "stdout",
     "output_type": "stream",
     "text": [
      "exercises\n"
     ]
    }
   ],
   "source": [
    "# 21. Write a Python program to convert a tuple to a string.\n",
    "tup = ('e', 'x', 'e', 'r', 'c', 'i', 's', 'e', 's')  \n",
    "str1 =  ''.join(tup)  \n",
    "print(str1)  "
   ]
  },
  {
   "cell_type": "code",
   "execution_count": 1,
   "id": "a9f71773",
   "metadata": {},
   "outputs": [
    {
     "name": "stdout",
     "output_type": "stream",
     "text": [
      "element enterd in list:3\n",
      "Enter Value: 23\n",
      "Enter Value: 56\n",
      "Enter Value: 45\n",
      "['23', '56', '45']\n",
      "Enter Tuple Item to Find = 23\n",
      "List : ['23']\n",
      "Tuple : ('23',)\n",
      "  23 : This is ----> True\n"
     ]
    }
   ],
   "source": [
    "# 22. Write a Python program to check whether an element exists within atuple.\n",
    "\n",
    "num=int(input(\"element enterd in list:\"))\n",
    "\n",
    "list1=[]\n",
    "for i in range(num):\n",
    "    value=input(\"Enter Value: \")\n",
    "    list1.append(value)  #use append method to creat list for user\n",
    "    \n",
    "print(list1)\n",
    "    \n",
    "number =input(\"Enter Tuple Item to Find = \") # Check Element Presnet in list\n",
    "list1 = number.split(\",\")  #using the split() method and assigns it to the variable 'list'.\n",
    "tuple = tuple(list1)    #using the tuple() function and assigns it to the variable 'tuple'.\n",
    "print(f\"List : {list1}\")\n",
    "print(f\"Tuple : {tuple}\")\n",
    "\n",
    "\n",
    "if number in list1:   # use conditional statements \n",
    "    print(f\"  {number} : This is ----> True\")    \n",
    "else:\n",
    "    print(f\"  {number} :  this is ----> False\")"
   ]
  },
  {
   "cell_type": "code",
   "execution_count": 11,
   "id": "57c4e257",
   "metadata": {},
   "outputs": [
    {
     "data": {
      "text/plain": [
       "10"
      ]
     },
     "execution_count": 11,
     "metadata": {},
     "output_type": "execute_result"
    }
   ],
   "source": [
    "# 23. Write a Python program to find the length of a tuple.\n",
    "\n",
    "tup=(45,58.23,True,\"String\",'A',\"hello world\",[45,36],(45,89),{41,20},{1:89})\n",
    "len(tup)"
   ]
  },
  {
   "cell_type": "code",
   "execution_count": 2,
   "id": "dfcce44c",
   "metadata": {},
   "outputs": [
    {
     "name": "stdout",
     "output_type": "stream",
     "text": [
      "how many element enterd in list :4\n",
      "Enter Value: 34\n",
      "Enter Value: 67\n",
      "Enter Value: 98\n",
      "Enter Value: 56\n",
      "[34, 67, 98, 56]\n",
      "(34, 67, 98, 56)\n"
     ]
    }
   ],
   "source": [
    "# 24. Write a Python program to convert a list to a tuple.\n",
    "\n",
    "#Convert list to tuple\n",
    "n=int(input(\"element enterd in list:\"))\n",
    "\n",
    "list1=[]\n",
    "for i in range(n):\n",
    "    value=int(input(\"Enter Value: \"))\n",
    "    list1.append(value)  #use append method to creat list for user\n",
    "print(list1)\n",
    "#use the tuple() function built-in Python, passing as parameter the list\n",
    "tupl = tuple(list1)\n",
    "print(tupl)"
   ]
  },
  {
   "cell_type": "code",
   "execution_count": 3,
   "id": "403d2624",
   "metadata": {},
   "outputs": [
    {
     "name": "stdout",
     "output_type": "stream",
     "text": [
      "(1000, 270, 395, 325, 'pineapple', 'cherry', 'banana', 'apple')\n"
     ]
    }
   ],
   "source": [
    "# 25. Write a Python program to reverse a tuple.\n",
    "\n",
    "tupl = ('apple', 'banana', 'cherry','pineapple',325,395,270,1000)   #create one tuple\n",
    "revers = reversed(tupl)\n",
    "revers = tuple(revers)     #for reverse a tuple\n",
    "print(revers)"
   ]
  },
  {
   "cell_type": "code",
   "execution_count": 4,
   "id": "b58a1f0e",
   "metadata": {},
   "outputs": [
    {
     "name": "stdout",
     "output_type": "stream",
     "text": [
      "Enter  elements for the tuple: 3\n",
      "enter number : 23\n",
      "enter number : 45\n",
      "enter number : 78\n",
      "\n",
      "Original Tuple: ('23', '45', '78')\n",
      "Reversed Tuple: ('78', '45', '23')\n"
     ]
    }
   ],
   "source": [
    "# 26. Write a Python program to replace last value of tuples in a list.\n",
    "\n",
    "n=int(input(\"elements for the tuple: \"))   #initializing the tuple\n",
    "list1=[]\n",
    "for i in range(n):\n",
    "    n=input(\"enter number: \")\n",
    "    list1.append(n)\n",
    "\n",
    "tupl = tuple(list1)\n",
    "\n",
    "Reversed = tupl[::-1]       # Reversing a tuple using slicing technique\n",
    "\n",
    "print(f\"\\nOriginal Tuple: {tupl}\")     #displaying the original tuple\n",
    "print(f\"Reversed Tuple: {Reversed}\")       #displaying the Reversing tuple"
   ]
  },
  {
   "cell_type": "code",
   "execution_count": 6,
   "id": "ea52644f",
   "metadata": {},
   "outputs": [
    {
     "name": "stdout",
     "output_type": "stream",
     "text": [
      "(1, 2, 3, 4, 56, 96, 45, 1, 24, 5, 45, 36, 0, 63, 0, 45)\n",
      "enter num : 3\n",
      "1\n"
     ]
    }
   ],
   "source": [
    "# 27. Write a Python program to find the repeated items of a tuple.\n",
    "\n",
    "d = (1,2,3,4,56,96,45,1,24,5,45,36,0,63,0,45)  #create one tuple\n",
    "print(d)\n",
    "n=int(input(\"enter number: \"))\n",
    "count = d.count(n)    #use count method\n",
    "print(count)"
   ]
  },
  {
   "cell_type": "code",
   "execution_count": 9,
   "id": "e4e933b0",
   "metadata": {},
   "outputs": [
    {
     "name": "stdout",
     "output_type": "stream",
     "text": [
      "[('',), ('a', 'b'), ('a', 'b', 'c'), 'd']\n"
     ]
    }
   ],
   "source": [
    "# 28. Write a Python program to remove an empty tuple(s) from a list of tuples.\n",
    "\n",
    "d= [(), (), ('',), ('a', 'b'), ('a', 'b', 'c'), ('d')]  #create one tuple\n",
    "d = [t for t in d if t]    #for remove empty tuple use for loop\n",
    "print(d)"
   ]
  },
  {
   "cell_type": "code",
   "execution_count": null,
   "id": "c033b0c6",
   "metadata": {},
   "outputs": [],
   "source": [
    "# 29. Write a Python program to unzip a list of tuples into individual lists."
   ]
  },
  {
   "cell_type": "code",
   "execution_count": null,
   "id": "059553c4",
   "metadata": {},
   "outputs": [],
   "source": [
    "# 30. Write a Python program to convert a list of tuples into a dictionary.\n",
    "\n",
    "l = [(\"Name\", \"dhruvi\"), (\"Name\", \"bhumi\"), (\"Name\", \"Sara\"), (\"Age\", 21), (\"Gender\", \"Female\"), \n",
    "     (\"Age\", 23), (\"Gender\", \"Female\"), (\"Gender\", \"Female\") , (\"Age\", 22)]"
   ]
  },
  {
   "cell_type": "code",
   "execution_count": null,
   "id": "346bd2af",
   "metadata": {},
   "outputs": [],
   "source": [
    "# 31. How will you create a dictionary using tuples in python?"
   ]
  }
 ],
 "metadata": {
  "kernelspec": {
   "display_name": "Python 3 (ipykernel)",
   "language": "python",
   "name": "python3"
  },
  "language_info": {
   "codemirror_mode": {
    "name": "ipython",
    "version": 3
   },
   "file_extension": ".py",
   "mimetype": "text/x-python",
   "name": "python",
   "nbconvert_exporter": "python",
   "pygments_lexer": "ipython3",
   "version": "3.10.9"
  }
 },
 "nbformat": 4,
 "nbformat_minor": 5
}
