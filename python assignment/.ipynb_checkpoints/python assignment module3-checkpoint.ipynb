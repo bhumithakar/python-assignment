{
 "cells": [
  {
   "cell_type": "code",
   "execution_count": null,
   "id": "7fcb289b",
   "metadata": {},
   "outputs": [],
   "source": [
    "# 1.  What is List? How will you reverse a list?\n",
    "\n",
    "# What is List?\n",
    "# Lists are used to store multiple items in a single variable. Lists are one of 4 built-in data types in Python used to \n",
    "# store collections of data, the other 3 are Tuple, Set, and Dictionary, all with different qualities and usage.\n",
    "\n",
    "# How will you reverse a list? \n",
    "# In Python, a built-in function called reverse() is used to reverse the list. \n",
    "# This simple and quick way to reverse a list in Python requires little memory. \n",
    "# Syntax: list_name. reverse() Here, list_name means you have to write the list's name, which has to be reversed."
   ]
  },
  {
   "cell_type": "code",
   "execution_count": 1,
   "id": "8eeb9572",
   "metadata": {},
   "outputs": [
    {
     "name": "stdout",
     "output_type": "stream",
     "text": [
      "[2, 33, 222, 14]\n"
     ]
    }
   ],
   "source": [
    "# 2.  How will you remove last object from a list? Suppose list1 is [2, 33, 222, 14, and 25], what is list1 [-1]? \n",
    "\n",
    "#pop ([index]) \n",
    "\n",
    "list1=[2, 33, 222, 14, 25]   \n",
    "list1.pop()    # pop method         \n",
    "print(list1)   # removes last element"
   ]
  },
  {
   "cell_type": "code",
   "execution_count": null,
   "id": "e1380c6a",
   "metadata": {},
   "outputs": [],
   "source": [
    "#  3.  Differentiate between append () and extend () methods?\n",
    "\n",
    "#   The append() method in the Python programming language adds an item to a list that already exists whereas\n",
    "#   The extend() method adds each of the iterable elements which is supplied as a parameter to the end of the original list."
   ]
  },
  {
   "cell_type": "code",
   "execution_count": 12,
   "id": "45322cc3",
   "metadata": {},
   "outputs": [
    {
     "name": "stdout",
     "output_type": "stream",
     "text": [
      "enter element in list:4\n",
      "Enter Value: 6\n",
      "Enter Value: 7\n",
      "Enter Value: 9\n",
      "Enter Value: 3\n",
      "[6, 7, 9, 3]\n",
      "largest number in list is :9 \n",
      "smallest number in list is :3\n",
      "sum of all number in list is :25\n"
     ]
    }
   ],
   "source": [
    "# 4. Write a Python function to get the largest number, smallest num and sum \n",
    "# of all from a list.\n",
    "\n",
    "n=int(input(\"enter element in list:\"))\n",
    "list1=[]     # -----create empty list\n",
    "for i in range(n):\n",
    "    value=int(input(\"Enter Value: \"))\n",
    "    list1.append(value)  #-------------------append method (element)  \n",
    "    \n",
    "print(list1)\n",
    "\n",
    "print(f\"largest number in list is :{max(list1)} \")   # maths rule\n",
    "print(f\"smallest number in list is :{min(list1)}\")   # maths rule\n",
    "print(f\"sum of all number in list is :{sum(list1)}\") # maths rule"
   ]
  },
  {
   "cell_type": "code",
   "execution_count": null,
   "id": "e28c71b2",
   "metadata": {},
   "outputs": [],
   "source": [
    "# 5.  How will you compare two lists?\n",
    "\n",
    "# Python provides multiple ways to compare the two lists. Comparison is the process when the data items of are \n",
    "# checked against another data item of list, whether they are the same or not.\n",
    "\n",
    "# The methods of comparing two lists are given below.\n",
    "\n",
    "# The cmp() function\n",
    "# The set() function and == operator\n",
    "# The sort() function and == operator\n",
    "# The collection.counter() function\n",
    "# The reduce() and map() function"
   ]
  },
  {
   "cell_type": "code",
   "execution_count": 1,
   "id": "74860787",
   "metadata": {},
   "outputs": [
    {
     "name": "stdout",
     "output_type": "stream",
     "text": [
      "Enter number :3\n",
      "Enter string : 6\n",
      "Enter string : 7\n",
      "Enter string : 5\n",
      "list1 is : ['6', '7', '5'] \n"
     ]
    }
   ],
   "source": [
    "# 6.  Write a Python program to count the number of strings where the string length is 2 or more and the \n",
    "# first and last character are same from a given list of  strings.\n",
    "\n",
    "list1=[]\n",
    "num = int(input(\"Enter number :\"))\n",
    "for i in range(num):\n",
    "    element=input(\"Enter string : \")\n",
    "    list1.append(element)      # append method (element) add string at last of list\n",
    "print(f\"list1 is : {list1} \")    \n",
    "\n",
    "for i in list1: \n",
    "    if len(i)>=2 and i[0] == i[-1]:  # if length is greater than equal 2 and first and last character are same then the string is print\n",
    "        print(i)"
   ]
  },
  {
   "cell_type": "code",
   "execution_count": 13,
   "id": "bcab0708",
   "metadata": {},
   "outputs": [
    {
     "name": "stdout",
     "output_type": "stream",
     "text": [
      "enter element in list:5\n",
      "Enter Value: 8\n",
      "Enter Value: 67\n",
      "Enter Value: 465\n",
      "Enter Value: 88\n",
      "Enter Value: 6\n",
      "The list after removing duplicates : ['8', '67', '465', '88', '6']  \n"
     ]
    }
   ],
   "source": [
    "# 7.  Write a Python program to remove duplicates from a list. \n",
    "\n",
    "# initializing list \n",
    "n=int(input(\"enter element in list:\"))\n",
    "\n",
    "list1=[]    #  create empty list1\n",
    "for i in range(n):\n",
    "    value=input(\"Enter Value: \")\n",
    "    list1.append(value)   # use append method to creat list for user\n",
    "\n",
    "\n",
    "# remove duplicated from list \n",
    "list2 = []  #  create empty list2\n",
    "for i in list1: \n",
    "    if i not in list2: \n",
    "        list2.append(i)   # use append method to remove duplicated from list\n",
    "\n",
    "# printing list after removal \n",
    "print (f\"The list after removing duplicates : {list2}  \") "
   ]
  },
  {
   "cell_type": "code",
   "execution_count": 14,
   "id": "38f11d17",
   "metadata": {},
   "outputs": [
    {
     "name": "stdout",
     "output_type": "stream",
     "text": [
      "enter element in list:3\n",
      "Enter Value: 56\n",
      "Enter Value: 77\n",
      "Enter Value: 54\n",
      "['56', '77', '54'] : \t list is not empty\n"
     ]
    }
   ],
   "source": [
    "# 8.  Write a Python program to check a list is empty or not. \n",
    "\n",
    "num=int(input(\"enter element in list:\"))\n",
    "\n",
    "list1=[]\n",
    "for i in range(num):\n",
    "    value=input(\"Enter Value: \")\n",
    "    list1.append(value)                            #  use append method to creat list for user\n",
    "\n",
    "if list1 == []:                                    # ----use conditional statements\n",
    "    print(f\"{list1} : \\t list is empty\")\n",
    "else:\n",
    "    print(f\"{list1} : \\t list is not empty\")"
   ]
  },
  {
   "cell_type": "code",
   "execution_count": null,
   "id": "050d626a",
   "metadata": {},
   "outputs": [],
   "source": [
    "# 9.  Write a Python function that takes two lists and returns true if they have at least one common member."
   ]
  },
  {
   "cell_type": "code",
   "execution_count": null,
   "id": "f29cdc2d",
   "metadata": {},
   "outputs": [],
   "source": [
    "# 10.  Write a Python program to generate and print a list of first and last 5 elements where the values are \n",
    "# square of numbers between 1 and 30."
   ]
  },
  {
   "cell_type": "code",
   "execution_count": 2,
   "id": "4988c394",
   "metadata": {},
   "outputs": [
    {
     "name": "stdout",
     "output_type": "stream",
     "text": [
      "Enter number : 5\n",
      "Enter value :hii\n",
      "Enter value :hello\n",
      "Enter value :hey\n",
      "Enter value :56\n",
      "Enter value :789\n",
      "['hii', 'hello', 'hey', '56', '789']\n",
      "{'hii', 'hello', 'hey', '56', '789'}\n"
     ]
    }
   ],
   "source": [
    "# 11. Write a Python function that takes a list and returns a new list with unique elements of the first list.\n",
    "\n",
    "list1=[]\n",
    "num= int(input(\"Enter number : \"))\n",
    "for i in range(num):\n",
    "    list1.append(input(\"Enter value :\"))  # append method (element) add element at last of list\n",
    "print(list1)\n",
    "list2=set(list1)   # use set function list2 set in list1\n",
    "print(list2)"
   ]
  },
  {
   "cell_type": "code",
   "execution_count": 5,
   "id": "1322fbf3",
   "metadata": {},
   "outputs": [
    {
     "name": "stdout",
     "output_type": "stream",
     "text": [
      "how many string enterd in list :4\n",
      "Enter string: hello\n",
      "Enter string: hi\n",
      "Enter string: bhumi\n",
      "Enter string: thakar\n",
      "hellohibhumithakar\n"
     ]
    }
   ],
   "source": [
    "# 12. Write a Python program to convert a list of characters into a string. \n",
    "\n",
    "num=int(input(\"how many string enterd in list :\"))\n",
    "\n",
    "list1=[]\n",
    "for i in range(num):\n",
    "    value=input(\"Enter string: \")\n",
    "    list1.append(value)   # append method (element) add string at last of list\n",
    "    \n",
    "str1 = ''.join(list1)\n",
    "print(str1)"
   ]
  },
  {
   "cell_type": "code",
   "execution_count": null,
   "id": "4277e42f",
   "metadata": {},
   "outputs": [],
   "source": [
    "# 13. Write a Python program to select an item randomly from a list. "
   ]
  },
  {
   "cell_type": "code",
   "execution_count": 15,
   "id": "1eed48a6",
   "metadata": {},
   "outputs": [
    {
     "name": "stdout",
     "output_type": "stream",
     "text": [
      "enter element in list:3\n",
      "Enter Value: 56\n",
      "Enter Value: 434\n",
      "Enter Value: 33\n",
      "The sorted list: ['33', '434', '56'] \n",
      "The second smallest value of this list: 434 \n"
     ]
    }
   ],
   "source": [
    "# 14. Write a Python program to find the second smallest number in a list.\n",
    "\n",
    "n=int(input(\"enter element in list:\"))\n",
    "\n",
    "list1=[]\n",
    "for i in range(n):\n",
    "    value=input(\"Enter Value: \")\n",
    "    list1.append(value)    #use append method to creat list for user\n",
    "list1.sort()               #converts list in ascending order\n",
    "\n",
    "print(f\"The sorted list: {list1} \") \n",
    "print(f\"The second smallest value of this list: {list1[1]} \")"
   ]
  },
  {
   "cell_type": "code",
   "execution_count": 16,
   "id": "3b7ae405",
   "metadata": {},
   "outputs": [
    {
     "name": "stdout",
     "output_type": "stream",
     "text": [
      "enter element in list:4\n",
      "Enter Value: 33\n",
      "Enter Value: 55\n",
      "Enter Value: 74\n",
      "Enter Value: 75\n",
      "Unique elements of the list: ['33', '55', '74', '75']  \n"
     ]
    }
   ],
   "source": [
    "# 15. Write a Python program to get unique values from a list\n",
    "\n",
    "# initializing list \n",
    "n=int(input(\"enter element in list:\"))\n",
    "\n",
    "list1=[]    #  create empty list1\n",
    "for i in range(n):\n",
    "    value=input(\"Enter Value: \")\n",
    "    list1.append(value)   #------ use append method to creat list for user\n",
    "\n",
    "# remove duplicated from list \n",
    "list2 = []  #  create empty list2\n",
    "for i in list1: \n",
    "    if i not in list2: \n",
    "        list2.append(i)   #--- use append method to get unique values from a list\n",
    "\n",
    "# printing list after removal \n",
    "print (f\"Unique elements of the list: {list2}  \") "
   ]
  },
  {
   "cell_type": "code",
   "execution_count": null,
   "id": "a3e70841",
   "metadata": {},
   "outputs": [],
   "source": [
    "# 16. Write a Python program to check whether a list contains a sub list "
   ]
  },
  {
   "cell_type": "code",
   "execution_count": 7,
   "id": "a6973d80",
   "metadata": {},
   "outputs": [
    {
     "name": "stdout",
     "output_type": "stream",
     "text": [
      " Hello World\n",
      " Good Morning \n",
      " I am Doc \n"
     ]
    }
   ],
   "source": [
    "# 17. Write a Python program to split a list into different variables. \n",
    "\n",
    "list1=[\" Hello World\" ,\" Good Morning \",\" I am Doc \" ]\n",
    "#a, b, c = profession.split()\n",
    "var1, var2, var3 = list1   # create three variable\n",
    "print(var1)\n",
    "print(var2)   # print all\n",
    "print(var3)"
   ]
  },
  {
   "cell_type": "code",
   "execution_count": null,
   "id": "3efd75dc",
   "metadata": {},
   "outputs": [],
   "source": [
    "# 18. What is tuple? Difference between list and tuple.\n",
    "\n",
    "# Tuples are used to store multiple items in a single variable. Tuple is one of 4 built-in data types in Python used to \n",
    "# store collections of data, the other 3 are List, Set, and Dictionary, all with different qualities and usage.\n",
    "# A tuple is a collection which is ordered and unchangeable.\n",
    "\n",
    "# Difference between list and tuple. \n",
    "\n",
    "# tuple:\n",
    "# 1. tuple is also a collection of element of similar or ifferent datatyp\n",
    "# 2. tuple is also a ordrere collection\n",
    "# 3. tuple immutable changes not allowed\n",
    "# 4. tuple data are defined in round braces ex:()\n",
    "# 5. tuple is not changeable in both format means not asingle element or neither a collection\n",
    "\n",
    "# list:\n",
    "# 1. list is a collection of elements of different as well as same datatype\n",
    "# 2. list is ordered collection\n",
    "# 3. list is mutable ----changes allowed\n",
    "# 4. list data are defined in array ex: []\n",
    "# 5. Therefore, it is possible to change a list"
   ]
  },
  {
   "cell_type": "code",
   "execution_count": 8,
   "id": "7fcb40fc",
   "metadata": {},
   "outputs": [
    {
     "name": "stdout",
     "output_type": "stream",
     "text": [
      "(45, 67.78, 'string', [45, 67], (90, 56), 'Hello', {34, 67}, {6: 45}, True)\n"
     ]
    }
   ],
   "source": [
    "# 19. Write a Python program to create a tuple with different data types. \n",
    "\n",
    "tupl=(45,67.78,\"string\",[45,67],(90,56),\"Hello\",{34,67},{6:45},True) \n",
    "print(tupl)  # print tuple"
   ]
  },
  {
   "cell_type": "code",
   "execution_count": 9,
   "id": "12a3f2f2",
   "metadata": {},
   "outputs": [
    {
     "name": "stdout",
     "output_type": "stream",
     "text": [
      "Tuple numbers = (10, 20, 40, 60, 80, 100)\n"
     ]
    }
   ],
   "source": [
    "# 20. Write a Python program to create a tuple with numbers.\n",
    "\n",
    "# Create a tuple with numbers\n",
    "Tuple = 10, 20, 40, 60, 80, 100\n",
    "# tuple=int(input(\"enter numbers :\"))\n",
    "print(f\"Tuple numbers = {Tuple}\" )"
   ]
  },
  {
   "cell_type": "code",
   "execution_count": 10,
   "id": "16c5556c",
   "metadata": {},
   "outputs": [
    {
     "name": "stdout",
     "output_type": "stream",
     "text": [
      "exercises\n"
     ]
    }
   ],
   "source": [
    "# 21. Write a Python program to convert a tuple to a string.\n",
    "tup = ('e', 'x', 'e', 'r', 'c', 'i', 's', 'e', 's')  # create a tuple to string\n",
    "str1 =  ''.join(tup)  # use join mothod\n",
    "print(str1)  # print tuple"
   ]
  },
  {
   "cell_type": "code",
   "execution_count": 17,
   "id": "a9f71773",
   "metadata": {},
   "outputs": [
    {
     "name": "stdout",
     "output_type": "stream",
     "text": [
      "enter element in list:3\n",
      "Enter Value: 56\n",
      "Enter Value: 333\n",
      "Enter Value: 865\n",
      "['56', '333', '865']\n",
      "Enter Tuple Item to Find = 45\n",
      "List : ['45']\n",
      "Tuple : ('45',)\n",
      "  45 : This is ----> True\n"
     ]
    }
   ],
   "source": [
    "# 22. Write a Python program to check whether an element exists within atuple.\n",
    "\n",
    "num=int(input(\"enter element in list:\"))\n",
    "\n",
    "list1=[]\n",
    "for i in range(num):\n",
    "    value=input(\"Enter Value: \")\n",
    "    list1.append(value)  #use append method to creat list for user\n",
    "    \n",
    "print(list1)\n",
    "    \n",
    "number =input(\"Enter Tuple Item to Find = \") # Check Element Presnet in list\n",
    "list1 = number.split(\",\")  #using the split() method and assigns it to the variable 'list'.\n",
    "tuple = tuple(list1)    #using the tuple() function and assigns it to the variable 'tuple'.\n",
    "print(f\"List : {list1}\")\n",
    "print(f\"Tuple : {tuple}\")\n",
    "\n",
    "\n",
    "if number in list1:   # use conditional statements \n",
    "    print(f\"  {number} : This is ----> True\")    \n",
    "else:\n",
    "    print(f\"  {number} :  this is ----> False\")"
   ]
  },
  {
   "cell_type": "code",
   "execution_count": 11,
   "id": "57c4e257",
   "metadata": {},
   "outputs": [
    {
     "data": {
      "text/plain": [
       "10"
      ]
     },
     "execution_count": 11,
     "metadata": {},
     "output_type": "execute_result"
    }
   ],
   "source": [
    "# 23. Write a Python program to find the length of a tuple.\n",
    "\n",
    "tup=(45,58.23,True,\"String\",'A',\"hello world\",[45,36],(45,89),{41,20},{1:89})\n",
    "len(tup)   # print tuple"
   ]
  },
  {
   "cell_type": "code",
   "execution_count": 1,
   "id": "dfcce44c",
   "metadata": {},
   "outputs": [
    {
     "name": "stdout",
     "output_type": "stream",
     "text": [
      "enter element in list:4\n",
      "Enter Value: 32\n",
      "Enter Value: 44\n",
      "Enter Value: 22\n",
      "Enter Value: 11\n",
      "[32, 44, 22, 11]\n",
      "(32, 44, 22, 11)\n"
     ]
    }
   ],
   "source": [
    "# 24. Write a Python program to convert a list to a tuple.\n",
    "\n",
    "#Convert list to tuple\n",
    "num=int(input(\"enter element in list:\"))\n",
    "\n",
    "list1=[]\n",
    "for i in range(num):\n",
    "    value=int(input(\"Enter Value: \"))\n",
    "    list1.append(value)  # use append method to creat list for user\n",
    "print(list1)\n",
    "#use the tuple() function built-in Python, passing as parameter the list\n",
    "tupl = tuple(list1)\n",
    "print(tupl)"
   ]
  },
  {
   "cell_type": "code",
   "execution_count": 3,
   "id": "403d2624",
   "metadata": {},
   "outputs": [
    {
     "name": "stdout",
     "output_type": "stream",
     "text": [
      "(1000, 270, 395, 325, 'pineapple', 'cherry', 'banana', 'apple')\n"
     ]
    }
   ],
   "source": [
    "# 25. Write a Python program to reverse a tuple.\n",
    "\n",
    "tupl = ('apple', 'banana', 'cherry','pineapple',325,395,270,1000)   #create one tuple\n",
    "revers = reversed(tupl)\n",
    "revers = tuple(revers)     #for reverse a tuple\n",
    "print(revers)"
   ]
  },
  {
   "cell_type": "code",
   "execution_count": 2,
   "id": "b58a1f0e",
   "metadata": {},
   "outputs": [
    {
     "name": "stdout",
     "output_type": "stream",
     "text": [
      "enter element for tuple: 3\n",
      "enter number: 56\n",
      "enter number: 33\n",
      "enter number: 89\n",
      "\n",
      "Original Tuple: ('56', '33', '89')\n",
      "Reversed Tuple: ('89', '33', '56')\n"
     ]
    }
   ],
   "source": [
    "# 26. Write a Python program to replace last value of tuples in a list.\n",
    "\n",
    "n=int(input(\"enter element for tuple: \"))   #initializing the tuple\n",
    "list1=[]\n",
    "for i in range(n):\n",
    "    n=input(\"enter number: \")\n",
    "    list1.append(n)\n",
    "\n",
    "tupl = tuple(list1)\n",
    "\n",
    "Reversed = tupl[::-1]       # Reversing a tuple using slicing technique\n",
    "\n",
    "print(f\"\\nOriginal Tuple: {tupl}\")     #displaying the original tuple\n",
    "print(f\"Reversed Tuple: {Reversed}\")       #displaying the Reversing tuple"
   ]
  },
  {
   "cell_type": "code",
   "execution_count": 6,
   "id": "ea52644f",
   "metadata": {},
   "outputs": [
    {
     "name": "stdout",
     "output_type": "stream",
     "text": [
      "(1, 2, 3, 4, 56, 96, 45, 1, 24, 5, 45, 36, 0, 63, 0, 45)\n",
      "enter num : 3\n",
      "1\n"
     ]
    }
   ],
   "source": [
    "# 27. Write a Python program to find the repeated items of a tuple.\n",
    "\n",
    "d = (1,2,3,4,56,96,45,1,24,5,45,36,0,63,0,45)  #create one tuple\n",
    "print(d)\n",
    "n=int(input(\"enter number: \"))\n",
    "count = d.count(n)    #use count method\n",
    "print(count)"
   ]
  },
  {
   "cell_type": "code",
   "execution_count": 7,
   "id": "e4e933b0",
   "metadata": {},
   "outputs": [
    {
     "name": "stdout",
     "output_type": "stream",
     "text": [
      "[('',), ('a', 'b'), ('a', 'b', 'c'), 'd']\n"
     ]
    }
   ],
   "source": [
    "# 28. Write a Python program to remove an empty tuple(s) from a list of tuples.\n",
    "\n",
    "list1= [(), (), ('',), ('a', 'b'), ('a', 'b', 'c'), ('d')]  #create one tuple\n",
    "list1 = [t for t in list1 if t]    #for remove empty tuple use for loop\n",
    "print(list1)"
   ]
  },
  {
   "cell_type": "code",
   "execution_count": null,
   "id": "c033b0c6",
   "metadata": {},
   "outputs": [],
   "source": [
    "# 29. Write a Python program to unzip a list of tuples into individual lists."
   ]
  },
  {
   "cell_type": "code",
   "execution_count": 8,
   "id": "059553c4",
   "metadata": {},
   "outputs": [],
   "source": [
    "# 30. Write a Python program to convert a list of tuples into a dictionary.\n",
    "\n",
    "d = [(\"Name\", \"Avani\"), (\"Name\", \"bhumi\"), (\"Name\", \"dhruvi\"), (\"Age\", 21), (\"Gender\", \"female\"), (\"Age\", 21), \n",
    "     (\"Gender\", \"Female\"), (\"Gender\", \"Female\") , (\"Age\", 22)]\n",
    "dic = {}"
   ]
  },
  {
   "cell_type": "code",
   "execution_count": 10,
   "id": "346bd2af",
   "metadata": {},
   "outputs": [
    {
     "name": "stdout",
     "output_type": "stream",
     "text": [
      "{'bhumi': 123, 123: 'thakar', 'python': 'Hi', 357: 30}\n"
     ]
    }
   ],
   "source": [
    "# 31. How will you create a dictionary using tuples in python?\n",
    "\n",
    "tuple1=((\"bhumi\",123),(123,\"thakar\"),(\"python\",\"Hi\"),(357,30 )) #Create tuple\n",
    "dict1=dict(tuple1)  #convert to tuple in dictionary\n",
    "print(dict1)"
   ]
  },
  {
   "cell_type": "code",
   "execution_count": null,
   "id": "2b625782",
   "metadata": {},
   "outputs": [],
   "source": [
    "# 32. Write a Python script to sort (ascending and descending) a dictionary byvalue."
   ]
  },
  {
   "cell_type": "code",
   "execution_count": 11,
   "id": "dbb9cf7b",
   "metadata": {},
   "outputs": [
    {
     "name": "stdout",
     "output_type": "stream",
     "text": [
      "{'bhumi': 50, 'hello': 50, 'thakar': 180, 'Hye': 180, 'Good': 410, 'superb': 410}\n"
     ]
    }
   ],
   "source": [
    "# 33. Write a Python script to concatenate following dictionaries to create a new one\n",
    "\n",
    "dict1={\"bhumi\":50,\"hello\":50}\n",
    "dict2={\"thakar\":180,\"Hye\":180}\n",
    "dict3={\"Good\":410,\"superb\":410}\n",
    "dict5={}\n",
    "for i in (dict1,dict2,dict3): # dict1,dict2 and dict3 add to dict5\n",
    "    dict5.update(i)  # use updated\n",
    "print(dict5)"
   ]
  },
  {
   "cell_type": "code",
   "execution_count": 5,
   "id": "36e049cb",
   "metadata": {},
   "outputs": [
    {
     "name": "stdout",
     "output_type": "stream",
     "text": [
      "enter element in dictionary :5\n",
      "Enter  keys: bhumi\n",
      "Enter values: thakar\n",
      "Enter  keys: mobile\n",
      "Enter values: 635250\n",
      "Enter  keys: email\n",
      "Enter values: bthakar150002@gmail.com\n",
      "Enter  keys: city\n",
      "Enter values: surat\n",
      "Enter  keys: **\n",
      "Enter values: **\n",
      "{'bhumi': 'thakar', 'mobile': '635250', 'email': 'bthakar150002@gmail.com', 'city': 'surat', '**': '**'}\n",
      "Enter One key :bhumi\n",
      "----> True , ([bhumi]) key already exists in a dictionary\n"
     ]
    }
   ],
   "source": [
    "# 34. Write a Python script to check if a given key already exists in adictionary.\n",
    "\n",
    "n=int(input(\"enter element in dictionary :\"))\n",
    "dict1 = {}\n",
    "for i in range(n):\n",
    "    key = input(\"Enter  keys: \")\n",
    "    values = input(\"Enter values: \")\n",
    "\n",
    "    dict1[key] = values\n",
    "print(dict1)\n",
    "\n",
    "key=input(\"Enter One key :\")\n",
    "dict1.keys()\n",
    "if key in dict1.keys():  #To check whether any key given by user is in dict1 or not\n",
    "    print(f\"----> True , ([{key}]) key already exists in a dictionary\")\n",
    "else:\n",
    "    print(f\"----> False , ([{key}]) Sorry! We haven't found a key  \")"
   ]
  },
  {
   "cell_type": "code",
   "execution_count": 6,
   "id": "c137122a",
   "metadata": {},
   "outputs": [
    {
     "name": "stdout",
     "output_type": "stream",
     "text": [
      "\n",
      "1. Using dict.items() Method \n",
      "\n",
      "Novel The Great Gatsby\n",
      "year 1925\n",
      "author F. Scott Fitzgerald\n",
      "City New York City\n",
      "\n",
      "2. Using keys() Method \n",
      " \n",
      "Novel\n",
      "year\n",
      "author\n",
      "City\n",
      "\n",
      "\n",
      "The Great Gatsby\n",
      "1925\n",
      "F. Scott Fitzgerald\n",
      "New York City\n",
      "\n",
      "3.Using Values() Method \n",
      "\n",
      "The Great Gatsby\n",
      "1925\n",
      "F. Scott Fitzgerald\n",
      "New York City\n",
      "\n",
      "4.Iterating with Index \n",
      "\n",
      "Novel The Great Gatsby\n",
      "year 1925\n",
      "author F. Scott Fitzgerald\n",
      "City New York City\n",
      "\n",
      "5.Iterating Over Dictionary In Alphabetical Order /n\n",
      "City New York City\n",
      "Novel The Great Gatsby\n",
      "author F. Scott Fitzgerald\n",
      "year 1925\n",
      "\n",
      "6.Sort Using Dictionary Item Values /n\n",
      "{'year': '1925', 'author': 'F. Scott Fitzgerald', 'City': 'New York City', 'Novel': 'The Great Gatsby'}\n"
     ]
    }
   ],
   "source": [
    "# 35. How Do You Traverse Through A Dictionary Object In Python?\n",
    "# How to iterate through a dictionary in Python?\n",
    "#    1. Using dict. items() Method. ...\n",
    "#    2. Using Keys() Method. ...\n",
    "#    3. Using Values() Method. ...\n",
    "#    4. Iterating with Index. ...\n",
    "#    5. Iterating Over Dictionary In Alphabetical Order. ...\n",
    "#    6. Sort Using Dictionary Item Values.\n",
    "\n",
    "dictionary = { \n",
    "   'Novel': 'The Great Gatsby', \n",
    "   'year': '1925', \n",
    "   'author': 'F. Scott Fitzgerald', \n",
    "   'City': 'New York City' \n",
    "}\n",
    "\n",
    "print(\"\\n1. Using dict.items() Method \\n\")\n",
    "for keys, values in dictionary.items(): # Using dict.items() Method\n",
    "   print(keys ,values)\n",
    "\n",
    "print(\"\\n2. Using keys() Method \\n \")\n",
    "for keys in dictionary.keys():# Using Keys() Method\n",
    "    print(keys)\n",
    "print(\"\\n\")\n",
    "for keys in dictionary.keys():\n",
    "    print(dictionary.get(keys))\n",
    "    \n",
    "print(\"\\n3.Using Values() Method \\n\")\n",
    "for values in dictionary.values():# Using Values() Method\n",
    "    print(values)\n",
    "\n",
    "print(\"\\n4.Iterating with Index \\n\")\n",
    "for index in dictionary: # Iterating with Index\n",
    "    print(index, dictionary[index])\n",
    "\n",
    "print(\"\\n5.Iterating Over Dictionary In Alphabetical Order /n\")\n",
    "for keys in sorted(dictionary.keys()): # Iterating Over Dictionary In Alphabetical Order\n",
    "    print(keys, dictionary[keys])\n",
    "\n",
    "print(\"\\n6.Sort Using Dictionary Item Values /n\")\n",
    "sorted_dictionary = {}  # Sort Using Dictionary Item Values\n",
    "sorted_key = sorted(dictionary, key=dictionary.get)\n",
    "for values in sorted_key:\n",
    "    sorted_dictionary[values] = dictionary[values]\n",
    "print(sorted_dictionary)"
   ]
  },
  {
   "cell_type": "code",
   "execution_count": 7,
   "id": "1b0d2fb7",
   "metadata": {},
   "outputs": [
    {
     "data": {
      "text/plain": [
       "dict_keys([1, 29, 43, 58])"
      ]
     },
     "execution_count": 7,
     "metadata": {},
     "output_type": "execute_result"
    }
   ],
   "source": [
    "# 36. How Do You Check The Presence Of A Key In A Dictionary?\n",
    "# dictionary methods\n",
    "\n",
    "# keys() gives to all in the list\n",
    "dict1={1:45,29:89,43:48,58:963}\n",
    "dict1.keys()"
   ]
  },
  {
   "cell_type": "code",
   "execution_count": 8,
   "id": "aa2e1720",
   "metadata": {},
   "outputs": [
    {
     "name": "stdout",
     "output_type": "stream",
     "text": [
      "{1: 1, 2: 4, 3: 9, 4: 16, 5: 25, 6: 36, 7: 49, 8: 64, 9: 81, 10: 100, 11: 121, 12: 144, 13: 169, 14: 196, 15: 225}\n"
     ]
    }
   ],
   "source": [
    "# 37. Write a Python script to print a dictionary where the keys are numbersbetween 1 and 15.\n",
    "dict1 = dict()\n",
    "for i in range(1,16):\n",
    "    dict1[i]=i**2\n",
    "print(dict1)"
   ]
  },
  {
   "cell_type": "code",
   "execution_count": 10,
   "id": "9d2c1ef3",
   "metadata": {},
   "outputs": [
    {
     "name": "stdout",
     "output_type": "stream",
     "text": [
      "enter element in the dictionary:4\n",
      "Enter  keys: india\n",
      "Enter values: rupee\n",
      "Enter  keys: turkey\n",
      "Enter values: lira\n",
      "Enter  keys: uk\n",
      "Enter values: pound\n",
      "Enter  keys: usa\n",
      "Enter values: dollar\n",
      "{'india': 'rupee', 'turkey': 'lira', 'uk': 'pound', 'usa': 'dollar'}\n",
      "Entre input Number to check multiple keys exists in a dictionary :1\n",
      "Enter A key :turkey\n",
      "----> True ,  key already exists in a dictionary\n"
     ]
    }
   ],
   "source": [
    "# 38. Write a Python program to check multiple keys exists in a dictionary\n",
    "\n",
    "num=int(input(\"enter element in the dictionary:\"))\n",
    "dict1 = {}\n",
    "for i in range(num):\n",
    "    key = input(\"Enter  keys: \")\n",
    "    values = input(\"Enter values: \")\n",
    "\n",
    "    dict1[key] = values\n",
    "print(dict1)\n",
    "\n",
    "n=int(input(\"Entre input Number to check multiple keys exists in a dictionary :\"))\n",
    "list1=[]\n",
    "for i in range(n):\n",
    "    list1.append(input(\"Enter A key :\"))  #list1 append to user input\n",
    "dict1.keys()\n",
    "for j in list1: \n",
    "    if j not in dict1.keys():  #To check whether the user will give the key or not\n",
    "        print(f\"----> False , Sorry! We haven't found a key  \")\n",
    "    else:\n",
    "        print(f\"----> True ,  key already exists in a dictionary\")"
   ]
  },
  {
   "cell_type": "code",
   "execution_count": 13,
   "id": "e363ceb4",
   "metadata": {},
   "outputs": [
    {
     "name": "stdout",
     "output_type": "stream",
     "text": [
      "enter element in list :2\n",
      "Enter  keys: name\n",
      "Enter values: bhumi\n",
      "Enter  keys: surname\n",
      "Enter values: thakar\n",
      "{'name': 'bhumi', 'surname': 'thakar'}\n",
      "enter element in list :1\n",
      "Enter  keys: mobile\n",
      "Enter values: 635250\n",
      "{'mobile': '635250'}\n",
      "{'name': 'bhumi', 'surname': 'thakar', 'mobile': '635250'}\n"
     ]
    }
   ],
   "source": [
    "# 39. Write a Python script to merge two Python dictionaries\n",
    "\n",
    "num=int(input(\"enter element in list :\"))\n",
    "dict1 = {}\n",
    "for i in range(num):\n",
    "    name = input(\"Enter  keys: \")\n",
    "    salary = input(\"Enter values: \")\n",
    "\n",
    "    dict1[name] = salary\n",
    "print(dict1)\n",
    "\n",
    "\n",
    "num=int(input(\"enter element in list :\"))\n",
    "dict2 = {}\n",
    "for i in range(num):\n",
    "    name = input(\"Enter  keys: \")\n",
    "    salary = input(\"Enter values: \")\n",
    "\n",
    "    dict2[name] = salary\n",
    "print(dict2)\n",
    "\n",
    "dict3={}\n",
    "dict1.update(dict2) #dict3 is marge to dict and dict2c\n",
    "\n",
    "print(dict1)"
   ]
  },
  {
   "cell_type": "code",
   "execution_count": null,
   "id": "e8c39254",
   "metadata": {},
   "outputs": [],
   "source": [
    "# 40. Write a Python program to map two lists into a dictionary"
   ]
  },
  {
   "cell_type": "code",
   "execution_count": 14,
   "id": "f241865c",
   "metadata": {},
   "outputs": [
    {
     "name": "stdout",
     "output_type": "stream",
     "text": [
      "{'a': 400, 'b': 400, 'd': 400}\n"
     ]
    }
   ],
   "source": [
    "# 41. Write a Python program to combine two dictionary adding values forcommon keys.\n",
    "#      d1 = {'a': 100, 'b': 200, 'c':300} o d2 = {'a': 300, 'b': 200,’d’:400}\n",
    "#      Sample output: Counter ({'a': 400, 'b': 400,’d’: 400, 'c': 300}).\n",
    "\n",
    "dict1 = {'a': 100, 'b': 200, 'c':300}\n",
    "dict2 = {'a': 300, 'b': 200, 'd':400} \n",
    " \n",
    "for key in dict2:   # add the values with common key\n",
    "    if key in dict1:\n",
    "        dict2[key] = dict2[key] + dict1[key]\n",
    "print(dict2)"
   ]
  },
  {
   "cell_type": "code",
   "execution_count": null,
   "id": "09d960c6",
   "metadata": {},
   "outputs": [],
   "source": [
    "# 42. Write a Python program to print all unique values in a dictionary.\n",
    "# initializing list \n",
    "num=int(input(\"enter element in list :\"))\n",
    "\n",
    "list1=[]    # create empty list1\n",
    "for i in range(num):\n",
    "    value=input(\"Enter Value: \")\n",
    "    list1.append(value)\n",
    "\n",
    "\n",
    "# remove duplicate from list \n",
    "list2 = []  # create empty list2\n",
    "for i in list1: \n",
    "    if i not in list2: \n",
    "        list2.append(i)   # use append method to get unique values from a list\n",
    "        \n",
    "print (f\"Unique elements of the list : {list2} \")   # print list"
   ]
  },
  {
   "cell_type": "code",
   "execution_count": null,
   "id": "0764bf32",
   "metadata": {},
   "outputs": [],
   "source": [
    "# 43. Why Do You Use the Zip () Method in Python?"
   ]
  },
  {
   "cell_type": "code",
   "execution_count": 15,
   "id": "579cf3a6",
   "metadata": {},
   "outputs": [
    {
     "name": "stdout",
     "output_type": "stream",
     "text": [
      "ar\n",
      "af\n",
      "dr\n",
      "df\n"
     ]
    }
   ],
   "source": [
    "# 44. Write a Python program to create and display all combinations of letters, \n",
    "#     selecting each letter from a different key in a dictionary. \n",
    "#     Sample data: {'1': ['a','b'], '2': ['c','d']} \n",
    "#     Expected Output: \n",
    "#              ac ad bc bd \n",
    "\n",
    "d={'1': ['a','d'], '2': ['r','f']} \n",
    "for i in d['1']:\n",
    "    for j in d['2']:\n",
    "        print(i + j)"
   ]
  },
  {
   "cell_type": "code",
   "execution_count": 16,
   "id": "f918a934",
   "metadata": {},
   "outputs": [
    {
     "name": "stdout",
     "output_type": "stream",
     "text": [
      "[800, 490, 300]\n"
     ]
    }
   ],
   "source": [
    "# 45. Write a Python program to find the highest 3 values in a dictionary \n",
    "\n",
    "dict1={200:800, 110:100, 80:300, 780:111, 572:490}\n",
    "list1=list(dict1.values())  #dictionary values convert in list\n",
    "list1.sort(reverse=True) #list1 to sort and decending\n",
    "print(list1[:3]) #0 to 3 first element"
   ]
  },
  {
   "cell_type": "code",
   "execution_count": null,
   "id": "5845e71a",
   "metadata": {},
   "outputs": [],
   "source": [
    "# 46. Write a Python program to combine values in python list of dictionaries. \n",
    "#     Sample data: [{'item': 'item1', 'amount': 400}, {'item': 'item2', 'amount': \n",
    "#     300}, o {'item': 'item1', 'amount': 750}] \n",
    "#     Expected Output:\n",
    "#           Counter ({'item1': 1150, 'item2': 300})"
   ]
  },
  {
   "cell_type": "code",
   "execution_count": 17,
   "id": "8a306d9e",
   "metadata": {},
   "outputs": [
    {
     "name": "stdout",
     "output_type": "stream",
     "text": [
      "{'w': 1, '3': 1, 'r': 1, 'e': 1, 's': 1, 'o': 1, 'u': 1, 'c': 1}\n"
     ]
    }
   ],
   "source": [
    "# 47.  Write a Python program to create a dictionary from a string.\n",
    "#     Note: Track the count of the letters from the string. \n",
    "#     Sample string: 'w3resource' \n",
    "#     Expected output: \n",
    "#     {'3': 1,’s’: 1, 'r': 2, 'u': 1, 'w': 1, 'c': 1, 'e': 2, 'o': 1} \n",
    "\n",
    "key='w3resource'\n",
    "value=1\n",
    "dict1=dict.fromkeys(key,value)  # Assigning values to all the elements \n",
    "print(dict1)#remove copy elements"
   ]
  },
  {
   "cell_type": "code",
   "execution_count": 18,
   "id": "8b430925",
   "metadata": {},
   "outputs": [
    {
     "name": "stdout",
     "output_type": "stream",
     "text": [
      "Enter a number: 5\n",
      "The factorial of 5 is 120\n"
     ]
    }
   ],
   "source": [
    "# 48. Write a Python function to calculate the factorial of a number (a \n",
    "#     nonnegative integer) \n",
    "\n",
    "# Factorial is a non-negative integer\n",
    "# n! = n* (n-1) * (n-2) *........1  \n",
    "# 5! = 5x4x3x2x1 = 24 \n",
    "\n",
    "n = int(input(\"Enter a number: \"))    \n",
    "factorial = 1    \n",
    "if n < 0:    \n",
    "    print(\" Factorial does not exist for negative numbers\")    \n",
    "elif n == 0:    \n",
    "    print(\"The factorial of 0 is 1\")  # factorial value of 0 is 1 always. (Rule violation)  \n",
    "else:    \n",
    "    for i in range(1,n + 1):    \n",
    "        factorial = factorial*i    \n",
    "    print(\"The factorial of\",n,\"is\",factorial)"
   ]
  },
  {
   "cell_type": "code",
   "execution_count": 19,
   "id": "ec579233",
   "metadata": {},
   "outputs": [
    {
     "name": "stdout",
     "output_type": "stream",
     "text": [
      "enter number :7\n",
      "7 :Number is in the range\n"
     ]
    }
   ],
   "source": [
    "# 49. Write a Python function to check whether a number is in a given range\n",
    "# def test_range(n):\n",
    "n=int(input(\"enter number :\"))\n",
    "if n in range(4,10):\n",
    "    print( f\"{n} :Number is in the range\")\n",
    "else :\n",
    "    print(f\"{n} :Number is outside the given range.\")"
   ]
  },
  {
   "cell_type": "code",
   "execution_count": 20,
   "id": "3e035301",
   "metadata": {},
   "outputs": [
    {
     "name": "stdout",
     "output_type": "stream",
     "text": [
      "Enter the number: 5\n",
      "entered number is not a perfect\n"
     ]
    }
   ],
   "source": [
    "# 50. Write a Python function to check whether a number is perfect or not. \n",
    "\n",
    "n=int(input(\"Enter the number: \"))  \n",
    "sum1=0  \n",
    "for i in range(1,n):  \n",
    "    if (n%i==0):  \n",
    "        sum1=sum1+i  \n",
    "if(sum1==n):  \n",
    "    print(\"entered number is a perfect\")  \n",
    "else:  \n",
    "    print(\"entered number is not a perfect\")"
   ]
  },
  {
   "cell_type": "code",
   "execution_count": null,
   "id": "2bc15f32",
   "metadata": {},
   "outputs": [],
   "source": [
    "# 51. Write a Python function that checks whether a passed string is \n",
    "#     palindrome or not"
   ]
  },
  {
   "cell_type": "code",
   "execution_count": 21,
   "id": "ac512535",
   "metadata": {},
   "outputs": [
    {
     "name": "stdout",
     "output_type": "stream",
     "text": [
      "5\n",
      "<class 'list'>\n",
      "7\n"
     ]
    }
   ],
   "source": [
    "# 52. How Many Basic Types Of Functions Are Available In Python? \n",
    "\n",
    "# There are two types of function in Python programming:\n",
    "\n",
    "# 1. Standard library functions - These are Built-in Functions or Pre-defined in Python that are available to use.\n",
    "# In built functions\n",
    "\n",
    "d = [1,2,3,4,5]\n",
    "print(len(d))    #it return length of list\n",
    "print(type(d))   #it return object type\n",
    "\n",
    "# 2. User-defined functions - We can create our own functions based on our requirements.\n",
    "# Example of user defined function\n",
    "\n",
    "d = 3\n",
    "a = 4\n",
    "def add():\n",
    "    print(d+a)\n",
    "    \n",
    "add()"
   ]
  },
  {
   "cell_type": "code",
   "execution_count": null,
   "id": "53782c39",
   "metadata": {},
   "outputs": [],
   "source": [
    "# 53. How can you pick a random item from a list or tuple? \n",
    "\n",
    "# Using random.\n",
    "# Create a tuple and add some dummy data to it. Generate a random item from the tuple using random. \n",
    "# choice() method(This function returns a random element from the specified sequence i.e tuple here) \n",
    "# by passing the input tuple as an argument to the choice() function. Print the generated random tuple item.\n",
    "\n",
    "\n",
    "# How to randomly select an item from a list or tuple in Python?\n",
    "\n",
    "# 1. Using random.choice() method\n",
    "\n",
    "# 2. Using random.randrange() method\n",
    "\n",
    "# 3. Using random.randint() method\n",
    "\n",
    "# 4. Using random.random()\n",
    "\n",
    "# 5. Using random.sample() method\n",
    "\n",
    "# 6. Using random.choices() method"
   ]
  },
  {
   "cell_type": "code",
   "execution_count": null,
   "id": "a1f73ab2",
   "metadata": {},
   "outputs": [],
   "source": [
    "# 54. How can you pick a random item from a range? \n",
    "\n",
    "# Use the random. randrange() function(Returns a random number within the specified range) \n",
    "# to generate a random number within the given range by passing minimum, and maximum numbers as arguments."
   ]
  },
  {
   "cell_type": "code",
   "execution_count": 26,
   "id": "1c3363af",
   "metadata": {},
   "outputs": [
    {
     "name": "stdout",
     "output_type": "stream",
     "text": [
      "3\n"
     ]
    }
   ],
   "source": [
    "# 55. How can you get a random number in python? \n",
    "\n",
    "# To generate random number in Python, randint() function is used. This function is defined in random module.\n",
    "# Program to generate a random number between 0 and 9\n",
    "\n",
    "# importing the random module\n",
    "import random\n",
    "\n",
    "print(random.randint(0,9))"
   ]
  },
  {
   "cell_type": "code",
   "execution_count": 27,
   "id": "0da5b246",
   "metadata": {},
   "outputs": [
    {
     "name": "stdout",
     "output_type": "stream",
     "text": [
      "0.5714025946899135\n"
     ]
    }
   ],
   "source": [
    "# 56. How will you set the starting value in generating random numbers? \n",
    "\n",
    "# The random number generator needs a number to start with (a seed value), to be able to generate a random number. \n",
    "# By default the random number generator uses the current system time. Use the seed() method to customize the start number \n",
    "# of the random number generator.\n",
    "\n",
    "import random\n",
    "\n",
    "random.seed(10)\n",
    "print(random.random())"
   ]
  },
  {
   "cell_type": "code",
   "execution_count": null,
   "id": "d81bfcc1",
   "metadata": {},
   "outputs": [],
   "source": [
    "# 57. How will you randomizes the items of a list in place? \n",
    "\n",
    "# The shuffle() method randomizes the items of a list in place."
   ]
  },
  {
   "cell_type": "code",
   "execution_count": null,
   "id": "278004d8",
   "metadata": {},
   "outputs": [],
   "source": [
    "# 58. Write a Python program to read a random line from a file."
   ]
  },
  {
   "cell_type": "code",
   "execution_count": 28,
   "id": "5fa17bd1",
   "metadata": {},
   "outputs": [
    {
     "name": "stdout",
     "output_type": "stream",
     "text": [
      "Input degrees: 360\n",
      "6.285714285714286\n"
     ]
    }
   ],
   "source": [
    "# 59. Write a Python program to convert degree to radian \n",
    "\n",
    "pi=22/7\n",
    "degree = float(input(\"Input degrees: \"))\n",
    "radian = degree*(pi/180)\n",
    "print(radian)"
   ]
  },
  {
   "cell_type": "code",
   "execution_count": null,
   "id": "4b752bd7",
   "metadata": {},
   "outputs": [],
   "source": [
    "# 60. Write a Python program to calculate the area of a trapezoid"
   ]
  },
  {
   "cell_type": "code",
   "execution_count": null,
   "id": "cbff7731",
   "metadata": {},
   "outputs": [],
   "source": [
    "# 61. Write a Python program to calculate the area of a parallelogram \n",
    "# 62. Write a Python program to calculate surface volume and area of a \n",
    "#     cylinder \n",
    "# 63. Write a Python program to returns sum of all divisors of a number \n",
    "# 64. Write a Python program to find the maximum and minimum numbers \n",
    "#     from the specified decimal numbers."
   ]
  }
 ],
 "metadata": {
  "kernelspec": {
   "display_name": "Python 3 (ipykernel)",
   "language": "python",
   "name": "python3"
  },
  "language_info": {
   "codemirror_mode": {
    "name": "ipython",
    "version": 3
   },
   "file_extension": ".py",
   "mimetype": "text/x-python",
   "name": "python",
   "nbconvert_exporter": "python",
   "pygments_lexer": "ipython3",
   "version": "3.10.9"
  }
 },
 "nbformat": 4,
 "nbformat_minor": 5
}
