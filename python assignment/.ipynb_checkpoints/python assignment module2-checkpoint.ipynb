{
 "cells": [
  {
   "cell_type": "code",
   "execution_count": 8,
   "id": "716d883d",
   "metadata": {},
   "outputs": [
    {
     "name": "stdout",
     "output_type": "stream",
     "text": [
      "Enter A Number: 5\n",
      "Positive\n"
     ]
    }
   ],
   "source": [
    "# 1. Write a Python program to check if a number is positive, negative or zero.\n",
    "\n",
    "num=int(input(\"Enter A Number: \"))#convert a to an integer(if possible)\n",
    "if num>0:\n",
    "    print(\"Positive\")\n",
    "elif num<0:\n",
    "    print(\"negative\")\n",
    "else:\n",
    "    print(\"Zero\")"
   ]
  },
  {
   "cell_type": "code",
   "execution_count": 1,
   "id": "d6fc947f",
   "metadata": {},
   "outputs": [
    {
     "name": "stdout",
     "output_type": "stream",
     "text": [
      "Enter num: 5\n",
      "120\n"
     ]
    }
   ],
   "source": [
    "# 2. Write a Python program to get the Factorial number of given number.\n",
    "\n",
    "num=int(input(\"Enter num: \"))\n",
    "fact=1\n",
    "for i in range(1,num+1):\n",
    "    fact=fact*i\n",
    "print(fact)"
   ]
  },
  {
   "cell_type": "code",
   "execution_count": 3,
   "id": "7a574f4d",
   "metadata": {},
   "outputs": [
    {
     "name": "stdout",
     "output_type": "stream",
     "text": [
      "Enter Number: 6\n",
      "0\n",
      "1\n",
      "1\n",
      "2\n",
      "3\n",
      "5\n"
     ]
    }
   ],
   "source": [
    "# 3. Write a Python program to get the Fibonacci series of given range.\n",
    "\n",
    "n=int(input(\"Enter Number: \"))\n",
    "n1=0\n",
    "n2=1\n",
    "if n==1:\n",
    "    print(n1)\n",
    "else:\n",
    "    print(n1)\n",
    "    print(n2)\n",
    "    for i in range(n-2):\n",
    "        temp=n1+n2\n",
    "        print(temp)\n",
    "        n1=n2\n",
    "        n2=temp"
   ]
  },
  {
   "cell_type": "code",
   "execution_count": 6,
   "id": "82d3c578",
   "metadata": {},
   "outputs": [],
   "source": [
    "# 4. How memory is managed in Python?\n",
    "#     -> Memory management in Python involves a private heap containing all Python objects and data structures. The  \n",
    "#     management of this private heap is ensured internally by the Python memory manager."
   ]
  },
  {
   "cell_type": "code",
   "execution_count": null,
   "id": "2c460c9b",
   "metadata": {},
   "outputs": [],
   "source": [
    "# 5. What is the purpose continue statement in python?\n",
    "#     -> The continue keyword is used to end the current iteration in a for loop (or a while loop), and continues to the \n",
    "#     next iteration."
   ]
  },
  {
   "cell_type": "code",
   "execution_count": 19,
   "id": "3579676d",
   "metadata": {},
   "outputs": [
    {
     "name": "stdout",
     "output_type": "stream",
     "text": [
      "Enter value of first variable: 5\n",
      "Enter value of second variable: 8\n",
      "a is:8  b is:5\n"
     ]
    }
   ],
   "source": [
    "# 6. Write python program that swap two number with temp variable and \n",
    "# without temp variable.\n",
    "\n",
    "a=int(input(\"Enter value of first variable: \"))\n",
    "b=int(input(\"Enter value of second variable: \"))\n",
    "a=a+b\n",
    "b=a-b\n",
    "a=a-b\n",
    "print(f\"a is:{a}\",f\" b is:{b}\")"
   ]
  },
  {
   "cell_type": "code",
   "execution_count": 26,
   "id": "3c38a5be",
   "metadata": {},
   "outputs": [
    {
     "name": "stdout",
     "output_type": "stream",
     "text": [
      "Enter num: 5\n",
      "odd\n"
     ]
    }
   ],
   "source": [
    "# 7. Write a Python program to find whether a given number is even or odd, \n",
    "# print out an appropriate message to the user.\n",
    "\n",
    "n=int(input(\"Enter num: \"))\n",
    "if(n%2==0):\n",
    "    print(f\"even\")\n",
    "else:\n",
    "    print(f\"odd\")"
   ]
  },
  {
   "cell_type": "code",
   "execution_count": 43,
   "id": "ee332c31",
   "metadata": {},
   "outputs": [
    {
     "name": "stdout",
     "output_type": "stream",
     "text": [
      "Enter letter:f\n",
      "this is not vowel, it's consonant\n"
     ]
    }
   ],
   "source": [
    "# 8. Write a Python program to test whether a passed letter is a vowel or\n",
    "# not.\n",
    "\n",
    "vowel= (input(\"Enter letter:\"))\n",
    "if (vowel==\"a\"or vowel==\"e\"or vowel==\"i\"or vowel==\"o\"or vowel==\"u\" or \n",
    "    vowel==\"A\"or vowel==\"E\"or vowel==\"I\"or vowel==\"O\"or vowel==\"U\"):\n",
    "    print(\"vowel\")\n",
    "else:\n",
    "    print(\"this is not vowel, it's consonant\")"
   ]
  },
  {
   "cell_type": "code",
   "execution_count": 51,
   "id": "54f913c0",
   "metadata": {},
   "outputs": [
    {
     "name": "stdout",
     "output_type": "stream",
     "text": [
      "enter 1st number:7\n",
      "enter 2nd number:6\n",
      "enter 3rd number:7\n",
      "sum is 20: \n",
      "two equal value \n",
      " sum will be 0 :\n"
     ]
    }
   ],
   "source": [
    "# 9. Write a Python program to sum of three given integers. However, if\n",
    "# two values are equal sum will be zero.\n",
    "\n",
    "n1=int(input(\"enter 1st number:\"))\n",
    "n2=int(input(\"enter 2nd number:\"))\n",
    "n3=int(input(\"enter 3rd number:\"))\n",
    "sum=n1+n2+n3\n",
    "print(f\"sum is {sum}: \")\n",
    "if n1 == n2 or n1 == n3:\n",
    "    if n1 == n2:\n",
    "        print(f\"two equal value \\n sum will be {n1-n2} :\")\n",
    "    else:\n",
    "        print(f\"two equal value \\n sum will be {n1-n3} :\")\n",
    "        \n",
    "elif n2 == n1 or n2 == n3:\n",
    "    if n2 == n1:\n",
    "        print(f\"two equal value \\n sum will be {n2-n1} :\")\n",
    "    else:\n",
    "        print(f\"two equal value \\n sum will be {n1-n3} :\")\n",
    "else:\n",
    "    print(\"[Two value is not eqyal]\")"
   ]
  },
  {
   "cell_type": "code",
   "execution_count": 59,
   "id": "03b833e9",
   "metadata": {},
   "outputs": [
    {
     "name": "stdout",
     "output_type": "stream",
     "text": [
      "Enter first number :6\n",
      "Enter second numbeer :7\n",
      "False\n"
     ]
    }
   ],
   "source": [
    "# 10. Write a Python program that will return true if the two given integer\n",
    "# values are equal or their sum or difference is 5.\n",
    "\n",
    "a= int(input(\"Enter first number :\"))\n",
    "f= int(input(\"Enter second numbeer :\"))\n",
    "\n",
    "if ((a == f) or (a - f)== 5 or (a + f)== 5):\n",
    "    print(\"True\")\n",
    "else:\n",
    "    print(\"False\")"
   ]
  },
  {
   "cell_type": "code",
   "execution_count": 60,
   "id": "126e3e9c",
   "metadata": {},
   "outputs": [
    {
     "name": "stdout",
     "output_type": "stream",
     "text": [
      "enter number:7\n",
      "0\n",
      "1\n",
      "3\n",
      "6\n",
      "10\n",
      "15\n",
      "21\n",
      "28\n"
     ]
    }
   ],
   "source": [
    "# 11. Write a python program to sum of the first n positive integers.\n",
    "\n",
    "num=int(input(\"enter number:\"))\n",
    "sum=0\n",
    "for i in range (0,num+1):\n",
    "    sum=sum+i\n",
    "    print(sum)"
   ]
  },
  {
   "cell_type": "code",
   "execution_count": 62,
   "id": "318acc93",
   "metadata": {},
   "outputs": [
    {
     "name": "stdout",
     "output_type": "stream",
     "text": [
      "Enter name:bhumi\n",
      "str1\n",
      "5\n"
     ]
    }
   ],
   "source": [
    "# 12. Write a Python program to calculate the length of a string.\n",
    "\n",
    "str1 = input(\"Enter name:\")\n",
    "print(\"str1\")\n",
    "print(len(str1))"
   ]
  },
  {
   "cell_type": "code",
   "execution_count": 6,
   "id": "b113dbaf",
   "metadata": {},
   "outputs": [
    {
     "name": "stdout",
     "output_type": "stream",
     "text": [
      "Enter the String: bhumi thakar\n",
      "b=1\n",
      "h=2\n",
      "u=1\n",
      "m=1\n",
      "i=1\n",
      " =1\n",
      "t=1\n",
      "a=2\n",
      "k=1\n",
      "r=1\n",
      "\n"
     ]
    }
   ],
   "source": [
    "#13  Write a Python program to count the number of characters (character frequency) in a string\n",
    "\n",
    "str1=input(\"Enter the String: \")\n",
    "str2=\"\"\n",
    "for i in str1:\n",
    "    if str1.count(i)<2:\n",
    "        str2=str2+i+\"=\"+str(str1.count(i))+\"\\n\"\n",
    "    else:\n",
    "        if i not in str2:\n",
    "            str2=(str2+i+\"=\"+str(str1.count(i))+\"\\n\")\n",
    "        \n",
    "print(str2)"
   ]
  },
  {
   "cell_type": "code",
   "execution_count": 40,
   "id": "c77cffbc",
   "metadata": {},
   "outputs": [],
   "source": [
    "# 14. What are negative indexes and why are they used?\n",
    "#    -> Negative Indexing is used to in Python to begin slicing from the end of the string i.e. the last. \n",
    "#    Slicing in Python gets a sub-string from a string. The slicing range is set as parameters i.e. start, stop and step."
   ]
  },
  {
   "cell_type": "code",
   "execution_count": 4,
   "id": "2c7a9be0",
   "metadata": {},
   "outputs": [
    {
     "name": "stdout",
     "output_type": "stream",
     "text": [
      "Enter sentence :hello i am student hello world\n",
      "Enter character to count occurrences :l\n",
      "5\n"
     ]
    }
   ],
   "source": [
    "# 15.    Write a Python program to count occurrences of a substring in a string.\n",
    "\n",
    "string = input(\"Enter sentence :\")\n",
    "char = input(\"Enter character to count occurrences :\")\n",
    "\n",
    "print(string.count(f\"{char}\"))"
   ]
  },
  {
   "cell_type": "code",
   "execution_count": 4,
   "id": "1653bff7",
   "metadata": {},
   "outputs": [
    {
     "name": "stdout",
     "output_type": "stream",
     "text": [
      "Enter the String: bhumi thakar\n",
      "{'bhumi': 1, 'thakar': 1}\n"
     ]
    }
   ],
   "source": [
    "# 16.    Write a Python program to count the occurrences of each word in a given sentence\n",
    "\n",
    "str1=input(\"Enter the String: \")\n",
    "words = str1.split()  #number convort to split\n",
    "string={}\n",
    "\n",
    "\n",
    "for i in words:\n",
    "    if i in string:\n",
    "        string[i]+=1  \n",
    "    else:\n",
    "        string[i]=1  \n",
    "print(string)"
   ]
  },
  {
   "cell_type": "code",
   "execution_count": 6,
   "id": "483ddd31",
   "metadata": {},
   "outputs": [
    {
     "name": "stdout",
     "output_type": "stream",
     "text": [
      "Enter A String1 : 6\n",
      "Enter A String2 : 5\n",
      "You entered this string   : 6 | 5\n",
      "This string is about swap : 5 | 6\n"
     ]
    }
   ],
   "source": [
    "# 17.    Write a Python program to get a single string from two given strings, separated by a space and \n",
    "#          swap the first two characters of each string.\n",
    "    \n",
    "#take input string from user\n",
    "a =(input(\"Enter A String1 : \"))\n",
    "b =(input(\"Enter A String2 : \"))\n",
    "print(f'You entered this string   : {a} | {b}')\n",
    "\n",
    "#swap first two characters of given string\n",
    "a1 = b[:2] + a[2:] \n",
    "b1 = a[:2] + b[2:]\n",
    "\n",
    "#print result\n",
    "print(f'This string is about swap : {a1} | {b1}')"
   ]
  },
  {
   "cell_type": "code",
   "execution_count": 10,
   "id": "cee34114",
   "metadata": {},
   "outputs": [
    {
     "name": "stdout",
     "output_type": "stream",
     "text": [
      "Enter sentence :typ\n",
      "typing\n"
     ]
    }
   ],
   "source": [
    "# 18.    Write a Python program to add 'ing' at the end of a given string (length \n",
    "#        should be at least 3). If the given string already ends with 'ing' then add \n",
    "#        'ly' instead if the string length of the given string is less than 3, leave it unchanged.\n",
    "\n",
    "string = input(\"Enter sentence :\")\n",
    "#length should be at least 3\n",
    "if len(string) < 3:\n",
    "    print(string)\n",
    "#endswith\n",
    "elif string.endswith('ing'):\n",
    "    #If 'ing' is given at the end of the string then 'ly' will be instead\n",
    "    print(string + 'ly')\n",
    "else:\n",
    "    #If 'ing' leave it unchanged.\n",
    "    print(string + 'ing')"
   ]
  },
  {
   "cell_type": "code",
   "execution_count": null,
   "id": "bc1276aa",
   "metadata": {},
   "outputs": [],
   "source": [
    "# 19.    Write a Python program to find the first appearance of the substring \n",
    "         # 'not' and 'poor' from a given string, if 'not' follows the 'poor', replace the \n",
    "         # whole 'not'...'poor' substring with 'good'. Return the resulting string.\n",
    "\n",
    "        \n",
    "str1=input(\"Enter String\")\n",
    "ind_not=str1.find(\"not\")\n",
    "ind_poor=str1.find(\"poor\")\n",
    "if ind_not<ind_poor:\n",
    "    str2=str1[:ind_not]+\"good\"+str1[ind_poor+4:]\n",
    "print(str2)"
   ]
  },
  {
   "cell_type": "code",
   "execution_count": 7,
   "id": "f818fe85",
   "metadata": {},
   "outputs": [
    {
     "name": "stdout",
     "output_type": "stream",
     "text": [
      "4\n",
      "8\n",
      "8\n",
      "9\n",
      "15\n"
     ]
    }
   ],
   "source": [
    "# 20.    Write a Python function that takes a list of words and returns the length of the longest one.\n",
    "l1=[\"fkbj\",\"rgrgrggr\",\"grhgurhg\",\"G6hhyh6hy\",\"rfhtgghfbvnthvj\"]\n",
    "str2=\"\"\n",
    "for i in l1:\n",
    "    print(len(i))\n",
    "    str2=str2+\" \"+str(len(i))\n",
    "list1=str2.split(\" \")\n",
    "list2=[]\n",
    "for i in list1:\n",
    "    list2.append(str(i))"
   ]
  },
  {
   "cell_type": "code",
   "execution_count": 2,
   "id": "409c1450",
   "metadata": {},
   "outputs": [
    {
     "name": "stdout",
     "output_type": "stream",
     "text": [
      "Enter String: ghjk\n",
      "kjhg\n"
     ]
    }
   ],
   "source": [
    "# 21.    Write a Python function to reverses a string if its length is a multiple of 4.\n",
    "\n",
    "str1=input(\"Enter String: \")\n",
    "if len(str1)%4==0:\n",
    "    print(str1[-1::-1])"
   ]
  },
  {
   "cell_type": "code",
   "execution_count": null,
   "id": "5691eae1",
   "metadata": {},
   "outputs": [],
   "source": [
    "# 22.    Write a Python program to get a string made of the first 2 and the last 2 chars from a given a string.\n",
    "#          If the string length is less than 2, return instead of the empty string.\n",
    "\n",
    "s=input()\n",
    "if len(s)<2:\n",
    "    print(\"\")\n",
    "else:\n",
    "    st=s[:2]+s[-2:]\n",
    "    print(st)"
   ]
  },
  {
   "cell_type": "code",
   "execution_count": 4,
   "id": "1fccc5cf",
   "metadata": {},
   "outputs": [
    {
     "name": "stdout",
     "output_type": "stream",
     "text": [
      "Enter the sting :thakar\n",
      "3\n",
      "aka\n"
     ]
    }
   ],
   "source": [
    "# 23.    Write a Python function to insert a string in the middle of a string.\n",
    "\n",
    "string=input(\"Enter the sting :\")\n",
    "middleIndex=int(len(string)/2)\n",
    "print (middleIndex)\n",
    "print(string[middleIndex-1:middleIndex+2])"
   ]
  }
 ],
 "metadata": {
  "kernelspec": {
   "display_name": "Python 3 (ipykernel)",
   "language": "python",
   "name": "python3"
  },
  "language_info": {
   "codemirror_mode": {
    "name": "ipython",
    "version": 3
   },
   "file_extension": ".py",
   "mimetype": "text/x-python",
   "name": "python",
   "nbconvert_exporter": "python",
   "pygments_lexer": "ipython3",
   "version": "3.10.9"
  }
 },
 "nbformat": 4,
 "nbformat_minor": 5
}
