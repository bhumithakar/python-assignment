{
 "cells": [
  {
   "cell_type": "code",
   "execution_count": 8,
   "id": "716d883d",
   "metadata": {},
   "outputs": [
    {
     "name": "stdout",
     "output_type": "stream",
     "text": [
      "Enter A Number: 5\n",
      "Positive\n"
     ]
    }
   ],
   "source": [
    "# 1. Write a Python program to check if a number is positive, negative or zero.\n",
    "\n",
    "num=int(input(\"Enter A Number: \"))#convert a to an integer(if possible)\n",
    "if num>0:\n",
    "    print(\"Positive\")\n",
    "elif num<0:\n",
    "    print(\"negative\")\n",
    "else:\n",
    "    print(\"Zero\")"
   ]
  },
  {
   "cell_type": "code",
   "execution_count": 9,
   "id": "d6fc947f",
   "metadata": {},
   "outputs": [
    {
     "name": "stdout",
     "output_type": "stream",
     "text": [
      "Enter num: 5\n",
      "120\n"
     ]
    }
   ],
   "source": [
    "# 2. Write a Python program to get the Factorial number of given number.\n",
    "\n",
    "num=int(input(\"Enter num: \"))\n",
    "fact=1\n",
    "for i in range(1,num+1):\n",
    "    fact=fact*i\n",
    "print(fact)"
   ]
  },
  {
   "cell_type": "code",
   "execution_count": 64,
   "id": "7a574f4d",
   "metadata": {},
   "outputs": [],
   "source": [
    "# 3. Write a Python program to get the Fibonacci series of given range.\n",
    "\n"
   ]
  },
  {
   "cell_type": "code",
   "execution_count": 6,
   "id": "82d3c578",
   "metadata": {},
   "outputs": [],
   "source": [
    "# 4. How memory is managed in Python?\n",
    "#     -> Memory management in Python involves a private heap containing all Python objects and data structures. The  \n",
    "#     management of this private heap is ensured internally by the Python memory manager."
   ]
  },
  {
   "cell_type": "code",
   "execution_count": null,
   "id": "2c460c9b",
   "metadata": {},
   "outputs": [],
   "source": [
    "# 5. What is the purpose continue statement in python?\n",
    "#     -> The continue keyword is used to end the current iteration in a for loop (or a while loop), and continues to the \n",
    "#     next iteration."
   ]
  },
  {
   "cell_type": "code",
   "execution_count": 19,
   "id": "3579676d",
   "metadata": {},
   "outputs": [
    {
     "name": "stdout",
     "output_type": "stream",
     "text": [
      "Enter value of first variable: 5\n",
      "Enter value of second variable: 8\n",
      "a is:8  b is:5\n"
     ]
    }
   ],
   "source": [
    "# 6. Write python program that swap two number with temp variable and \n",
    "# without temp variable.\n",
    "\n",
    "a=int(input(\"Enter value of first variable: \"))\n",
    "b=int(input(\"Enter value of second variable: \"))\n",
    "a=a+b\n",
    "b=a-b\n",
    "a=a-b\n",
    "print(f\"a is:{a}\",f\" b is:{b}\")"
   ]
  },
  {
   "cell_type": "code",
   "execution_count": 26,
   "id": "3c38a5be",
   "metadata": {},
   "outputs": [
    {
     "name": "stdout",
     "output_type": "stream",
     "text": [
      "Enter num: 5\n",
      "odd\n"
     ]
    }
   ],
   "source": [
    "# 7. Write a Python program to find whether a given number is even or odd, \n",
    "# print out an appropriate message to the user.\n",
    "\n",
    "n=int(input(\"Enter num: \"))\n",
    "if(n%2==0):\n",
    "    print(f\"even\")\n",
    "else:\n",
    "    print(f\"odd\")"
   ]
  },
  {
   "cell_type": "code",
   "execution_count": 43,
   "id": "ee332c31",
   "metadata": {},
   "outputs": [
    {
     "name": "stdout",
     "output_type": "stream",
     "text": [
      "Enter letter:f\n",
      "this is not vowel, it's consonant\n"
     ]
    }
   ],
   "source": [
    "# 8. Write a Python program to test whether a passed letter is a vowel or\n",
    "# not.\n",
    "\n",
    "vowel= (input(\"Enter letter:\"))\n",
    "if (vowel==\"a\"or vowel==\"e\"or vowel==\"i\"or vowel==\"o\"or vowel==\"u\" or \n",
    "    vowel==\"A\"or vowel==\"E\"or vowel==\"I\"or vowel==\"O\"or vowel==\"U\"):\n",
    "    print(\"vowel\")\n",
    "else:\n",
    "    print(\"this is not vowel, it's consonant\")"
   ]
  },
  {
   "cell_type": "code",
   "execution_count": 51,
   "id": "54f913c0",
   "metadata": {},
   "outputs": [
    {
     "name": "stdout",
     "output_type": "stream",
     "text": [
      "enter 1st number:7\n",
      "enter 2nd number:6\n",
      "enter 3rd number:7\n",
      "sum is 20: \n",
      "two equal value \n",
      " sum will be 0 :\n"
     ]
    }
   ],
   "source": [
    "# 9. Write a Python program to sum of three given integers. However, if\n",
    "# two values are equal sum will be zero.\n",
    "\n",
    "n1=int(input(\"enter 1st number:\"))\n",
    "n2=int(input(\"enter 2nd number:\"))\n",
    "n3=int(input(\"enter 3rd number:\"))\n",
    "sum=n1+n2+n3\n",
    "print(f\"sum is {sum}: \")\n",
    "if n1 == n2 or n1 == n3:\n",
    "    if n1 == n2:\n",
    "        print(f\"two equal value \\n sum will be {n1-n2} :\")\n",
    "    else:\n",
    "        print(f\"two equal value \\n sum will be {n1-n3} :\")\n",
    "        \n",
    "elif n2 == n1 or n2 == n3:\n",
    "    if n2 == n1:\n",
    "        print(f\"two equal value \\n sum will be {n2-n1} :\")\n",
    "    else:\n",
    "        print(f\"two equal value \\n sum will be {n1-n3} :\")\n",
    "else:\n",
    "    print(\"[Two value is not eqyal]\")"
   ]
  },
  {
   "cell_type": "code",
   "execution_count": 59,
   "id": "03b833e9",
   "metadata": {},
   "outputs": [
    {
     "name": "stdout",
     "output_type": "stream",
     "text": [
      "Enter first number :6\n",
      "Enter second numbeer :7\n",
      "False\n"
     ]
    }
   ],
   "source": [
    "# 10. Write a Python program that will return true if the two given integer\n",
    "# values are equal or their sum or difference is 5.\n",
    "\n",
    "a= int(input(\"Enter first number :\"))\n",
    "f= int(input(\"Enter second numbeer :\"))\n",
    "\n",
    "if ((a == f) or (a - f)== 5 or (a + f)== 5):\n",
    "    print(\"True\")\n",
    "else:\n",
    "    print(\"False\")"
   ]
  },
  {
   "cell_type": "code",
   "execution_count": 60,
   "id": "126e3e9c",
   "metadata": {},
   "outputs": [
    {
     "name": "stdout",
     "output_type": "stream",
     "text": [
      "enter number:7\n",
      "0\n",
      "1\n",
      "3\n",
      "6\n",
      "10\n",
      "15\n",
      "21\n",
      "28\n"
     ]
    }
   ],
   "source": [
    "# 11. Write a python program to sum of the first n positive integers.\n",
    "\n",
    "num=int(input(\"enter number:\"))\n",
    "sum=0\n",
    "for i in range (0,num+1):\n",
    "    sum=sum+i\n",
    "    print(sum)"
   ]
  },
  {
   "cell_type": "code",
   "execution_count": 62,
   "id": "318acc93",
   "metadata": {},
   "outputs": [
    {
     "name": "stdout",
     "output_type": "stream",
     "text": [
      "Enter name:bhumi\n",
      "str1\n",
      "5\n"
     ]
    }
   ],
   "source": [
    "# 12. Write a Python program to calculate the length of a string.\n",
    "\n",
    "str1 = input(\"Enter name:\")\n",
    "print(\"str1\")\n",
    "print(len(str1))"
   ]
  },
  {
   "cell_type": "code",
   "execution_count": null,
   "id": "b113dbaf",
   "metadata": {},
   "outputs": [],
   "source": [
    "# 13. Write a Python program to count the number of characters (character\n",
    "# frequency) in a string\n",
    "\n"
   ]
  },
  {
   "cell_type": "code",
   "execution_count": 40,
   "id": "c77cffbc",
   "metadata": {},
   "outputs": [],
   "source": [
    "# 14. What are negative indexes and why are they used?\n",
    "#    -> Negative Indexing is used to in Python to begin slicing from the end of the string i.e. the last. \n",
    "#    Slicing in Python gets a sub-string from a string. The slicing range is set as parameters i.e. start, stop and step."
   ]
  }
 ],
 "metadata": {
  "kernelspec": {
   "display_name": "Python 3 (ipykernel)",
   "language": "python",
   "name": "python3"
  },
  "language_info": {
   "codemirror_mode": {
    "name": "ipython",
    "version": 3
   },
   "file_extension": ".py",
   "mimetype": "text/x-python",
   "name": "python",
   "nbconvert_exporter": "python",
   "pygments_lexer": "ipython3",
   "version": "3.10.9"
  }
 },
 "nbformat": 4,
 "nbformat_minor": 5
}
